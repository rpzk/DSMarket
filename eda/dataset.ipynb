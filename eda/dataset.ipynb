{
 "cells": [
  {
   "cell_type": "code",
   "execution_count": 1,
   "metadata": {},
   "outputs": [
    {
     "name": "stderr",
     "output_type": "stream",
     "text": [
      "2024-09-22 09:51:56,105 - INFO - Lendo item_sales.csv\n",
      "2024-09-22 09:52:05,084 - INFO - item_sales shape antes do melt: (30490, 1920)\n",
      "2024-09-22 09:52:17,647 - INFO - item_sales shape após o melt: (58327370, 9)\n",
      "2024-09-22 09:52:17,648 - INFO - Lendo daily_calendar_with_events.csv\n",
      "2024-09-22 09:52:17,671 - INFO - calendar shape: (1913, 1)\n",
      "2024-09-22 09:52:28,329 - INFO - item_sales após o merge com calendar: (58327370, 10)\n",
      "2024-09-22 09:52:40,058 - INFO - yearweek head:\n",
      "0    201104\n",
      "1    201104\n",
      "2    201104\n",
      "3    201104\n",
      "4    201104\n",
      "Name: yearweek, dtype: int64\n"
     ]
    }
   ],
   "source": []
  }
 ],
 "metadata": {
  "kernelspec": {
   "display_name": "venv",
   "language": "python",
   "name": "python3"
  },
  "language_info": {
   "codemirror_mode": {
    "name": "ipython",
    "version": 3
   },
   "file_extension": ".py",
   "mimetype": "text/x-python",
   "name": "python",
   "nbconvert_exporter": "python",
   "pygments_lexer": "ipython3",
   "version": "3.11.7"
  }
 },
 "nbformat": 4,
 "nbformat_minor": 2
}
