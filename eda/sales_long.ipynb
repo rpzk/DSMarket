{
 "cells": [
  {
   "cell_type": "code",
   "execution_count": 1,
   "metadata": {},
   "outputs": [],
   "source": [
    "import dask.dataframe as dd\n",
    "import pandas as pd\n"
   ]
  },
  {
   "cell_type": "code",
   "execution_count": 2,
   "metadata": {},
   "outputs": [],
   "source": [
    "\n",
    "# Carregar a tabela com d_x colunas\n",
    "sales = dd.read_csv('../data/item_sales.csv')\n"
   ]
  },
  {
   "cell_type": "code",
   "execution_count": 3,
   "metadata": {},
   "outputs": [
    {
     "name": "stdout",
     "output_type": "stream",
     "text": [
      "Colunas de dias encontradas: ['d_1', 'd_2', 'd_3', 'd_4', 'd_5', 'd_6', 'd_7', 'd_8', 'd_9', 'd_10']...\n"
     ]
    }
   ],
   "source": [
    "# Identificar todas as colunas que começam com 'd_'\n",
    "d_columns = [col for col in sales.columns if col.startswith('d_')]\n",
    "\n",
    "# Exibir as primeiras 10 colunas encontradas para verificação\n",
    "print(f\"Colunas de dias encontradas: {d_columns[:10]}...\")"
   ]
  },
  {
   "cell_type": "code",
   "execution_count": 4,
   "metadata": {},
   "outputs": [],
   "source": [
    "def melt_sales(partition):\n",
    "    \"\"\"\n",
    "    Função para derreter a partição do DataFrame sales.\n",
    "    \n",
    "    :param partition: Partição do DataFrame Dask.\n",
    "    :return: DataFrame derretido.\n",
    "    \"\"\"\n",
    "    return partition.melt(\n",
    "        id_vars=['id', 'item', 'category', 'department', 'store', 'store_code', 'region'],\n",
    "        value_vars=d_columns,\n",
    "        var_name='d',\n",
    "        value_name='sales'\n",
    "    )\n"
   ]
  },
  {
   "cell_type": "code",
   "execution_count": 5,
   "metadata": {},
   "outputs": [],
   "source": [
    "# Aplicar a função melt_sales em cada partição\n",
    "sales_long = sales.map_partitions(\n",
    "    melt_sales,\n",
    "    meta={\n",
    "        'id': 'object',\n",
    "        'item': 'object',\n",
    "        'category': 'object',\n",
    "        'department': 'object',\n",
    "        'store': 'object',\n",
    "        'store_code': 'object',\n",
    "        'region': 'object',\n",
    "        'd': 'object',\n",
    "        'sales': 'int32'\n",
    "    }\n",
    ")"
   ]
  },
  {
   "cell_type": "code",
   "execution_count": 6,
   "metadata": {},
   "outputs": [],
   "source": [
    "# Reparticionar o DataFrame para ter mais partições menores\n",
    "sales_long = sales_long.repartition(npartitions=100)\n"
   ]
  },
  {
   "cell_type": "code",
   "execution_count": 7,
   "metadata": {},
   "outputs": [],
   "source": [
    "# Salvar como múltiplos arquivos Parquet\n",
    "sales_long.to_parquet('../data/sales_long_parquet/', write_index=False)\n"
   ]
  }
 ],
 "metadata": {
  "kernelspec": {
   "display_name": "venv",
   "language": "python",
   "name": "python3"
  },
  "language_info": {
   "codemirror_mode": {
    "name": "ipython",
    "version": 3
   },
   "file_extension": ".py",
   "mimetype": "text/x-python",
   "name": "python",
   "nbconvert_exporter": "python",
   "pygments_lexer": "ipython3",
   "version": "3.11.7"
  }
 },
 "nbformat": 4,
 "nbformat_minor": 2
}
