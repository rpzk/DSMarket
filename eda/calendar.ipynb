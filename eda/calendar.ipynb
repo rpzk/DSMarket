{
 "cells": [
  {
   "cell_type": "code",
   "execution_count": 14,
   "metadata": {},
   "outputs": [],
   "source": [
    "import dask.dataframe as dd\n",
    "\n",
    "# Carregar o calendário com a coluna 'date' como datetime\n",
    "calendar = dd.read_csv('../data/daily_calendar_with_events.csv', parse_dates=['date'])"
   ]
  },
  {
   "cell_type": "code",
   "execution_count": 15,
   "metadata": {},
   "outputs": [
    {
     "name": "stdout",
     "output_type": "stream",
     "text": [
      "        date    weekday  weekday_int    d event yearweek\n",
      "0 2011-01-29   Saturday            1  d_1   NaN   201104\n",
      "1 2011-01-30     Sunday            2  d_2   NaN   201104\n",
      "2 2011-01-31     Monday            3  d_3   NaN   201105\n",
      "3 2011-02-01    Tuesday            4  d_4   NaN   201105\n",
      "4 2011-02-02  Wednesday            5  d_5   NaN   201105\n"
     ]
    }
   ],
   "source": [
    "def add_yearweek(partition):\n",
    "    isocal = partition['date'].dt.isocalendar()\n",
    "    # Formatar 'yearweek' como string com zero padding para a semana\n",
    "    partition['yearweek'] = isocal.year.astype(str) + isocal.week.astype(str).str.zfill(2)\n",
    "    return partition\n",
    "\n",
    "# Aplicar a função a cada partição do DataFrame\n",
    "calendar = calendar.map_partitions(add_yearweek, meta=calendar.assign(yearweek='object'))\n",
    "\n",
    "# Verificar as primeiras linhas\n",
    "print(calendar.head())"
   ]
  },
  {
   "cell_type": "code",
   "execution_count": 16,
   "metadata": {},
   "outputs": [
    {
     "name": "stdout",
     "output_type": "stream",
     "text": [
      "date            datetime64[ns]\n",
      "weekday        string[pyarrow]\n",
      "weekday_int              int64\n",
      "d              string[pyarrow]\n",
      "event          string[pyarrow]\n",
      "yearweek                object\n",
      "dtype: object\n"
     ]
    }
   ],
   "source": [
    "# Verificar os tipos das colunas\n",
    "print(calendar.dtypes)\n"
   ]
  },
  {
   "cell_type": "code",
   "execution_count": 17,
   "metadata": {},
   "outputs": [],
   "source": [
    "# Salvar como múltiplos arquivos Parquet\n",
    "calendar.to_parquet('../data/calendar_with_yearweek_parquet/', write_index=False)"
   ]
  }
 ],
 "metadata": {
  "kernelspec": {
   "display_name": "venv",
   "language": "python",
   "name": "python3"
  },
  "language_info": {
   "codemirror_mode": {
    "name": "ipython",
    "version": 3
   },
   "file_extension": ".py",
   "mimetype": "text/x-python",
   "name": "python",
   "nbconvert_exporter": "python",
   "pygments_lexer": "ipython3",
   "version": "3.11.7"
  }
 },
 "nbformat": 4,
 "nbformat_minor": 2
}
