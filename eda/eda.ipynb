{
 "cells": [
  {
   "cell_type": "code",
   "execution_count": 1,
   "metadata": {},
   "outputs": [],
   "source": [
    "import os\n",
    "import dask.dataframe as dd\n",
    "from sqlalchemy import create_engine\n",
    "\n",
    "from dotenv import load_dotenv\n",
    "\n",
    "# Carregar variáveis de ambiente\n",
    "load_dotenv()\n",
    "\n",
    "# Obter variáveis de ambiente\n",
    "user = os.environ.get('DB_USER')\n",
    "password = os.environ.get('DB_PASSWORD')\n",
    "host = os.environ.get('DB_HOST')\n",
    "port = os.environ.get('DB_PORT', '5432')\n",
    "database = os.environ.get('DB_NAME')\n",
    "\n",
    "# Criar string de conexão\n",
    "connection_string = f'postgresql+psycopg2://{user}:{password}@{host}:{port}/{database}'\n",
    "\n",
    "# Nome da tabela\n",
    "table_name = 'ds_market'\n",
    "\n",
    "# Carregar a tabela como um Dask DataFrame\n",
    "# Nota: Dask requer uma coluna de índice para particionamento; ajuste conforme sua tabela\n",
    "df_dask = dd.read_sql_table(\n",
    "    table_name=table_name,\n",
    "    con=connection_string,  # Passar a string de conexão diretamente\n",
    "    index_col='date',  # Substitua 'id' por uma coluna indexável adequada\n",
    "    npartitions=10\n",
    ")\n",
    "\n",
    "# Exemplo de EDA com Dask\n",
    "print(df_dask.head())"
   ]
  }
 ],
 "metadata": {
  "kernelspec": {
   "display_name": "venv",
   "language": "python",
   "name": "python3"
  },
  "language_info": {
   "codemirror_mode": {
    "name": "ipython",
    "version": 3
   },
   "file_extension": ".py",
   "mimetype": "text/x-python",
   "name": "python",
   "nbconvert_exporter": "python",
   "pygments_lexer": "ipython3",
   "version": "3.11.7"
  }
 },
 "nbformat": 4,
 "nbformat_minor": 2
}
