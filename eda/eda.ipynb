{
 "cells": [
  {
   "cell_type": "code",
   "execution_count": 1,
   "metadata": {},
   "outputs": [],
   "source": [
    "import os\n",
    "import dask.dataframe as dd\n",
    "import pandas as pd\n",
    "import matplotlib.pyplot as plt\n",
    "from sqlalchemy import create_engine\n",
    "from dotenv import load_dotenv"
   ]
  },
  {
   "cell_type": "code",
   "execution_count": 2,
   "metadata": {},
   "outputs": [],
   "source": [
    "# Carregar variáveis de ambiente\n",
    "load_dotenv()\n",
    "\n",
    "# Obter variáveis de ambiente\n",
    "user = os.environ.get('DB_USER')\n",
    "password = os.environ.get('DB_PASSWORD')\n",
    "host = os.environ.get('DB_HOST')\n",
    "port = os.environ.get('DB_PORT', '5432')\n",
    "database = os.environ.get('DB_NAME')\n",
    "\n",
    "# Criar string de conexão\n",
    "connection_string = f'postgresql://{user}:{password}@{host}:{port}/{database}'\n",
    "\n",
    "# Criar conexão com o banco de dados\n",
    "engine = create_engine(connection_string)"
   ]
  },
  {
   "cell_type": "code",
   "execution_count": 3,
   "metadata": {},
   "outputs": [],
   "source": [
    "def load_data_in_chunks(query, engine, chunksize=50000):\n",
    "    # Lista para armazenar os DataFrames Dask\n",
    "    df_list = []\n",
    "    \n",
    "    # Ler os dados em chunks usando pandas\n",
    "    for chunk in pd.read_sql(query, engine, chunksize=chunksize):\n",
    "        # Converter o chunk pandas DataFrame para Dask DataFrame\n",
    "        ddf_chunk = dd.from_pandas(chunk, npartitions=1)\n",
    "        df_list.append(ddf_chunk)\n",
    "    \n",
    "    # Concatenar todos os Dask DataFrames em um único DataFrame Dask\n",
    "    df = dd.concat(df_list)\n",
    "    return df"
   ]
  },
  {
   "cell_type": "code",
   "execution_count": 4,
   "metadata": {},
   "outputs": [],
   "source": [
    "query = 'SELECT * FROM ds_market'\n",
    "df = load_data_in_chunks(query, engine)"
   ]
  },
  {
   "cell_type": "code",
   "execution_count": 5,
   "metadata": {},
   "outputs": [],
   "source": [
    "# Agrupar por 'item' e somar as vendas\n",
    "item_sales = df.groupby('item')['sales'].sum().compute()\n",
    "\n",
    "# Converter para um DataFrame pandas para facilitar a manipulação\n",
    "item_sales = item_sales.reset_index()"
   ]
  }
 ],
 "metadata": {
  "kernelspec": {
   "display_name": ".venv",
   "language": "python",
   "name": "python3"
  },
  "language_info": {
   "codemirror_mode": {
    "name": "ipython",
    "version": 3
   },
   "file_extension": ".py",
   "mimetype": "text/x-python",
   "name": "python",
   "nbconvert_exporter": "python",
   "pygments_lexer": "ipython3",
   "version": "3.12.3"
  }
 },
 "nbformat": 4,
 "nbformat_minor": 2
}
