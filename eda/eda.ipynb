{
 "cells": [
  {
   "cell_type": "code",
   "execution_count": null,
   "metadata": {},
   "outputs": [],
   "source": [
    "ds_market.isnull().sum().compute()\n",
    "# Verificar se há valores ausentes nas colunas principais\n",
    "missing_values = ds_market.isnull().sum().compute()\n",
    "print(\"Valores ausentes em cada coluna:\\n\", missing_values)\n",
    "\n",
    "# Verificar duplicatas com base em 'item', 'store_code', e 'yearweek'\n",
    "duplicates = ds_market.duplicated(subset=['item', 'store_code', 'yearweek']).compute()\n",
    "print(f\"Número de duplicatas: {duplicates.sum()}\")\n",
    "\n",
    "# Descrever os dados para verificar os intervalos de valores\n",
    "print(ds_market[['sell_price', 'sales']].describe().compute())\n",
    "\n",
    "# Verificar possíveis anomalias como vendas elevadas com preços muito baixos\n",
    "anomalies = ds_market[(ds_market['sell_price'] < 1) & (ds_market['sales'] > 100)].compute()\n",
    "print(\"Possíveis anomalias:\\n\", anomalies)\n",
    "\n",
    "# Verificar se o yearweek está ordenado corretamente\n",
    "sorted_weeks = ds_market[['yearweek', 'date']].drop_duplicates().compute().sort_values('date')\n",
    "print(\"Verificação de yearweek ordenado por data:\\n\", sorted_weeks.head())\n",
    "\n",
    "# Verificar a associação de eventos com vendas em semanas importantes (e.g., eventos como 'Black Friday')\n",
    "events_with_sales = ds_market[ds_market['event'].notnull() & (ds_market['sales'] > 0)].compute()\n",
    "print(\"Vendas durante eventos importantes:\\n\", events_with_sales[['event', 'yearweek', 'sales']])\n",
    "\n",
    "# Calcular estatísticas descritivas para identificar possíveis outliers\n",
    "sales_summary = ds_market['sales'].describe().compute()\n",
    "price_summary = ds_market['sell_price'].describe().compute()\n",
    "\n",
    "print(\"Resumo das vendas:\\n\", sales_summary)\n",
    "print(\"Resumo dos preços de venda:\\n\", price_summary)\n",
    "\n",
    "# Verificar outliers em vendas e preços\n",
    "outliers_sales = ds_market[ds_market['sales'] > sales_summary['75%'] + 1.5 * (sales_summary['75%'] - sales_summary['25%'])].compute()\n",
    "outliers_price = ds_market[ds_market['sell_price'] > price_summary['75%'] + 1.5 * (price_summary['75%'] - price_summary['25%'])].compute()\n",
    "\n",
    "print(\"Outliers em vendas:\\n\", outliers_sales)\n",
    "print(\"Outliers em preços de venda:\\n\", outliers_price)\n",
    "\n",
    "# Calcular correlação entre vendas e preço de venda\n",
    "correlation = ds_market[['sell_price', 'sales']].corr().compute()\n",
    "print(\"Correlação entre preço de venda e vendas:\\n\", correlation)\n",
    "\n",
    "# Verificar se as vendas aumentam durante eventos específicos\n",
    "event_sales = ds_market[ds_market['event'].notnull()].groupby('event')['sales'].sum().compute()\n",
    "print(\"Vendas durante eventos:\\n\", event_sales)\n"
   ]
  }
 ],
 "metadata": {
  "language_info": {
   "name": "python"
  }
 },
 "nbformat": 4,
 "nbformat_minor": 2
}
