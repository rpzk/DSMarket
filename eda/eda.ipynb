{
 "cells": [
  {
   "cell_type": "code",
   "execution_count": null,
   "metadata": {},
   "outputs": [],
   "source": [
    "import os\n",
    "import dask.dataframe as dd\n",
    "from sqlalchemy import create_engine\n",
    "\n",
    "from dotenv import load_dotenv\n",
    "\n",
    "# Carregar variáveis de ambiente\n",
    "load_dotenv()\n",
    "\n",
    "# Obter variáveis de ambiente\n",
    "user = os.environ.get('DB_USER')\n",
    "password = os.environ.get('DB_PASSWORD')\n",
    "host = os.environ.get('DB_HOST')\n",
    "port = os.environ.get('DB_PORT', '5432')\n",
    "database = os.environ.get('DB_NAME')\n",
    "\n",
    "# Criar string de conexão\n",
    "connection_string = f'postgresql+psycopg2://{user}:{password}@{host}:{port}/{database}'\n",
    "\n",
    "# Nome da tabela\n",
    "table_name = 'ds_market'\n",
    "\n",
    "# Carregar a tabela como um Dask DataFrame\n",
    "# Nota: Dask requer uma coluna de índice para particionamento; ajuste conforme sua tabela\n",
    "df_dask = dd.read_sql_table(\n",
    "    table_name=table_name,\n",
    "    con=connection_string,  # Passar a string de conexão diretamente\n",
    "    index_col='date',  # Substitua 'id' por uma coluna indexável adequada\n",
    "    npartitions=10\n",
    ")\n",
    "\n",
    "# Exemplo de EDA com Dask\n",
    "print(df_dask.head())"
   ]
  },
  {
   "cell_type": "code",
   "execution_count": 4,
   "metadata": {},
   "outputs": [
    {
     "name": "stdout",
     "output_type": "stream",
     "text": [
      "              sales      yearweek    sell_price                 date\n",
      "count  5.835424e+07  5.835424e+07  5.835424e+07             58354236\n",
      "mean   1.126352e+00  2.013469e+05  4.333558e+00                  NaN\n",
      "std    3.872972e+00  1.516413e+02  4.494516e+00                  NaN\n",
      "min    0.000000e+00  2.011040e+05  0.000000e+00  2011-01-29 00:00:00\n",
      "25%    0.000000e+00  2.012140e+05  2.400000e+00  2012-04-03 00:00:00\n",
      "50%    0.000000e+00  2.013370e+05  4.050000e+00  2013-09-11 00:00:00\n",
      "75%    1.000000e+00  2.015010e+05  7.180000e+00  2015-01-02 00:00:00\n",
      "max    7.630000e+02  2.016160e+05  1.341500e+02  2016-04-24 00:00:00\n"
     ]
    }
   ],
   "source": [
    "# Get the summary statistics of the dataframe\n",
    "print(df_dask.describe().compute())"
   ]
  },
  {
   "cell_type": "code",
   "execution_count": 5,
   "metadata": {},
   "outputs": [
    {
     "name": "stdout",
     "output_type": "stream",
     "text": [
      "Index(['id', 'item', 'category', 'department', 'store', 'store_code', 'region',\n",
      "       'sales', 'yearweek', 'event', 'sell_price', 'date'],\n",
      "      dtype='object')\n"
     ]
    }
   ],
   "source": [
    "# Get the column names\n",
    "print(df_dask.columns)"
   ]
  },
  {
   "cell_type": "code",
   "execution_count": 6,
   "metadata": {},
   "outputs": [
    {
     "name": "stdout",
     "output_type": "stream",
     "text": [
      "id            0\n",
      "item          0\n",
      "category      0\n",
      "department    0\n",
      "store         0\n",
      "store_code    0\n",
      "region        0\n",
      "sales         0\n",
      "yearweek      0\n",
      "event         0\n",
      "sell_price    0\n",
      "date          0\n",
      "dtype: int64\n"
     ]
    }
   ],
   "source": [
    "# Check for missing values\n",
    "print(df_dask.isnull().sum().compute())"
   ]
  },
  {
   "cell_type": "code",
   "execution_count": 7,
   "metadata": {},
   "outputs": [
    {
     "name": "stdout",
     "output_type": "stream",
     "text": [
      "id            string[pyarrow]\n",
      "item          string[pyarrow]\n",
      "category      string[pyarrow]\n",
      "department    string[pyarrow]\n",
      "store         string[pyarrow]\n",
      "store_code    string[pyarrow]\n",
      "region        string[pyarrow]\n",
      "sales                   int64\n",
      "yearweek                int64\n",
      "event         string[pyarrow]\n",
      "sell_price            float64\n",
      "date           datetime64[ns]\n",
      "dtype: object\n"
     ]
    }
   ],
   "source": [
    "# Get the data types of each column\n",
    "print(df_dask.dtypes)"
   ]
  }
 ],
 "metadata": {
  "kernelspec": {
   "display_name": "venv",
   "language": "python",
   "name": "python3"
  },
  "language_info": {
   "codemirror_mode": {
    "name": "ipython",
    "version": 3
   },
   "file_extension": ".py",
   "mimetype": "text/x-python",
   "name": "python",
   "nbconvert_exporter": "python",
   "pygments_lexer": "ipython3",
   "version": "3.12.3"
  }
 },
 "nbformat": 4,
 "nbformat_minor": 2
}
