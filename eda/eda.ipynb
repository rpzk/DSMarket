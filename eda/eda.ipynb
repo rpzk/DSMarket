{
 "cells": [
  {
   "cell_type": "code",
   "execution_count": null,
   "metadata": {},
   "outputs": [],
   "source": [
    "import pandas as pd\n",
    "from sqlalchemy import create_engine\n",
    "import psycopg2"
   ]
  },
  {
   "cell_type": "code",
   "execution_count": null,
   "metadata": {},
   "outputs": [],
   "source": [
    "# Obter as variáveis de ambiente\n",
    "user = os.environ.get('DB_USER')\n",
    "password = os.environ.get('DB_PASSWORD')\n",
    "host = os.environ.get('DB_HOST', 'localhost')\n",
    "port = os.environ.get('DB_PORT', '5432')\n",
    "database = os.environ.get('DB_NAME')"
   ]
  },
  {
   "cell_type": "code",
   "execution_count": null,
   "metadata": {},
   "outputs": [],
   "source": [
    "# Verificar se todas as variáveis necessárias estão definidas\n",
    "if not all([user, password, host, port, database]):\n",
    "    raise ValueError(\"Uma ou mais variáveis de ambiente necessárias não estão definidas.\")\n",
    "\n",
    "# Criar a string de conexão\n",
    "connection_string = f'postgresql+psycopg2://{user}:{password}@{host}:{port}/{database}'\n",
    "\n",
    "# Criar o engine do SQLAlchemy\n",
    "try:\n",
    "    engine = create_engine(connection_string)\n",
    "    print(\"Conexão com o banco de dados estabelecida com sucesso.\")\n",
    "except SQLAlchemyError as e:\n",
    "    print(f\"Erro ao conectar ao banco de dados: {e}\")\n",
    "    raise\n",
    "\n",
    "# Nome da tabela que você deseja ler\n",
    "table_name = 'sua_tabela'  # Substitua pelo nome da sua tabela\n",
    "\n",
    "# Ler a tabela usando pandas\n",
    "try:\n",
    "    df = pd.read_sql_table(table_name, engine)\n",
    "    print(f\"Tabela '{table_name}' lida com sucesso.\")\n",
    "    print(df.head())  # Exibir as primeiras linhas do DataFrame\n",
    "except ValueError as ve:\n",
    "    print(f\"Erro ao ler a tabela: {ve}\")\n",
    "except SQLAlchemyError as e:\n",
    "    print(f\"Erro de SQLAlchemy: {e}\")"
   ]
  }
 ],
 "metadata": {
  "language_info": {
   "name": "python"
  }
 },
 "nbformat": 4,
 "nbformat_minor": 2
}
