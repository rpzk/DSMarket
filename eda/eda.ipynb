{
 "cells": [
  {
   "cell_type": "code",
   "execution_count": 4,
   "metadata": {},
   "outputs": [],
   "source": [
    "import pandas_gbq\n",
    "from google.oauth2 import service_account\n",
    "from google.cloud import bigquery\n",
    "import google.auth"
   ]
  },
  {
   "cell_type": "code",
   "execution_count": null,
   "metadata": {},
   "outputs": [
    {
     "name": "stderr",
     "output_type": "stream",
     "text": [
      "C:\\Users\\rpiaz\\AppData\\Local\\Temp\\ipykernel_13600\\152114369.py:19: LargeResultsWarning: Recommendation: Your results are 8.3 GiB. Consider using BigQuery DataFrames (https://bit.ly/bigframes-intro)to process large results with pandas compatible APIs with transparent SQL pushdown to BigQuery engine. This provides an opportunity to save on costs and improve performance. Please reach out to bigframes-feedback@google.com with any questions or concerns. To disable this message, run warnings.simplefilter('ignore', category=pandas_gbq.exceptions.LargeResultsWarning)\n",
      "  df = pandas_gbq.read_gbq(query, project_id=project_id, credentials=credentials)\n"
     ]
    },
    {
     "name": "stdout",
     "output_type": "stream",
     "text": [
      "Downloading:   5%|\u001b[32m▍         \u001b[0m|"
     ]
    }
   ],
   "source": [
    "# Caminho para o arquivo de chave da conta de serviço - Lucas disponibilizou no Whatsapp do grupo\n",
    "service_account_path = 'tfm-sa.json'\n",
    "\n",
    "# Criar objeto de credenciais\n",
    "credentials = service_account.Credentials.from_service_account_file(service_account_path)\n",
    "\n",
    "project_id = 'perseverance-332400'\n",
    "dataset_id = 'TFM'\n",
    "table_id = 'ds_market'\n",
    "full_table_id = f'{project_id}.{dataset_id}.{table_id}'\n",
    "\n",
    "# Cliente BigQuery\n",
    "client = bigquery.Client(credentials=credentials, project=project_id)\n",
    "\n",
    "# Definir a consulta SQL\n",
    "query = f\"SELECT * FROM `{full_table_id}`\"\n",
    "\n",
    "# Carregar dataframe do BigQuery usando pandas_gbq\n",
    "df = pandas_gbq.read_gbq(query, project_id=project_id, credentials=credentials)\n",
    "\n",
    "# Exibir as primeiras linhas do dataframe\n",
    "print(df.head())\n",
    "\n",
    "# Para conjuntos de dados muito grandes, considere usar BigQuery DataFrames\n",
    "# Executar a consulta e obter o resultado como um DataFrame do BigQuery\n",
    "bq_df = client.query(query).to_dataframe()\n",
    "\n",
    "# Exibir as primeiras linhas do dataframe do BigQuery\n",
    "print(bq_df.head())"
   ]
  }
 ],
 "metadata": {
  "kernelspec": {
   "display_name": ".venv",
   "language": "python",
   "name": "python3"
  },
  "language_info": {
   "codemirror_mode": {
    "name": "ipython",
    "version": 3
   },
   "file_extension": ".py",
   "mimetype": "text/x-python",
   "name": "python",
   "nbconvert_exporter": "python",
   "pygments_lexer": "ipython3",
   "version": "3.12.3"
  }
 },
 "nbformat": 4,
 "nbformat_minor": 2
}
