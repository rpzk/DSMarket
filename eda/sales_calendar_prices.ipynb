{
 "cells": [
  {
   "cell_type": "code",
   "execution_count": 1,
   "metadata": {},
   "outputs": [],
   "source": [
    "import dask.dataframe as dd\n",
    "\n",
    "# Carregar os dados de vendas com calendário\n",
    "sales_calendar = dd.read_parquet('../data/merged_sales_with_calendar_parquet/')\n",
    "\n",
    "# Carregar os dados de preços\n",
    "item_prices = dd.read_parquet('../data/item_prices_filled_parquet/')"
   ]
  },
  {
   "cell_type": "code",
   "execution_count": 2,
   "metadata": {},
   "outputs": [],
   "source": [
    "# Converter yearweek para string nos dois DataFrames\n",
    "sales_calendar['yearweek'] = sales_calendar['yearweek'].astype(str)\n",
    "item_prices['yearweek'] = item_prices['yearweek'].astype(str)"
   ]
  },
  {
   "cell_type": "code",
   "execution_count": 3,
   "metadata": {},
   "outputs": [
    {
     "name": "stdout",
     "output_type": "stream",
     "text": [
      "                          id                 item     category_x  \\\n",
      "0  HOME_&_GARDEN_2_437_NYC_2  HOME_&_GARDEN_2_437  HOME_&_GARDEN   \n",
      "1  HOME_&_GARDEN_2_437_NYC_2  HOME_&_GARDEN_2_437  HOME_&_GARDEN   \n",
      "2    SUPERMARKET_1_052_NYC_2    SUPERMARKET_1_052    SUPERMARKET   \n",
      "3    SUPERMARKET_1_052_NYC_2    SUPERMARKET_1_052    SUPERMARKET   \n",
      "4    SUPERMARKET_1_053_NYC_2    SUPERMARKET_1_053    SUPERMARKET   \n",
      "\n",
      "        department   store store_code    region       d  sales yearweek  \\\n",
      "0  HOME_&_GARDEN_2  Harlem      NYC_2  New York  d_1053      0   201351   \n",
      "1  HOME_&_GARDEN_2  Harlem      NYC_2  New York  d_1053      0   201351   \n",
      "2    SUPERMARKET_1  Harlem      NYC_2  New York  d_1053      1   201351   \n",
      "3    SUPERMARKET_1  Harlem      NYC_2  New York  d_1053      1   201351   \n",
      "4    SUPERMARKET_1  Harlem      NYC_2  New York  d_1053      0   201351   \n",
      "\n",
      "        date event     category_y  sell_price  \n",
      "0 2013-12-16  <NA>  HOME_&_GARDEN      9.9625  \n",
      "1 2013-12-16  <NA>  HOME_&_GARDEN      9.9625  \n",
      "2 2013-12-16  <NA>    SUPERMARKET      1.1760  \n",
      "3 2013-12-16  <NA>    SUPERMARKET      1.1760  \n",
      "4 2013-12-16  <NA>    SUPERMARKET      6.5640  \n"
     ]
    }
   ],
   "source": [
    "# Fazer o merge dos DataFrames usando 'item', 'store_code', e 'yearweek' como chave\n",
    "merged_data = sales_calendar.merge(item_prices, on=['item', 'store_code', 'yearweek'], how='left')\n",
    "\n",
    "# Verificar as primeiras linhas do DataFrame resultante\n",
    "print(merged_data.head())\n"
   ]
  },
  {
   "cell_type": "code",
   "execution_count": 4,
   "metadata": {},
   "outputs": [],
   "source": [
    "import os\n",
    "import gc\n",
    "\n",
    "# Liberar objetos não utilizados e memória\n",
    "gc.collect()\n",
    "\n",
    "# Definir o caminho do diretório\n",
    "output_dir = '../data/merged_sales_with_calendar_and_prices'\n",
    "\n",
    "# Criar o diretório se ele não existir\n",
    "os.makedirs(output_dir, exist_ok=True)\n",
    "\n",
    "# Aumentar o número de partições se o arquivo ainda for muito grande\n",
    "merged_data_repartitioned = merged_data.repartition(npartitions=15)\n",
    "\n",
    "# Salvar as partições uma por vez (removendo 'write_index')\n",
    "for i, partition in enumerate(merged_data_repartitioned.to_delayed()):\n",
    "    partition.compute().to_parquet(f'{output_dir}/part_{i}.parquet')"
   ]
  },
  {
   "cell_type": "code",
   "execution_count": null,
   "metadata": {},
   "outputs": [],
   "source": [
    "# Verificar o tamanho de cada partição\n",
    "print(merged_data_repartitioned.map_partitions(len).compute())"
   ]
  }
 ],
 "metadata": {
  "kernelspec": {
   "display_name": "Python 3 (ipykernel)",
   "language": "python",
   "name": "python3"
  },
  "language_info": {
   "codemirror_mode": {
    "name": "ipython",
    "version": 3
   },
   "file_extension": ".py",
   "mimetype": "text/x-python",
   "name": "python",
   "nbconvert_exporter": "python",
   "pygments_lexer": "ipython3",
   "version": "3.11.7"
  }
 },
 "nbformat": 4,
 "nbformat_minor": 4
}
