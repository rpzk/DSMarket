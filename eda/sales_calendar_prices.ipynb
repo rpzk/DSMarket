{
 "cells": [
  {
   "cell_type": "code",
   "execution_count": 1,
   "metadata": {},
   "outputs": [],
   "source": [
    "import dask.dataframe as dd\n",
    "\n",
    "# Carregar os dados de vendas com calendário\n",
    "sales_calendar = dd.read_parquet('../data/merged_sales_with_calendar_parquet/')\n",
    "\n",
    "# Carregar os dados de preços\n",
    "item_prices = dd.read_parquet('../data/item_prices_filled_parquet/')"
   ]
  },
  {
   "cell_type": "code",
   "execution_count": 2,
   "metadata": {},
   "outputs": [],
   "source": [
    "# Converter yearweek para string nos dois DataFrames\n",
    "sales_calendar['yearweek'] = sales_calendar['yearweek'].astype(str)\n",
    "item_prices['yearweek'] = item_prices['yearweek'].astype(str)"
   ]
  },
  {
   "cell_type": "code",
   "execution_count": 3,
   "metadata": {},
   "outputs": [],
   "source": [
    "# Fazer o merge dos DataFrames usando 'item', 'store_code', e 'yearweek' como chave\n",
    "merged_data = sales_calendar.merge(item_prices, on=['item', 'store_code', 'yearweek'], how='left')\n",
    "\n",
    "# Verificar as primeiras linhas do DataFrame resultante\n",
    "print(merged_data.head())\n"
   ]
  },
  {
   "cell_type": "code",
   "execution_count": 6,
   "metadata": {},
   "outputs": [],
   "source": [
    "merged_data.to_parquet('../data/merged_sales_with_calendar_and_prices_parquet/', write_index=False)"
   ]
  },
  {
   "cell_type": "code",
   "execution_count": null,
   "metadata": {},
   "outputs": [],
   "source": [
    "merged_data.isnull().sum().compute()"
   ]
  },
  {
   "cell_type": "code",
   "execution_count": null,
   "metadata": {},
   "outputs": [],
   "source": [
    "# Verificar se há valores ausentes nas colunas principais\n",
    "missing_values = merged_data.isnull().sum().compute()\n",
    "print(\"Valores ausentes em cada coluna:\\n\", missing_values)\n"
   ]
  },
  {
   "cell_type": "code",
   "execution_count": null,
   "metadata": {},
   "outputs": [],
   "source": [
    "# Verificar duplicatas com base em 'item', 'store_code', e 'yearweek'\n",
    "duplicates = merged_data.duplicated(subset=['item', 'store_code', 'yearweek']).compute()\n",
    "print(f\"Número de duplicatas: {duplicates.sum()}\")\n"
   ]
  },
  {
   "cell_type": "code",
   "execution_count": null,
   "metadata": {},
   "outputs": [],
   "source": [
    "# Descrever os dados para verificar os intervalos de valores\n",
    "print(merged_data[['sell_price', 'sales']].describe().compute())\n",
    "\n",
    "# Verificar possíveis anomalias como vendas elevadas com preços muito baixos\n",
    "anomalies = merged_data[(merged_data['sell_price'] < 1) & (merged_data['sales'] > 100)].compute()\n",
    "print(\"Possíveis anomalias:\\n\", anomalies)\n"
   ]
  },
  {
   "cell_type": "code",
   "execution_count": null,
   "metadata": {},
   "outputs": [],
   "source": [
    "# Verificar se o yearweek está ordenado corretamente\n",
    "sorted_weeks = merged_data[['yearweek', 'date']].drop_duplicates().compute().sort_values('date')\n",
    "print(\"Verificação de yearweek ordenado por data:\\n\", sorted_weeks.head())\n",
    "\n",
    "# Verificar a associação de eventos com vendas em semanas importantes (e.g., eventos como 'Black Friday')\n",
    "events_with_sales = merged_data[merged_data['event'].notnull() & (merged_data['sales'] > 0)].compute()\n",
    "print(\"Vendas durante eventos importantes:\\n\", events_with_sales[['event', 'yearweek', 'sales']])\n"
   ]
  },
  {
   "cell_type": "code",
   "execution_count": null,
   "metadata": {},
   "outputs": [],
   "source": [
    "# Calcular estatísticas descritivas para identificar possíveis outliers\n",
    "sales_summary = merged_data['sales'].describe().compute()\n",
    "price_summary = merged_data['sell_price'].describe().compute()\n",
    "\n",
    "print(\"Resumo das vendas:\\n\", sales_summary)\n",
    "print(\"Resumo dos preços de venda:\\n\", price_summary)\n",
    "\n",
    "# Verificar outliers em vendas e preços\n",
    "outliers_sales = merged_data[merged_data['sales'] > sales_summary['75%'] + 1.5 * (sales_summary['75%'] - sales_summary['25%'])].compute()\n",
    "outliers_price = merged_data[merged_data['sell_price'] > price_summary['75%'] + 1.5 * (price_summary['75%'] - price_summary['25%'])].compute()\n",
    "\n",
    "print(\"Outliers em vendas:\\n\", outliers_sales)\n",
    "print(\"Outliers em preços de venda:\\n\", outliers_price)\n"
   ]
  },
  {
   "cell_type": "code",
   "execution_count": null,
   "metadata": {},
   "outputs": [],
   "source": [
    "# Calcular correlação entre vendas e preço de venda\n",
    "correlation = merged_data[['sell_price', 'sales']].corr().compute()\n",
    "print(\"Correlação entre preço de venda e vendas:\\n\", correlation)\n"
   ]
  },
  {
   "cell_type": "code",
   "execution_count": null,
   "metadata": {},
   "outputs": [],
   "source": [
    "# Verificar se as vendas aumentam durante eventos específicos\n",
    "event_sales = merged_data[merged_data['event'].notnull()].groupby('event')['sales'].sum().compute()\n",
    "print(\"Vendas durante eventos:\\n\", event_sales)\n"
   ]
  }
 ],
 "metadata": {
  "kernelspec": {
   "display_name": "venv",
   "language": "python",
   "name": "python3"
  },
  "language_info": {
   "codemirror_mode": {
    "name": "ipython",
    "version": 3
   },
   "file_extension": ".py",
   "mimetype": "text/x-python",
   "name": "python",
   "nbconvert_exporter": "python",
   "pygments_lexer": "ipython3",
   "version": "3.11.7"
  }
 },
 "nbformat": 4,
 "nbformat_minor": 2
}
