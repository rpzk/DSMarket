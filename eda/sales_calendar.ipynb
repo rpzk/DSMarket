{
 "cells": [
  {
   "cell_type": "code",
   "execution_count": 1,
   "metadata": {},
   "outputs": [],
   "source": [
    "import dask.dataframe as dd\n",
    "\n",
    "# Carregar o calendário\n",
    "calendar = dd.read_parquet('../data/calendar_with_yearweek_parquet/')\n",
    "\n",
    "# Carregar o item_sales\n",
    "sales = dd.read_parquet('../data/sales_long_parquet/')\n"
   ]
  },
  {
   "cell_type": "code",
   "execution_count": 2,
   "metadata": {},
   "outputs": [
    {
     "data": {
      "text/html": [
       "<div>\n",
       "<style scoped>\n",
       "    .dataframe tbody tr th:only-of-type {\n",
       "        vertical-align: middle;\n",
       "    }\n",
       "\n",
       "    .dataframe tbody tr th {\n",
       "        vertical-align: top;\n",
       "    }\n",
       "\n",
       "    .dataframe thead th {\n",
       "        text-align: right;\n",
       "    }\n",
       "</style>\n",
       "<table border=\"1\" class=\"dataframe\">\n",
       "  <thead>\n",
       "    <tr style=\"text-align: right;\">\n",
       "      <th></th>\n",
       "      <th>date</th>\n",
       "      <th>weekday</th>\n",
       "      <th>weekday_int</th>\n",
       "      <th>d</th>\n",
       "      <th>event</th>\n",
       "      <th>yearweek</th>\n",
       "    </tr>\n",
       "  </thead>\n",
       "  <tbody>\n",
       "    <tr>\n",
       "      <th>0</th>\n",
       "      <td>2011-01-29</td>\n",
       "      <td>Saturday</td>\n",
       "      <td>1</td>\n",
       "      <td>d_1</td>\n",
       "      <td>&lt;NA&gt;</td>\n",
       "      <td>201104</td>\n",
       "    </tr>\n",
       "    <tr>\n",
       "      <th>1</th>\n",
       "      <td>2011-01-30</td>\n",
       "      <td>Sunday</td>\n",
       "      <td>2</td>\n",
       "      <td>d_2</td>\n",
       "      <td>&lt;NA&gt;</td>\n",
       "      <td>201104</td>\n",
       "    </tr>\n",
       "    <tr>\n",
       "      <th>2</th>\n",
       "      <td>2011-01-31</td>\n",
       "      <td>Monday</td>\n",
       "      <td>3</td>\n",
       "      <td>d_3</td>\n",
       "      <td>&lt;NA&gt;</td>\n",
       "      <td>201105</td>\n",
       "    </tr>\n",
       "    <tr>\n",
       "      <th>3</th>\n",
       "      <td>2011-02-01</td>\n",
       "      <td>Tuesday</td>\n",
       "      <td>4</td>\n",
       "      <td>d_4</td>\n",
       "      <td>&lt;NA&gt;</td>\n",
       "      <td>201105</td>\n",
       "    </tr>\n",
       "    <tr>\n",
       "      <th>4</th>\n",
       "      <td>2011-02-02</td>\n",
       "      <td>Wednesday</td>\n",
       "      <td>5</td>\n",
       "      <td>d_5</td>\n",
       "      <td>&lt;NA&gt;</td>\n",
       "      <td>201105</td>\n",
       "    </tr>\n",
       "  </tbody>\n",
       "</table>\n",
       "</div>"
      ],
      "text/plain": [
       "        date    weekday  weekday_int    d event yearweek\n",
       "0 2011-01-29   Saturday            1  d_1  <NA>   201104\n",
       "1 2011-01-30     Sunday            2  d_2  <NA>   201104\n",
       "2 2011-01-31     Monday            3  d_3  <NA>   201105\n",
       "3 2011-02-01    Tuesday            4  d_4  <NA>   201105\n",
       "4 2011-02-02  Wednesday            5  d_5  <NA>   201105"
      ]
     },
     "execution_count": 2,
     "metadata": {},
     "output_type": "execute_result"
    }
   ],
   "source": [
    "calendar.head()"
   ]
  },
  {
   "cell_type": "code",
   "execution_count": 3,
   "metadata": {},
   "outputs": [
    {
     "name": "stdout",
     "output_type": "stream",
     "text": [
      "                       id              item    category    department  \\\n",
      "0  ACCESORIES_1_001_NYC_1  ACCESORIES_1_001  ACCESORIES  ACCESORIES_1   \n",
      "1  ACCESORIES_1_002_NYC_1  ACCESORIES_1_002  ACCESORIES  ACCESORIES_1   \n",
      "2  ACCESORIES_1_003_NYC_1  ACCESORIES_1_003  ACCESORIES  ACCESORIES_1   \n",
      "3  ACCESORIES_1_004_NYC_1  ACCESORIES_1_004  ACCESORIES  ACCESORIES_1   \n",
      "4  ACCESORIES_1_005_NYC_1  ACCESORIES_1_005  ACCESORIES  ACCESORIES_1   \n",
      "\n",
      "               store store_code    region    d  sales yearweek       date  \\\n",
      "0  Greenwich_Village      NYC_1  New York  d_1      0   201104 2011-01-29   \n",
      "1  Greenwich_Village      NYC_1  New York  d_1      0   201104 2011-01-29   \n",
      "2  Greenwich_Village      NYC_1  New York  d_1      0   201104 2011-01-29   \n",
      "3  Greenwich_Village      NYC_1  New York  d_1      0   201104 2011-01-29   \n",
      "4  Greenwich_Village      NYC_1  New York  d_1      0   201104 2011-01-29   \n",
      "\n",
      "  event  \n",
      "0  <NA>  \n",
      "1  <NA>  \n",
      "2  <NA>  \n",
      "3  <NA>  \n",
      "4  <NA>  \n"
     ]
    }
   ],
   "source": [
    "# Fazer o merge de sales e calendar com base na coluna 'd', incluindo 'yearweek', 'date' e 'event'\n",
    "merged_sales = sales.merge(calendar[['d', 'yearweek', 'date', 'event']], on='d', how='left')\n",
    "\n",
    "# Verificar as primeiras linhas do DataFrame resultante\n",
    "print(merged_sales.head())\n"
   ]
  },
  {
   "cell_type": "code",
   "execution_count": 4,
   "metadata": {},
   "outputs": [],
   "source": [
    "# Salvar como Parquet\n",
    "merged_sales.to_parquet('../data/merged_sales_with_calendar_parquet/', write_index=False)\n"
   ]
  }
 ],
 "metadata": {
  "kernelspec": {
   "display_name": "venv",
   "language": "python",
   "name": "python3"
  },
  "language_info": {
   "codemirror_mode": {
    "name": "ipython",
    "version": 3
   },
   "file_extension": ".py",
   "mimetype": "text/x-python",
   "name": "python",
   "nbconvert_exporter": "python",
   "pygments_lexer": "ipython3",
   "version": "3.11.7"
  }
 },
 "nbformat": 4,
 "nbformat_minor": 2
}
