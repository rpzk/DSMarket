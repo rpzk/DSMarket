{
 "cells": [
  {
   "cell_type": "code",
   "execution_count": 1,
   "metadata": {},
   "outputs": [],
   "source": [
    "import os\n",
    "from google.cloud import bigquery\n",
    "from google.oauth2 import service_account\n",
    "import pandas as pd\n",
    "from sqlalchemy import create_engine\n",
    "from sqlalchemy.types import Integer, String, Float, DateTime\n",
    "import psycopg2"
   ]
  },
  {
   "cell_type": "code",
   "execution_count": 2,
   "metadata": {},
   "outputs": [],
   "source": [
    "# Caminho para o arquivo de chave da conta de serviço - Lucas disponibilizou no Whatsapp do grupo\n",
    "service_account_path = 'tfm-sa.json'\n",
    "\n",
    "# Criar objeto de credenciais\n",
    "credentials = service_account.Credentials.from_service_account_file(service_account_path)"
   ]
  },
  {
   "cell_type": "code",
   "execution_count": 3,
   "metadata": {},
   "outputs": [],
   "source": [
    "project_id = 'perseverance-332400'\n",
    "dataset_id = 'TFM'\n",
    "table_id = 'ds_market'\n",
    "full_table_id = f'{project_id}.{dataset_id}.{table_id}'\n",
    "client = bigquery.Client(project='perseverance-332400', credentials=credentials)"
   ]
  },
  {
   "cell_type": "code",
   "execution_count": 4,
   "metadata": {},
   "outputs": [],
   "source": [
    "user = os.environ.get('DB_USER')\n",
    "password = os.environ.get('DB_PASSWORD')\n",
    "host = os.environ.get('DB_HOST', 'localhost')\n",
    "port = os.environ.get('DB_PORT', '5432')\n",
    "database = os.environ.get('DB_NAME')\n",
    "engine = create_engine(f'postgresql+psycopg2://{user}:{password}@{host}:{port}/{database}')"
   ]
  },
  {
   "cell_type": "code",
   "execution_count": 5,
   "metadata": {},
   "outputs": [],
   "source": [
    "years = range(2011, 2017)  # From 2011 to 2016"
   ]
  },
  {
   "cell_type": "code",
   "execution_count": 6,
   "metadata": {},
   "outputs": [],
   "source": [
    "def clean_data(df):\n",
    "    # Renomear 'category_x' para 'category'\n",
    "    df = df.rename(columns={'category_x': 'category'})\n",
    "\n",
    "    # Remover a coluna 'category_y' se existir\n",
    "    if 'category_y' in df.columns:\n",
    "        df = df.drop('category_y', axis=1)\n",
    "\n",
    "    # Remover a coluna 'd' se existir\n",
    "    if 'd' in df.columns:\n",
    "        df = df.drop('d', axis=1)\n",
    "\n",
    "    # Preencher valores nulos na coluna 'event' com strings vazias\n",
    "    if 'event' in df.columns:\n",
    "        df['event'] = df['event'].fillna('')\n",
    "\n",
    "    # Preencher valores nulos em 'sell_price' com zeros\n",
    "    df['sell_price'] = df['sell_price'].fillna(0)\n",
    "\n",
    "    # Converter 'sell_price' para float32 com 2 casas decimais\n",
    "    df['sell_price'] = df['sell_price'].astype(float).round(2)\n",
    "    df['sell_price'] = df['sell_price'].astype('float32')\n",
    "\n",
    "    return df"
   ]
  },
  {
   "cell_type": "code",
   "execution_count": 7,
   "metadata": {},
   "outputs": [],
   "source": [
    "dtype_mapping = {\n",
    "    'id': String,\n",
    "    'item': String,\n",
    "    'category': String,\n",
    "    'department': String,\n",
    "    'store': String,\n",
    "    'store_code': String,\n",
    "    'region': String,\n",
    "    'sales': Integer,\n",
    "    'yearweek': Integer,\n",
    "    'date': DateTime,\n",
    "    'event': String,\n",
    "    'sell_price': Float,\n",
    "    'year': Integer\n",
    "}"
   ]
  },
  {
   "cell_type": "code",
   "execution_count": 8,
   "metadata": {},
   "outputs": [
    {
     "name": "stdout",
     "output_type": "stream",
     "text": [
      "Processando dados para o ano 2011...\n"
     ]
    },
    {
     "name": "stderr",
     "output_type": "stream",
     "text": [
      "/home/rp/Desenvolvimento/DSMarket/venv/lib/python3.11/site-packages/google/cloud/bigquery/table.py:1727: UserWarning: BigQuery Storage module not found, fetch data with the REST endpoint instead.\n",
      "  warnings.warn(\n"
     ]
    },
    {
     "name": "stdout",
     "output_type": "stream",
     "text": [
      "Processando dados para o ano 2012...\n"
     ]
    },
    {
     "name": "stderr",
     "output_type": "stream",
     "text": [
      "/home/rp/Desenvolvimento/DSMarket/venv/lib/python3.11/site-packages/google/cloud/bigquery/table.py:1727: UserWarning: BigQuery Storage module not found, fetch data with the REST endpoint instead.\n",
      "  warnings.warn(\n"
     ]
    },
    {
     "name": "stdout",
     "output_type": "stream",
     "text": [
      "Processando dados para o ano 2013...\n"
     ]
    },
    {
     "name": "stderr",
     "output_type": "stream",
     "text": [
      "/home/rp/Desenvolvimento/DSMarket/venv/lib/python3.11/site-packages/google/cloud/bigquery/table.py:1727: UserWarning: BigQuery Storage module not found, fetch data with the REST endpoint instead.\n",
      "  warnings.warn(\n"
     ]
    },
    {
     "name": "stdout",
     "output_type": "stream",
     "text": [
      "Processando dados para o ano 2014...\n"
     ]
    },
    {
     "name": "stderr",
     "output_type": "stream",
     "text": [
      "/home/rp/Desenvolvimento/DSMarket/venv/lib/python3.11/site-packages/google/cloud/bigquery/table.py:1727: UserWarning: BigQuery Storage module not found, fetch data with the REST endpoint instead.\n",
      "  warnings.warn(\n"
     ]
    },
    {
     "name": "stdout",
     "output_type": "stream",
     "text": [
      "Processando dados para o ano 2015...\n"
     ]
    },
    {
     "name": "stderr",
     "output_type": "stream",
     "text": [
      "/home/rp/Desenvolvimento/DSMarket/venv/lib/python3.11/site-packages/google/cloud/bigquery/table.py:1727: UserWarning: BigQuery Storage module not found, fetch data with the REST endpoint instead.\n",
      "  warnings.warn(\n"
     ]
    },
    {
     "name": "stdout",
     "output_type": "stream",
     "text": [
      "Processando dados para o ano 2016...\n"
     ]
    },
    {
     "name": "stderr",
     "output_type": "stream",
     "text": [
      "/home/rp/Desenvolvimento/DSMarket/venv/lib/python3.11/site-packages/google/cloud/bigquery/table.py:1727: UserWarning: BigQuery Storage module not found, fetch data with the REST endpoint instead.\n",
      "  warnings.warn(\n"
     ]
    },
    {
     "name": "stdout",
     "output_type": "stream",
     "text": [
      "Processamento e salvamento concluídos.\n"
     ]
    }
   ],
   "source": [
    "\n",
    "# Nome da tabela no PostgreSQL\n",
    "table_name = 'ds_market'\n",
    "\n",
    "for year in years:\n",
    "    try:\n",
    "        print(f\"Processando dados para o ano {year}...\")\n",
    "\n",
    "        # Definir a consulta SQL para o ano atual\n",
    "        query = f\"\"\"\n",
    "        SELECT\n",
    "          id,\n",
    "          item,\n",
    "          category_x,\n",
    "          category_y,\n",
    "          department,\n",
    "          store,\n",
    "          store_code,\n",
    "          region,\n",
    "          d,\n",
    "          sales,\n",
    "          yearweek,\n",
    "          date,\n",
    "          event,\n",
    "          sell_price\n",
    "        FROM\n",
    "          `perseverance-332400.TFM.ds_market`\n",
    "        WHERE\n",
    "          EXTRACT(YEAR FROM date) = {year}\n",
    "        \"\"\"\n",
    "\n",
    "        # Executar a consulta e obter o DataFrame\n",
    "        df_year = client.query(query).to_dataframe()\n",
    "\n",
    "        # Limpar os dados\n",
    "        df_year = clean_data(df_year)\n",
    "\n",
    "        # Definir o modo de inserção\n",
    "        if_exists_mode = 'append' if year != 2011 else 'replace'\n",
    "\n",
    "        # Escrever o DataFrame no PostgreSQL\n",
    "        df_year.to_sql(\n",
    "            table_name,\n",
    "            engine,\n",
    "            if_exists=if_exists_mode,\n",
    "            index=False,\n",
    "            method='multi',\n",
    "            chunksize=10000,\n",
    "            dtype=dtype_mapping\n",
    "        )\n",
    "\n",
    "        # Liberar memória\n",
    "        del df_year\n",
    "        import gc\n",
    "        gc.collect()\n",
    "\n",
    "    except Exception as e:\n",
    "        print(f\"Erro ao processar o ano {year}: {e}\")\n",
    "\n",
    "print(\"Processamento e salvamento concluídos.\")\n"
   ]
  },
  {
   "cell_type": "code",
   "execution_count": 9,
   "metadata": {},
   "outputs": [
    {
     "name": "stdout",
     "output_type": "stream",
     "text": [
      "                          id                 item       category  \\\n",
      "0  HOME_&_GARDEN_2_352_NYC_2  HOME_&_GARDEN_2_352  HOME_&_GARDEN   \n",
      "1  HOME_&_GARDEN_2_507_NYC_2  HOME_&_GARDEN_2_507  HOME_&_GARDEN   \n",
      "2  HOME_&_GARDEN_2_476_NYC_2  HOME_&_GARDEN_2_476  HOME_&_GARDEN   \n",
      "3  HOME_&_GARDEN_2_346_NYC_2  HOME_&_GARDEN_2_346  HOME_&_GARDEN   \n",
      "4  HOME_&_GARDEN_2_489_NYC_2  HOME_&_GARDEN_2_489  HOME_&_GARDEN   \n",
      "\n",
      "        department   store store_code    region  sales  yearweek       date  \\\n",
      "0  HOME_&_GARDEN_2  Harlem      NYC_2  New York      0    201134 2011-08-22   \n",
      "1  HOME_&_GARDEN_2  Harlem      NYC_2  New York      1    201124 2011-06-15   \n",
      "2  HOME_&_GARDEN_2  Harlem      NYC_2  New York      0    201149 2011-12-07   \n",
      "3  HOME_&_GARDEN_2  Harlem      NYC_2  New York      0    201138 2011-09-19   \n",
      "4  HOME_&_GARDEN_2  Harlem      NYC_2  New York      0    201107 2011-02-14   \n",
      "\n",
      "  event  sell_price  \n",
      "0              3.68  \n",
      "1              8.71  \n",
      "2              0.00  \n",
      "3              0.00  \n",
      "4              0.00  \n"
     ]
    }
   ],
   "source": [
    "df_check = pd.read_sql('SELECT * FROM ds_market LIMIT 5', engine)\n",
    "print(df_check.head())"
   ]
  }
 ],
 "metadata": {
  "kernelspec": {
   "display_name": "venv",
   "language": "python",
   "name": "python3"
  },
  "language_info": {
   "codemirror_mode": {
    "name": "ipython",
    "version": 3
   },
   "file_extension": ".py",
   "mimetype": "text/x-python",
   "name": "python",
   "nbconvert_exporter": "python",
   "pygments_lexer": "ipython3",
   "version": "3.11.7"
  }
 },
 "nbformat": 4,
 "nbformat_minor": 2
}
