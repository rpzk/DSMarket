{
 "cells": [
  {
   "cell_type": "code",
   "execution_count": 1,
   "metadata": {},
   "outputs": [
    {
     "name": "stderr",
     "output_type": "stream",
     "text": [
      "/tmp/ipykernel_61314/1630260444.py:28: DeprecationWarning: DataFrameGroupBy.apply operated on the grouping columns. This behavior is deprecated, and in a future version of pandas the grouping columns will be excluded from the operation. Either pass `include_groups=False` to exclude the groupings or explicitly select the grouping columns after groupby to silence this warning.\n",
      "  df = df.groupby(['item', 'store_code', 'sell_price']).apply(increment_yearweek).reset_index(drop=True)\n",
      "/tmp/ipykernel_61314/1630260444.py:28: DeprecationWarning: DataFrameGroupBy.apply operated on the grouping columns. This behavior is deprecated, and in a future version of pandas the grouping columns will be excluded from the operation. Either pass `include_groups=False` to exclude the groupings or explicitly select the grouping columns after groupby to silence this warning.\n",
      "  df = df.groupby(['item', 'store_code', 'sell_price']).apply(increment_yearweek).reset_index(drop=True)\n",
      "/tmp/ipykernel_61314/1630260444.py:28: DeprecationWarning: DataFrameGroupBy.apply operated on the grouping columns. This behavior is deprecated, and in a future version of pandas the grouping columns will be excluded from the operation. Either pass `include_groups=False` to exclude the groupings or explicitly select the grouping columns after groupby to silence this warning.\n",
      "  df = df.groupby(['item', 'store_code', 'sell_price']).apply(increment_yearweek).reset_index(drop=True)\n",
      "/tmp/ipykernel_61314/1630260444.py:28: DeprecationWarning: DataFrameGroupBy.apply operated on the grouping columns. This behavior is deprecated, and in a future version of pandas the grouping columns will be excluded from the operation. Either pass `include_groups=False` to exclude the groupings or explicitly select the grouping columns after groupby to silence this warning.\n",
      "  df = df.groupby(['item', 'store_code', 'sell_price']).apply(increment_yearweek).reset_index(drop=True)\n",
      "/tmp/ipykernel_61314/1630260444.py:28: DeprecationWarning: DataFrameGroupBy.apply operated on the grouping columns. This behavior is deprecated, and in a future version of pandas the grouping columns will be excluded from the operation. Either pass `include_groups=False` to exclude the groupings or explicitly select the grouping columns after groupby to silence this warning.\n",
      "  df = df.groupby(['item', 'store_code', 'sell_price']).apply(increment_yearweek).reset_index(drop=True)\n",
      "/tmp/ipykernel_61314/1630260444.py:28: DeprecationWarning: DataFrameGroupBy.apply operated on the grouping columns. This behavior is deprecated, and in a future version of pandas the grouping columns will be excluded from the operation. Either pass `include_groups=False` to exclude the groupings or explicitly select the grouping columns after groupby to silence this warning.\n",
      "  df = df.groupby(['item', 'store_code', 'sell_price']).apply(increment_yearweek).reset_index(drop=True)\n"
     ]
    }
   ],
   "source": [
    "import dask.dataframe as dd\n",
    "import pandas as pd\n",
    "from tqdm import tqdm\n",
    "\n",
    "# Função para processar em pandas\n",
    "def import_prices(df):\n",
    "    # Ordenar o DataFrame pelos campos necessários\n",
    "    df = df.sort_values(by=['item', 'store_code', 'sell_price', 'yearweek'])\n",
    "\n",
    "    # Preencher os valores NaN com o valor anterior\n",
    "    df['yearweek'] = df['yearweek'].ffill()\n",
    "\n",
    "    # Converter a coluna yearweek para inteiro\n",
    "    df['yearweek'] = df['yearweek'].astype(int)\n",
    "\n",
    "    # Função para garantir a unicidade de yearweek, incrementando se necessário\n",
    "    def increment_yearweek(df):\n",
    "        last_yearweek = None\n",
    "        for i, row in df.iterrows():\n",
    "            if last_yearweek is not None and row['yearweek'] <= last_yearweek:\n",
    "                last_yearweek += 1\n",
    "                df.at[i, 'yearweek'] = int(last_yearweek)\n",
    "            else:\n",
    "                last_yearweek = row['yearweek']\n",
    "        return df\n",
    "\n",
    "    # Aplicar a função para incrementar yearweek dentro de cada grupo de item, store_code, e sell_price\n",
    "    df = df.groupby(['item', 'store_code', 'sell_price']).apply(increment_yearweek).reset_index(drop=True)\n",
    "\n",
    "    return df\n",
    "\n",
    "# Carregar o arquivo item_prices.csv com Dask\n",
    "item_prices = dd.read_csv('../data/item_prices.csv', dtype={'yearweek': 'float64'})\n",
    "\n",
    "# Aplicar a função de pandas a cada partição do Dask DataFrame\n",
    "df_filled_dask = item_prices.map_partitions(import_prices)\n",
    "\n",
    "# Salvar como múltiplos arquivos Parquet\n",
    "df_filled_dask.to_parquet('../data/item_prices_filled_parquet/', write_index=False)\n"
   ]
  },
  {
   "cell_type": "code",
   "execution_count": 2,
   "metadata": {},
   "outputs": [
    {
     "name": "stderr",
     "output_type": "stream",
     "text": [
      "/tmp/ipykernel_61314/1630260444.py:28: DeprecationWarning: DataFrameGroupBy.apply operated on the grouping columns. This behavior is deprecated, and in a future version of pandas the grouping columns will be excluded from the operation. Either pass `include_groups=False` to exclude the groupings or explicitly select the grouping columns after groupby to silence this warning.\n",
      "  df = df.groupby(['item', 'store_code', 'sell_price']).apply(increment_yearweek).reset_index(drop=True)\n"
     ]
    },
    {
     "name": "stderr",
     "output_type": "stream",
     "text": [
      "/tmp/ipykernel_61314/1630260444.py:28: DeprecationWarning: DataFrameGroupBy.apply operated on the grouping columns. This behavior is deprecated, and in a future version of pandas the grouping columns will be excluded from the operation. Either pass `include_groups=False` to exclude the groupings or explicitly select the grouping columns after groupby to silence this warning.\n",
      "  df = df.groupby(['item', 'store_code', 'sell_price']).apply(increment_yearweek).reset_index(drop=True)\n",
      "/tmp/ipykernel_61314/1630260444.py:28: DeprecationWarning: DataFrameGroupBy.apply operated on the grouping columns. This behavior is deprecated, and in a future version of pandas the grouping columns will be excluded from the operation. Either pass `include_groups=False` to exclude the groupings or explicitly select the grouping columns after groupby to silence this warning.\n",
      "  df = df.groupby(['item', 'store_code', 'sell_price']).apply(increment_yearweek).reset_index(drop=True)\n",
      "/tmp/ipykernel_61314/1630260444.py:28: DeprecationWarning: DataFrameGroupBy.apply operated on the grouping columns. This behavior is deprecated, and in a future version of pandas the grouping columns will be excluded from the operation. Either pass `include_groups=False` to exclude the groupings or explicitly select the grouping columns after groupby to silence this warning.\n",
      "  df = df.groupby(['item', 'store_code', 'sell_price']).apply(increment_yearweek).reset_index(drop=True)\n",
      "/tmp/ipykernel_61314/1630260444.py:28: DeprecationWarning: DataFrameGroupBy.apply operated on the grouping columns. This behavior is deprecated, and in a future version of pandas the grouping columns will be excluded from the operation. Either pass `include_groups=False` to exclude the groupings or explicitly select the grouping columns after groupby to silence this warning.\n",
      "  df = df.groupby(['item', 'store_code', 'sell_price']).apply(increment_yearweek).reset_index(drop=True)\n",
      "/tmp/ipykernel_61314/1630260444.py:28: DeprecationWarning: DataFrameGroupBy.apply operated on the grouping columns. This behavior is deprecated, and in a future version of pandas the grouping columns will be excluded from the operation. Either pass `include_groups=False` to exclude the groupings or explicitly select the grouping columns after groupby to silence this warning.\n",
      "  df = df.groupby(['item', 'store_code', 'sell_price']).apply(increment_yearweek).reset_index(drop=True)\n",
      "/tmp/ipykernel_61314/1630260444.py:28: DeprecationWarning: DataFrameGroupBy.apply operated on the grouping columns. This behavior is deprecated, and in a future version of pandas the grouping columns will be excluded from the operation. Either pass `include_groups=False` to exclude the groupings or explicitly select the grouping columns after groupby to silence this warning.\n",
      "  df = df.groupby(['item', 'store_code', 'sell_price']).apply(increment_yearweek).reset_index(drop=True)\n"
     ]
    },
    {
     "data": {
      "text/html": [
       "<div>\n",
       "<style scoped>\n",
       "    .dataframe tbody tr th:only-of-type {\n",
       "        vertical-align: middle;\n",
       "    }\n",
       "\n",
       "    .dataframe tbody tr th {\n",
       "        vertical-align: top;\n",
       "    }\n",
       "\n",
       "    .dataframe thead th {\n",
       "        text-align: right;\n",
       "    }\n",
       "</style>\n",
       "<table border=\"1\" class=\"dataframe\">\n",
       "  <thead>\n",
       "    <tr style=\"text-align: right;\">\n",
       "      <th></th>\n",
       "      <th>item</th>\n",
       "      <th>category</th>\n",
       "      <th>store_code</th>\n",
       "      <th>yearweek</th>\n",
       "      <th>sell_price</th>\n",
       "    </tr>\n",
       "  </thead>\n",
       "  <tbody>\n",
       "    <tr>\n",
       "      <th>0</th>\n",
       "      <td>ACCESORIES_1_001</td>\n",
       "      <td>ACCESORIES</td>\n",
       "      <td>NYC_1</td>\n",
       "      <td>201330</td>\n",
       "      <td>10.9858</td>\n",
       "    </tr>\n",
       "    <tr>\n",
       "      <th>1</th>\n",
       "      <td>ACCESORIES_1_001</td>\n",
       "      <td>ACCESORIES</td>\n",
       "      <td>NYC_1</td>\n",
       "      <td>201331</td>\n",
       "      <td>10.9858</td>\n",
       "    </tr>\n",
       "    <tr>\n",
       "      <th>2</th>\n",
       "      <td>ACCESORIES_1_001</td>\n",
       "      <td>ACCESORIES</td>\n",
       "      <td>NYC_1</td>\n",
       "      <td>201332</td>\n",
       "      <td>10.9858</td>\n",
       "    </tr>\n",
       "    <tr>\n",
       "      <th>3</th>\n",
       "      <td>ACCESORIES_1_001</td>\n",
       "      <td>ACCESORIES</td>\n",
       "      <td>NYC_1</td>\n",
       "      <td>201333</td>\n",
       "      <td>10.9858</td>\n",
       "    </tr>\n",
       "    <tr>\n",
       "      <th>4</th>\n",
       "      <td>ACCESORIES_1_001</td>\n",
       "      <td>ACCESORIES</td>\n",
       "      <td>NYC_1</td>\n",
       "      <td>201334</td>\n",
       "      <td>10.9858</td>\n",
       "    </tr>\n",
       "  </tbody>\n",
       "</table>\n",
       "</div>"
      ],
      "text/plain": [
       "               item    category store_code  yearweek  sell_price\n",
       "0  ACCESORIES_1_001  ACCESORIES      NYC_1    201330     10.9858\n",
       "1  ACCESORIES_1_001  ACCESORIES      NYC_1    201331     10.9858\n",
       "2  ACCESORIES_1_001  ACCESORIES      NYC_1    201332     10.9858\n",
       "3  ACCESORIES_1_001  ACCESORIES      NYC_1    201333     10.9858\n",
       "4  ACCESORIES_1_001  ACCESORIES      NYC_1    201334     10.9858"
      ]
     },
     "execution_count": 2,
     "metadata": {},
     "output_type": "execute_result"
    }
   ],
   "source": [
    "df_filled_dask.head()"
   ]
  },
  {
   "cell_type": "code",
   "execution_count": 3,
   "metadata": {},
   "outputs": [
    {
     "data": {
      "text/plain": [
       "item          0\n",
       "category      0\n",
       "store_code    0\n",
       "yearweek      0\n",
       "sell_price    0\n",
       "dtype: int64"
      ]
     },
     "execution_count": 3,
     "metadata": {},
     "output_type": "execute_result"
    }
   ],
   "source": [
    "df_filled_dask.isna().sum().compute()"
   ]
  }
 ],
 "metadata": {
  "kernelspec": {
   "display_name": "venv",
   "language": "python",
   "name": "python3"
  },
  "language_info": {
   "codemirror_mode": {
    "name": "ipython",
    "version": 3
   },
   "file_extension": ".py",
   "mimetype": "text/x-python",
   "name": "python",
   "nbconvert_exporter": "python",
   "pygments_lexer": "ipython3",
   "version": "3.11.7"
  }
 },
 "nbformat": 4,
 "nbformat_minor": 2
}
