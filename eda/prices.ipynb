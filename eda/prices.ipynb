{
 "cells": [
  {
   "cell_type": "code",
   "execution_count": 1,
   "metadata": {},
   "outputs": [
    {
     "name": "stderr",
     "output_type": "stream",
     "text": [
      "/tmp/ipykernel_61314/1630260444.py:28: DeprecationWarning: DataFrameGroupBy.apply operated on the grouping columns. This behavior is deprecated, and in a future version of pandas the grouping columns will be excluded from the operation. Either pass `include_groups=False` to exclude the groupings or explicitly select the grouping columns after groupby to silence this warning.\n",
      "  df = df.groupby(['item', 'store_code', 'sell_price']).apply(increment_yearweek).reset_index(drop=True)\n"
     ]
    }
   ],
   "source": [
    "import dask.dataframe as dd\n",
    "import pandas as pd\n",
    "from tqdm import tqdm\n",
    "\n",
    "# Função para processar em pandas\n",
    "def import_prices(df):\n",
    "    # Ordenar o DataFrame pelos campos necessários\n",
    "    df = df.sort_values(by=['item', 'store_code', 'sell_price', 'yearweek'])\n",
    "\n",
    "    # Preencher os valores NaN com o valor anterior\n",
    "    df['yearweek'] = df['yearweek'].ffill()\n",
    "\n",
    "    # Converter a coluna yearweek para inteiro\n",
    "    df['yearweek'] = df['yearweek'].astype(int)\n",
    "\n",
    "    # Função para garantir a unicidade de yearweek, incrementando se necessário\n",
    "    def increment_yearweek(df):\n",
    "        last_yearweek = None\n",
    "        for i, row in df.iterrows():\n",
    "            if last_yearweek is not None and row['yearweek'] <= last_yearweek:\n",
    "                last_yearweek += 1\n",
    "                df.at[i, 'yearweek'] = int(last_yearweek)\n",
    "            else:\n",
    "                last_yearweek = row['yearweek']\n",
    "        return df\n",
    "\n",
    "    # Aplicar a função para incrementar yearweek dentro de cada grupo de item, store_code, e sell_price\n",
    "    df = df.groupby(['item', 'store_code', 'sell_price']).apply(increment_yearweek).reset_index(drop=True)\n",
    "\n",
    "    return df\n",
    "\n",
    "# Carregar o arquivo item_prices.csv com Dask\n",
    "item_prices = dd.read_csv('../data/item_prices.csv', dtype={'yearweek': 'float64'})\n",
    "\n",
    "# Aplicar a função de pandas a cada partição do Dask DataFrame\n",
    "df_filled_dask = item_prices.map_partitions(import_prices)\n",
    "\n",
    "# Salvar como múltiplos arquivos Parquet\n",
    "df_filled_dask.to_parquet('../data/item_prices_filled_parquet/', write_index=False)\n"
   ]
  }
 ],
 "metadata": {
  "kernelspec": {
   "display_name": "venv",
   "language": "python",
   "name": "python3"
  },
  "language_info": {
   "codemirror_mode": {
    "name": "ipython",
    "version": 3
   },
   "file_extension": ".py",
   "mimetype": "text/x-python",
   "name": "python",
   "nbconvert_exporter": "python",
   "pygments_lexer": "ipython3",
   "version": "3.11.7"
  }
 },
 "nbformat": 4,
 "nbformat_minor": 2
}
