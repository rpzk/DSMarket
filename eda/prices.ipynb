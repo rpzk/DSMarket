{
 "cells": [
  {
   "cell_type": "code",
   "execution_count": 1,
   "metadata": {},
   "outputs": [],
   "source": [
    "import dask.dataframe as dd"
   ]
  },
  {
   "cell_type": "code",
   "execution_count": 2,
   "metadata": {},
   "outputs": [
    {
     "name": "stderr",
     "output_type": "stream",
     "text": [
      "C:\\Users\\rpiaz\\AppData\\Local\\Temp\\ipykernel_13444\\1476150606.py:24: DeprecationWarning: DataFrameGroupBy.apply operated on the grouping columns. This behavior is deprecated, and in a future version of pandas the grouping columns will be excluded from the operation. Either pass `include_groups=False` to exclude the groupings or explicitly select the grouping columns after groupby to silence this warning.\n",
      "  df = df.groupby(['item', 'store_code', 'sell_price'], group_keys=False).apply(increment_yearweek).reset_index(drop=True)\n",
      "C:\\Users\\rpiaz\\AppData\\Local\\Temp\\ipykernel_13444\\1476150606.py:24: DeprecationWarning: DataFrameGroupBy.apply operated on the grouping columns. This behavior is deprecated, and in a future version of pandas the grouping columns will be excluded from the operation. Either pass `include_groups=False` to exclude the groupings or explicitly select the grouping columns after groupby to silence this warning.\n",
      "  df = df.groupby(['item', 'store_code', 'sell_price'], group_keys=False).apply(increment_yearweek).reset_index(drop=True)\n",
      "C:\\Users\\rpiaz\\AppData\\Local\\Temp\\ipykernel_13444\\1476150606.py:24: DeprecationWarning: DataFrameGroupBy.apply operated on the grouping columns. This behavior is deprecated, and in a future version of pandas the grouping columns will be excluded from the operation. Either pass `include_groups=False` to exclude the groupings or explicitly select the grouping columns after groupby to silence this warning.\n",
      "  df = df.groupby(['item', 'store_code', 'sell_price'], group_keys=False).apply(increment_yearweek).reset_index(drop=True)\n",
      "C:\\Users\\rpiaz\\AppData\\Local\\Temp\\ipykernel_13444\\1476150606.py:24: DeprecationWarning: DataFrameGroupBy.apply operated on the grouping columns. This behavior is deprecated, and in a future version of pandas the grouping columns will be excluded from the operation. Either pass `include_groups=False` to exclude the groupings or explicitly select the grouping columns after groupby to silence this warning.\n",
      "  df = df.groupby(['item', 'store_code', 'sell_price'], group_keys=False).apply(increment_yearweek).reset_index(drop=True)\n",
      "C:\\Users\\rpiaz\\AppData\\Local\\Temp\\ipykernel_13444\\1476150606.py:24: DeprecationWarning: DataFrameGroupBy.apply operated on the grouping columns. This behavior is deprecated, and in a future version of pandas the grouping columns will be excluded from the operation. Either pass `include_groups=False` to exclude the groupings or explicitly select the grouping columns after groupby to silence this warning.\n",
      "  df = df.groupby(['item', 'store_code', 'sell_price'], group_keys=False).apply(increment_yearweek).reset_index(drop=True)\n",
      "C:\\Users\\rpiaz\\AppData\\Local\\Temp\\ipykernel_13444\\1476150606.py:24: DeprecationWarning: DataFrameGroupBy.apply operated on the grouping columns. This behavior is deprecated, and in a future version of pandas the grouping columns will be excluded from the operation. Either pass `include_groups=False` to exclude the groupings or explicitly select the grouping columns after groupby to silence this warning.\n",
      "  df = df.groupby(['item', 'store_code', 'sell_price'], group_keys=False).apply(increment_yearweek).reset_index(drop=True)\n"
     ]
    }
   ],
   "source": [
    "# Função para processar em pandas\n",
    "def import_prices(df):\n",
    "    # Ordenar o DataFrame pelos campos necessários\n",
    "    df = df.sort_values(by=['item', 'store_code', 'sell_price', 'yearweek'])\n",
    "\n",
    "    # Preencher os valores NaN com o valor anterior\n",
    "    df['yearweek'] = df['yearweek'].ffill()\n",
    "\n",
    "    # Converter a coluna yearweek para inteiro\n",
    "    df['yearweek'] = df['yearweek'].astype(int)\n",
    "\n",
    "    # Função para garantir a unicidade de yearweek, incrementando se necessário\n",
    "    def increment_yearweek(df):\n",
    "        last_yearweek = None\n",
    "        for i, row in df.iterrows():\n",
    "            if last_yearweek is not None and row['yearweek'] <= last_yearweek:\n",
    "                last_yearweek += 1\n",
    "                df.at[i, 'yearweek'] = int(last_yearweek)\n",
    "            else:\n",
    "                last_yearweek = row['yearweek']\n",
    "        return df\n",
    "\n",
    "    # Aplicar a função para incrementar yearweek dentro de cada grupo de item, store_code, e sell_price\n",
    "    df = df.groupby(['item', 'store_code', 'sell_price'], group_keys=False).apply(increment_yearweek).reset_index(drop=True)\n",
    "\n",
    "    return df\n",
    "\n",
    "# Carregar o arquivo item_prices.csv com Dask\n",
    "item_prices = dd.read_csv('../data/item_prices.csv', dtype={'yearweek': 'float64'})\n",
    "\n",
    "# Aplicar a função de pandas a cada partição do Dask DataFrame\n",
    "df_filled_dask = item_prices.map_partitions(import_prices)\n",
    "\n",
    "# Salvar como múltiplos arquivos Parquet\n",
    "df_filled_dask.to_parquet('../data/prices/', write_index=False)"
   ]
  },
  {
   "cell_type": "code",
   "execution_count": 5,
   "metadata": {},
   "outputs": [
    {
     "name": "stderr",
     "output_type": "stream",
     "text": [
      "C:\\Users\\rpiaz\\AppData\\Local\\Temp\\ipykernel_13444\\1476150606.py:24: DeprecationWarning: DataFrameGroupBy.apply operated on the grouping columns. This behavior is deprecated, and in a future version of pandas the grouping columns will be excluded from the operation. Either pass `include_groups=False` to exclude the groupings or explicitly select the grouping columns after groupby to silence this warning.\n",
      "  df = df.groupby(['item', 'store_code', 'sell_price'], group_keys=False).apply(increment_yearweek).reset_index(drop=True)\n"
     ]
    },
    {
     "data": {
      "text/html": [
       "<div>\n",
       "<style scoped>\n",
       "    .dataframe tbody tr th:only-of-type {\n",
       "        vertical-align: middle;\n",
       "    }\n",
       "\n",
       "    .dataframe tbody tr th {\n",
       "        vertical-align: top;\n",
       "    }\n",
       "\n",
       "    .dataframe thead th {\n",
       "        text-align: right;\n",
       "    }\n",
       "</style>\n",
       "<table border=\"1\" class=\"dataframe\">\n",
       "  <thead>\n",
       "    <tr style=\"text-align: right;\">\n",
       "      <th></th>\n",
       "      <th>item</th>\n",
       "      <th>category</th>\n",
       "      <th>store_code</th>\n",
       "      <th>yearweek</th>\n",
       "      <th>sell_price</th>\n",
       "    </tr>\n",
       "  </thead>\n",
       "  <tbody>\n",
       "    <tr>\n",
       "      <th>0</th>\n",
       "      <td>ACCESORIES_1_001</td>\n",
       "      <td>ACCESORIES</td>\n",
       "      <td>NYC_1</td>\n",
       "      <td>201330</td>\n",
       "      <td>10.9858</td>\n",
       "    </tr>\n",
       "    <tr>\n",
       "      <th>1</th>\n",
       "      <td>ACCESORIES_1_001</td>\n",
       "      <td>ACCESORIES</td>\n",
       "      <td>NYC_1</td>\n",
       "      <td>201331</td>\n",
       "      <td>10.9858</td>\n",
       "    </tr>\n",
       "    <tr>\n",
       "      <th>2</th>\n",
       "      <td>ACCESORIES_1_001</td>\n",
       "      <td>ACCESORIES</td>\n",
       "      <td>NYC_1</td>\n",
       "      <td>201332</td>\n",
       "      <td>10.9858</td>\n",
       "    </tr>\n",
       "    <tr>\n",
       "      <th>3</th>\n",
       "      <td>ACCESORIES_1_001</td>\n",
       "      <td>ACCESORIES</td>\n",
       "      <td>NYC_1</td>\n",
       "      <td>201333</td>\n",
       "      <td>10.9858</td>\n",
       "    </tr>\n",
       "    <tr>\n",
       "      <th>4</th>\n",
       "      <td>ACCESORIES_1_001</td>\n",
       "      <td>ACCESORIES</td>\n",
       "      <td>NYC_1</td>\n",
       "      <td>201334</td>\n",
       "      <td>10.9858</td>\n",
       "    </tr>\n",
       "    <tr>\n",
       "      <th>...</th>\n",
       "      <td>...</td>\n",
       "      <td>...</td>\n",
       "      <td>...</td>\n",
       "      <td>...</td>\n",
       "      <td>...</td>\n",
       "    </tr>\n",
       "    <tr>\n",
       "      <th>95</th>\n",
       "      <td>ACCESORIES_1_001</td>\n",
       "      <td>ACCESORIES</td>\n",
       "      <td>NYC_1</td>\n",
       "      <td>201519</td>\n",
       "      <td>10.9858</td>\n",
       "    </tr>\n",
       "    <tr>\n",
       "      <th>96</th>\n",
       "      <td>ACCESORIES_1_001</td>\n",
       "      <td>ACCESORIES</td>\n",
       "      <td>NYC_1</td>\n",
       "      <td>201520</td>\n",
       "      <td>10.9858</td>\n",
       "    </tr>\n",
       "    <tr>\n",
       "      <th>97</th>\n",
       "      <td>ACCESORIES_1_001</td>\n",
       "      <td>ACCESORIES</td>\n",
       "      <td>NYC_1</td>\n",
       "      <td>201521</td>\n",
       "      <td>10.9858</td>\n",
       "    </tr>\n",
       "    <tr>\n",
       "      <th>98</th>\n",
       "      <td>ACCESORIES_1_001</td>\n",
       "      <td>ACCESORIES</td>\n",
       "      <td>NYC_1</td>\n",
       "      <td>201522</td>\n",
       "      <td>10.9858</td>\n",
       "    </tr>\n",
       "    <tr>\n",
       "      <th>99</th>\n",
       "      <td>ACCESORIES_1_001</td>\n",
       "      <td>ACCESORIES</td>\n",
       "      <td>NYC_1</td>\n",
       "      <td>201523</td>\n",
       "      <td>10.9858</td>\n",
       "    </tr>\n",
       "  </tbody>\n",
       "</table>\n",
       "<p>100 rows × 5 columns</p>\n",
       "</div>"
      ],
      "text/plain": [
       "                item    category store_code  yearweek  sell_price\n",
       "0   ACCESORIES_1_001  ACCESORIES      NYC_1    201330     10.9858\n",
       "1   ACCESORIES_1_001  ACCESORIES      NYC_1    201331     10.9858\n",
       "2   ACCESORIES_1_001  ACCESORIES      NYC_1    201332     10.9858\n",
       "3   ACCESORIES_1_001  ACCESORIES      NYC_1    201333     10.9858\n",
       "4   ACCESORIES_1_001  ACCESORIES      NYC_1    201334     10.9858\n",
       "..               ...         ...        ...       ...         ...\n",
       "95  ACCESORIES_1_001  ACCESORIES      NYC_1    201519     10.9858\n",
       "96  ACCESORIES_1_001  ACCESORIES      NYC_1    201520     10.9858\n",
       "97  ACCESORIES_1_001  ACCESORIES      NYC_1    201521     10.9858\n",
       "98  ACCESORIES_1_001  ACCESORIES      NYC_1    201522     10.9858\n",
       "99  ACCESORIES_1_001  ACCESORIES      NYC_1    201523     10.9858\n",
       "\n",
       "[100 rows x 5 columns]"
      ]
     },
     "execution_count": 5,
     "metadata": {},
     "output_type": "execute_result"
    }
   ],
   "source": [
    "df_filled_dask.head(100)"
   ]
  },
  {
   "cell_type": "code",
   "execution_count": 4,
   "metadata": {},
   "outputs": [
    {
     "data": {
      "text/plain": [
       "item          0\n",
       "category      0\n",
       "store_code    0\n",
       "yearweek      0\n",
       "sell_price    0\n",
       "dtype: int64"
      ]
     },
     "execution_count": 4,
     "metadata": {},
     "output_type": "execute_result"
    }
   ],
   "source": [
    "df_filled_dask.isna().sum().compute()"
   ]
  },
  {
   "cell_type": "code",
   "execution_count": 6,
   "metadata": {},
   "outputs": [
    {
     "name": "stdout",
     "output_type": "stream",
     "text": [
      "                      item     category store_code  yearweek  sell_price\n",
      "155       ACCESORIES_1_001   ACCESORIES      NYC_1    201328     12.7414\n",
      "578       ACCESORIES_1_002   ACCESORIES      NYC_1    201328      5.2801\n",
      "860       ACCESORIES_1_002   ACCESORIES      NYC_2    201328      5.2801\n",
      "1145      ACCESORIES_1_002   ACCESORIES      NYC_3    201328      5.2801\n",
      "1757      ACCESORIES_1_004   ACCESORIES      NYC_1    201328      6.1712\n",
      "...                    ...          ...        ...       ...         ...\n",
      "1393229  SUPERMARKET_3_824  SUPERMARKET      PHI_2    201328      3.2160\n",
      "1393567  SUPERMARKET_3_824  SUPERMARKET      PHI_3    201328      3.2160\n",
      "1393678  SUPERMARKET_3_825  SUPERMARKET      PHI_2    201328      4.7760\n",
      "1393963  SUPERMARKET_3_825  SUPERMARKET      PHI_3    201328      4.7760\n",
      "1394246  SUPERMARKET_3_826  SUPERMARKET      PHI_2    201328      1.5360\n",
      "\n",
      "[24639 rows x 5 columns]\n"
     ]
    }
   ],
   "source": [
    "row_201328 = df_filled_dask.loc[df_filled_dask['yearweek'] == 201328].compute()\n",
    "print(row_201328)"
   ]
  }
 ],
 "metadata": {
  "kernelspec": {
   "display_name": "venv",
   "language": "python",
   "name": "python3"
  },
  "language_info": {
   "codemirror_mode": {
    "name": "ipython",
    "version": 3
   },
   "file_extension": ".py",
   "mimetype": "text/x-python",
   "name": "python",
   "nbconvert_exporter": "python",
   "pygments_lexer": "ipython3",
   "version": "3.12.3"
  }
 },
 "nbformat": 4,
 "nbformat_minor": 2
}
