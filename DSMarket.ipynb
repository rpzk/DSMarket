{
 "cells": [
  {
   "cell_type": "markdown",
   "id": "cbf10fa5-d8a8-4cd0-8b46-1e3788deb52e",
   "metadata": {},
   "source": [
    "<p align=\"center\">\n",
    "  <img src=\"https://nuclio.school/wp-content/uploads/2018/12/nucleoDS-newBlack.png\" alt=\"Image Title\">\n",
    "</p>\n",
    "<h1 align=\"center\">Programa de mestrado Data Science & AI Nuclio Digital School</h1>\n",
    "<h1 align=\"center\">Nuclio Digital School</h1>\n",
    "<h3>Autores: Bruno Matos, Henrique Salazar, Lucas Ferreira, Mário Sérgio, Rafael Piazenski, Tathiane Tioko</h2>\n",
    "<h3>Tutores: Luís Roque, Tiago Otto Rogdrigues e João Pedro Correia dos Reis.</h3>\n",
    "<h3>Coordenador: Rivadavia Padilha Vieira Junior</h2>\n",
    "<h4>Data:</h3>\n",
    "<h4>Prazo de Entrega: 20 de outubro de 2024.</h3>\n",
    "<h4>Prazo de Defesa:</h3>"
   ]
  },
  {
   "cell_type": "code",
   "execution_count": null,
   "id": "6de2d6ee-17cb-43d3-a8f8-0c44cef94c48",
   "metadata": {},
   "outputs": [],
   "source": [
    "Índice"
   ]
  },
  {
   "cell_type": "code",
   "execution_count": null,
   "id": "f3074e93-696a-46e8-b4a8-eee34fe86c9a",
   "metadata": {},
   "outputs": [],
   "source": [
    "Introdução"
   ]
  },
  {
   "cell_type": "code",
   "execution_count": null,
   "id": "028a1426-1829-4368-a8b7-60574ace45ed",
   "metadata": {},
   "outputs": [],
   "source": [
    "<h1>Justificativa</h1>\n",
    "\n",
    "<p>Dotar os alunos das ferramentas conceituais e processuais necessárias para o desenvolvimento de projetos no domínio de Data Science.\n",
    "Através deste projeto, os alunos têm a oportunidade de aplicar os conhecimentos e competências adquiridos ao longo do curso, demonstrando a sua capacidade de\n",
    "enfrentar e resolver problemas reais nesta área. O objectivo geral do Projeto Final é não só consolidar a aprendizagem dos alunos, mas também\n",
    "proporcionar-lhes experiência prática no desenvolvimento de projetos de Ciência de Dados. Esta experiência é essencial para preparar os alunos para os desafios que enfrentarão no mundo\n",
    "profissional e para ajudá-los a destacar-se no mercado de trabalho. Ao realizar o Projeto Final, os alunos têm a oportunidade de aprofundar o seu conhecimento em\n",
    "tópicos específicos, desenvolver habilidades analíticas e de comunicação, e aprender a trabalhar de forma eficaz em equipa. Além disso, este projeto permite aos alunos construir um portfólio de trabalho\n",
    "relevante, que poderá ser apresentado a futuros empregadores como prova das suas competências e realizações na área de Ciência de Dados</p>"
   ]
  },
  {
   "cell_type": "code",
   "execution_count": null,
   "id": "59e04b19-5ffe-44a0-9bda-7687b9dc788a",
   "metadata": {},
   "outputs": [],
   "source": [
    "Objetivos"
   ]
  },
  {
   "cell_type": "code",
   "execution_count": null,
   "id": "ece2e1a4-6968-4e3c-970e-524f936146a2",
   "metadata": {},
   "outputs": [],
   "source": [
    "Metodologia"
   ]
  },
  {
   "cell_type": "code",
   "execution_count": null,
   "id": "7fc965a6-d2c7-4b53-ba49-ab19b7b0fafc",
   "metadata": {},
   "outputs": [],
   "source": [
    "Resultados"
   ]
  },
  {
   "cell_type": "code",
   "execution_count": null,
   "id": "923ba0e1-3a8c-44a6-8887-02aa514d7c27",
   "metadata": {},
   "outputs": [],
   "source": [
    "Conclusões"
   ]
  },
  {
   "cell_type": "code",
   "execution_count": null,
   "id": "7389b084-9cc1-436e-a10d-112031744f54",
   "metadata": {},
   "outputs": [],
   "source": [
    "Bibliografia"
   ]
  }
 ],
 "metadata": {
  "kernelspec": {
   "display_name": "Python 3 (ipykernel)",
   "language": "python",
   "name": "python3"
  },
  "language_info": {
   "codemirror_mode": {
    "name": "ipython",
    "version": 3
   },
   "file_extension": ".py",
   "mimetype": "text/x-python",
   "name": "python",
   "nbconvert_exporter": "python",
   "pygments_lexer": "ipython3",
   "version": "3.11.7"
  }
 },
 "nbformat": 4,
 "nbformat_minor": 5
}
