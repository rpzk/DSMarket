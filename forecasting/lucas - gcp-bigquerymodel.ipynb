{
 "cells": [
  {
   "cell_type": "code",
   "execution_count": 8,
   "id": "cc7ecd0e",
   "metadata": {
    "title": "Importações"
   },
   "outputs": [],
   "source": [
    "import os\n",
    "from google.cloud import bigquery\n",
    "from google.oauth2 import service_account\n",
    "\n",
    "import pandas as pd\n",
    "import matplotlib.pyplot as plt\n",
    "\n",
    "from sqlalchemy import create_engine\n",
    "from sqlalchemy.types import Integer, String, Float, DateTime\n",
    "import seaborn as sns\n",
    "from prophet import Prophet\n",
    "\n",
    "# Configurações de visualização\n",
    "%matplotlib inline\n",
    "sns.set(style=\"whitegrid\")"
   ]
  },
  {
   "cell_type": "code",
   "execution_count": 9,
   "id": "db6e1308",
   "metadata": {
    "title": "Conectar ao BigQuery"
   },
   "outputs": [],
   "source": [
    "service_account_path = 'tfm-sa.json'\n",
    "credentials = service_account.Credentials.from_service_account_file(service_account_path)\n",
    "project_id = 'perseverance-332400'\n",
    "dataset_id = 'TFM'\n",
    "table_id = 'ds_market'\n",
    "full_table_id = f'{project_id}.{dataset_id}.{table_id}'\n",
    "client = bigquery.Client(project=project_id, credentials=credentials)"
   ]
  },
  {
   "cell_type": "code",
   "execution_count": 10,
   "id": "d6951d52",
   "metadata": {
    "title": "Executar consulta"
   },
   "outputs": [],
   "source": [
    "sample_query = f\"\"\"\n",
    "SELECT *\n",
    "FROM `{full_table_id}`\n",
    "WHERE EXTRACT(YEAR FROM date) = 2015;\n",
    "\"\"\"\n",
    "\n",
    "def executar_consulta(sql, client):\n",
    "    query_job = client.query(sql)\n",
    "    return query_job.to_dataframe()\n",
    "\n",
    "df = executar_consulta(sample_query, client)"
   ]
  },
  {
   "cell_type": "code",
   "execution_count": null,
   "id": "a424c79f",
   "metadata": {},
   "outputs": [],
   "source": [
    "print(df.head())"
   ]
  },
  {
   "cell_type": "code",
   "execution_count": 4,
   "id": "a6d33a2d",
   "metadata": {
    "title": "Converter datas"
   },
   "outputs": [],
   "source": [
    "df['date'] = pd.to_datetime(df['date']).dt.tz_localize(None)"
   ]
  },
  {
   "cell_type": "code",
   "execution_count": 5,
   "id": "ceec8d78",
   "metadata": {
    "title": "Filtro de produto e loja"
   },
   "outputs": [],
   "source": [
    "product_id = 'ACCESORIES_1_238'\n",
    "store_id = 'Harlem'\n",
    "filtered_df = df[(df['item'] == product_id) & (df['store'] == store_id)]"
   ]
  },
  {
   "cell_type": "code",
   "execution_count": null,
   "id": "b80a7917",
   "metadata": {
    "title": "Agregar vendas por semana"
   },
   "outputs": [],
   "source": [
    "filtered_df['date'] = pd.to_datetime(filtered_df['date']).dt.tz_localize(None)\n",
    "filtered_df.set_index('date', inplace=True)\n",
    "agg_data = filtered_df.resample('W').agg({'sales': 'sum'}).reset_index()\n",
    "agg_data.rename(columns={'date': 'ds', 'sales': 'y'}, inplace=True)\n",
    "\n",
    "# Tratar valores ausentes\n",
    "agg_data['y'] = agg_data['y'].fillna(0)"
   ]
  },
  {
   "cell_type": "code",
   "execution_count": 7,
   "id": "10ae24ab",
   "metadata": {
    "title": "Definir eventos manuais"
   },
   "outputs": [],
   "source": [
    "natal_events = pd.DataFrame({\n",
    "    'holiday': ['Christmas'] * 6,\n",
    "    'ds': pd.to_datetime(['2011-12-25', '2012-12-25', '2013-12-25', '2014-12-25', '2015-12-25', '2016-12-25']),\n",
    "    'lower_window': [-2] * 6,\n",
    "    'upper_window': [1] * 6\n",
    "})\n",
    "\n",
    "ramadan_events = pd.DataFrame({\n",
    "    'holiday': ['Ramadan'] * 6,\n",
    "    'ds': pd.to_datetime(['2011-08-01', '2012-07-20', '2013-07-09', '2014-06-28', '2015-06-18', '2016-06-06']),\n",
    "    'lower_window': [0] * 6,\n",
    "    'upper_window': [30] * 6\n",
    "})\n",
    "\n",
    "events_df = pd.concat([natal_events, ramadan_events])\n",
    "events_df = events_df[['ds', 'holiday', 'lower_window', 'upper_window']].drop_duplicates()"
   ]
  },
  {
   "cell_type": "code",
   "execution_count": null,
   "id": "017f7a0a",
   "metadata": {
    "title": "Ajustar o modelo Prophet"
   },
   "outputs": [],
   "source": [
    "model = Prophet(holidays=events_df, yearly_seasonality=True, weekly_seasonality=True)\n",
    "model.add_seasonality(name='monthly', period=30.5, fourier_order=5)\n",
    "model.fit(agg_data)"
   ]
  },
  {
   "cell_type": "code",
   "execution_count": 9,
   "id": "ce1df173",
   "metadata": {
    "title": "Fazer previsões para 28 dias"
   },
   "outputs": [],
   "source": [
    "future = model.make_future_dataframe(periods=28, freq='D')  # Previsão diária para 28 dias\n",
    "forecast = model.predict(future)"
   ]
  },
  {
   "cell_type": "code",
   "execution_count": null,
   "id": "fb88f50e",
   "metadata": {
    "title": "Visualizar previsões com intervalos de confiança"
   },
   "outputs": [],
   "source": [
    "fig = model.plot(forecast)\n",
    "plt.fill_between(forecast['ds'], forecast['yhat_lower'], forecast['yhat_upper'], color='gray', alpha=0.2)\n",
    "plt.show()"
   ]
  },
  {
   "cell_type": "code",
   "execution_count": 11,
   "id": "34d638e4",
   "metadata": {
    "title": "Salvar previsões em CSV"
   },
   "outputs": [],
   "source": [
    "forecast.to_csv('previsoes_vendas_28_dias.csv', index=False)"
   ]
  },
  {
   "cell_type": "code",
   "execution_count": null,
   "id": "e21a2995",
   "metadata": {
    "title": "Visualizar os componentes do modelo"
   },
   "outputs": [],
   "source": [
    "fig2 = model.plot_components(forecast)"
   ]
  }
 ],
 "metadata": {
  "jupytext": {
   "cell_metadata_filter": "-all",
   "main_language": "python",
   "notebook_metadata_filter": "-all"
  },
  "kernelspec": {
   "display_name": ".venv",
   "language": "python",
   "name": "python3"
  },
  "language_info": {
   "codemirror_mode": {
    "name": "ipython",
    "version": 3
   },
   "file_extension": ".py",
   "mimetype": "text/x-python",
   "name": "python",
   "nbconvert_exporter": "python",
   "pygments_lexer": "ipython3",
   "version": "3.12.3"
  }
 },
 "nbformat": 4,
 "nbformat_minor": 5
}
