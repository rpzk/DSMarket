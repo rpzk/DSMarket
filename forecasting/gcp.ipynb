{
 "cells": [
  {
   "cell_type": "markdown",
   "id": "6581ea50",
   "metadata": {},
   "source": [
    "# Análise de Vendas no GCP com BigQuery - Lucas"
   ]
  },
  {
   "cell_type": "markdown",
   "id": "bd959d21",
   "metadata": {},
   "source": [
    "Este notebook realiza diversas consultas SQL em uma base de dados grande hospedada no Google Cloud Platform (GCP) utilizando o BigQuery. As consultas abrangem análises de vendas por região, departamento, categoria, loja e outros parâmetros relevantes."
   ]
  },
  {
   "cell_type": "markdown",
   "id": "dd297aa1",
   "metadata": {},
   "source": [
    "## 1. Configuração e Importações"
   ]
  },
  {
   "cell_type": "code",
   "execution_count": 1,
   "id": "b4e51cf8",
   "metadata": {},
   "outputs": [],
   "source": [
    "import os\n",
    "\n",
    "from google.cloud import bigquery\n",
    "from google.oauth2 import service_account\n",
    "\n",
    "import pandas as pd\n",
    "\n",
    "from sqlalchemy import create_engine\n",
    "from sqlalchemy.types import Integer, String, Float, DateTime\n",
    "import psycopg2\n",
    "\n",
    "import matplotlib.pyplot as plt\n",
    "import seaborn as sns\n",
    "\n",
    "from sklearn.model_selection import train_test_split\n",
    "from sklearn.linear_model import LogisticRegression\n",
    "from sklearn.metrics import accuracy_score, confusion_matrix, classification_report\n",
    "from sklearn.preprocessing import OneHotEncoder\n",
    "from sklearn.compose import ColumnTransformer\n",
    "from sklearn.pipeline import Pipeline\n",
    "from sklearn.impute import SimpleImputer\n",
    "\n",
    "import dash\n",
    "from dash import dcc, html\n",
    "from dash.dependencies import Input, Output\n",
    "\n",
    "import plotly.express as px\n",
    "\n",
    "# Configurações para visualizações\n",
    "%matplotlib inline\n",
    "sns.set(style=\"whitegrid\")"
   ]
  },
  {
   "cell_type": "markdown",
   "id": "7b9442b2",
   "metadata": {},
   "source": [
    "## 2. Autenticação e Conexão com o BigQuery"
   ]
  },
  {
   "cell_type": "code",
   "execution_count": 2,
   "id": "51785bc4",
   "metadata": {},
   "outputs": [],
   "source": [
    "# Caminho para o arquivo de chave da conta de serviço\n",
    "service_account_path = 'tfm-sa.json'\n",
    "\n",
    "# Criar objeto de credenciais\n",
    "credentials = service_account.Credentials.from_service_account_file(service_account_path)\n",
    "\n",
    "# Configurações do projeto e dataset\n",
    "project_id = 'perseverance-332400'\n",
    "dataset_id = 'TFM'\n",
    "table_id = 'ds_market'\n",
    "full_table_id = f'{project_id}.{dataset_id}.{table_id}'\n",
    "\n",
    "# Criar cliente BigQuery\n",
    "client = bigquery.Client(project=project_id, credentials=credentials)"
   ]
  },
  {
   "cell_type": "markdown",
   "id": "75fce43c",
   "metadata": {},
   "source": [
    "## 3. Listagem e Visualização das Colunas e Dados"
   ]
  },
  {
   "cell_type": "markdown",
   "id": "b4de0ac6",
   "metadata": {},
   "source": [
    "### 3.1. Listando as Colunas Disponíveis na Tabela"
   ]
  },
  {
   "cell_type": "code",
   "execution_count": 3,
   "id": "77841db3",
   "metadata": {},
   "outputs": [
    {
     "name": "stdout",
     "output_type": "stream",
     "text": [
      "Colunas disponíveis na tabela `TFM.ds_market`:\n",
      "- id\n",
      "- item\n",
      "- category_x\n",
      "- department\n",
      "- store\n",
      "- store_code\n",
      "- region\n",
      "- d\n",
      "- sales\n",
      "- yearweek\n",
      "- date\n",
      "- event\n",
      "- category_y\n",
      "- sell_price\n"
     ]
    }
   ],
   "source": [
    "# Obter o esquema da tabela\n",
    "table = client.get_table(full_table_id)  # Faz uma chamada API para obter a tabela\n",
    "\n",
    "# Extrair os nomes das colunas\n",
    "columns = [schema_field.name for schema_field in table.schema]\n",
    "\n",
    "# Exibir as colunas\n",
    "print(\"Colunas disponíveis na tabela `TFM.ds_market`:\")\n",
    "for column in columns:\n",
    "    print(f\"- {column}\")"
   ]
  },
  {
   "cell_type": "markdown",
   "id": "d9f19890",
   "metadata": {},
   "source": [
    "### 3.2. Obtendo um Conjunto de Dados de Amostra"
   ]
  },
  {
   "cell_type": "code",
   "execution_count": 4,
   "id": "14ca08cf",
   "metadata": {},
   "outputs": [
    {
     "name": "stderr",
     "output_type": "stream",
     "text": [
      "c:\\Users\\rpiaz\\Desenvolvimento\\DSMarket\\.venv\\Lib\\site-packages\\google\\cloud\\bigquery\\table.py:1727: UserWarning: BigQuery Storage module not found, fetch data with the REST endpoint instead.\n",
      "  warnings.warn(\n"
     ]
    },
    {
     "data": {
      "text/html": [
       "<div>\n",
       "<style scoped>\n",
       "    .dataframe tbody tr th:only-of-type {\n",
       "        vertical-align: middle;\n",
       "    }\n",
       "\n",
       "    .dataframe tbody tr th {\n",
       "        vertical-align: top;\n",
       "    }\n",
       "\n",
       "    .dataframe thead th {\n",
       "        text-align: right;\n",
       "    }\n",
       "</style>\n",
       "<table border=\"1\" class=\"dataframe\">\n",
       "  <thead>\n",
       "    <tr style=\"text-align: right;\">\n",
       "      <th></th>\n",
       "      <th>id</th>\n",
       "      <th>item</th>\n",
       "      <th>category_x</th>\n",
       "      <th>department</th>\n",
       "      <th>store</th>\n",
       "      <th>store_code</th>\n",
       "      <th>region</th>\n",
       "      <th>d</th>\n",
       "      <th>sales</th>\n",
       "      <th>yearweek</th>\n",
       "      <th>date</th>\n",
       "      <th>event</th>\n",
       "      <th>category_y</th>\n",
       "      <th>sell_price</th>\n",
       "    </tr>\n",
       "  </thead>\n",
       "  <tbody>\n",
       "    <tr>\n",
       "      <th>0</th>\n",
       "      <td>ACCESORIES_1_001_BOS_1</td>\n",
       "      <td>ACCESORIES_1_001</td>\n",
       "      <td>ACCESORIES</td>\n",
       "      <td>ACCESORIES_1</td>\n",
       "      <td>South_End</td>\n",
       "      <td>BOS_1</td>\n",
       "      <td>Boston</td>\n",
       "      <td>d_1217</td>\n",
       "      <td>0</td>\n",
       "      <td>201422</td>\n",
       "      <td>2014-05-29 00:00:00+00:00</td>\n",
       "      <td>None</td>\n",
       "      <td>ACCESORIES</td>\n",
       "      <td>10.9858</td>\n",
       "    </tr>\n",
       "    <tr>\n",
       "      <th>1</th>\n",
       "      <td>ACCESORIES_1_001_BOS_1</td>\n",
       "      <td>ACCESORIES_1_001</td>\n",
       "      <td>ACCESORIES</td>\n",
       "      <td>ACCESORIES_1</td>\n",
       "      <td>South_End</td>\n",
       "      <td>BOS_1</td>\n",
       "      <td>Boston</td>\n",
       "      <td>d_1899</td>\n",
       "      <td>0</td>\n",
       "      <td>201614</td>\n",
       "      <td>2016-04-10 00:00:00+00:00</td>\n",
       "      <td>None</td>\n",
       "      <td>ACCESORIES</td>\n",
       "      <td>10.9858</td>\n",
       "    </tr>\n",
       "    <tr>\n",
       "      <th>2</th>\n",
       "      <td>ACCESORIES_1_001_BOS_1</td>\n",
       "      <td>ACCESORIES_1_001</td>\n",
       "      <td>ACCESORIES</td>\n",
       "      <td>ACCESORIES_1</td>\n",
       "      <td>South_End</td>\n",
       "      <td>BOS_1</td>\n",
       "      <td>Boston</td>\n",
       "      <td>d_865</td>\n",
       "      <td>0</td>\n",
       "      <td>201324</td>\n",
       "      <td>2013-06-11 00:00:00+00:00</td>\n",
       "      <td>None</td>\n",
       "      <td>None</td>\n",
       "      <td>NaN</td>\n",
       "    </tr>\n",
       "    <tr>\n",
       "      <th>3</th>\n",
       "      <td>ACCESORIES_1_001_BOS_1</td>\n",
       "      <td>ACCESORIES_1_001</td>\n",
       "      <td>ACCESORIES</td>\n",
       "      <td>ACCESORIES_1</td>\n",
       "      <td>South_End</td>\n",
       "      <td>BOS_1</td>\n",
       "      <td>Boston</td>\n",
       "      <td>d_96</td>\n",
       "      <td>0</td>\n",
       "      <td>201118</td>\n",
       "      <td>2011-05-04 00:00:00+00:00</td>\n",
       "      <td>None</td>\n",
       "      <td>None</td>\n",
       "      <td>NaN</td>\n",
       "    </tr>\n",
       "    <tr>\n",
       "      <th>4</th>\n",
       "      <td>ACCESORIES_1_001_BOS_1</td>\n",
       "      <td>ACCESORIES_1_001</td>\n",
       "      <td>ACCESORIES</td>\n",
       "      <td>ACCESORIES_1</td>\n",
       "      <td>South_End</td>\n",
       "      <td>BOS_1</td>\n",
       "      <td>Boston</td>\n",
       "      <td>d_373</td>\n",
       "      <td>0</td>\n",
       "      <td>201205</td>\n",
       "      <td>2012-02-05 00:00:00+00:00</td>\n",
       "      <td>SuperBowl</td>\n",
       "      <td>None</td>\n",
       "      <td>NaN</td>\n",
       "    </tr>\n",
       "    <tr>\n",
       "      <th>5</th>\n",
       "      <td>ACCESORIES_1_001_BOS_1</td>\n",
       "      <td>ACCESORIES_1_001</td>\n",
       "      <td>ACCESORIES</td>\n",
       "      <td>ACCESORIES_1</td>\n",
       "      <td>South_End</td>\n",
       "      <td>BOS_1</td>\n",
       "      <td>Boston</td>\n",
       "      <td>d_1789</td>\n",
       "      <td>1</td>\n",
       "      <td>201552</td>\n",
       "      <td>2015-12-22 00:00:00+00:00</td>\n",
       "      <td>None</td>\n",
       "      <td>ACCESORIES</td>\n",
       "      <td>10.9858</td>\n",
       "    </tr>\n",
       "    <tr>\n",
       "      <th>6</th>\n",
       "      <td>ACCESORIES_1_001_BOS_1</td>\n",
       "      <td>ACCESORIES_1_001</td>\n",
       "      <td>ACCESORIES</td>\n",
       "      <td>ACCESORIES_1</td>\n",
       "      <td>South_End</td>\n",
       "      <td>BOS_1</td>\n",
       "      <td>Boston</td>\n",
       "      <td>d_1163</td>\n",
       "      <td>0</td>\n",
       "      <td>201414</td>\n",
       "      <td>2014-04-05 00:00:00+00:00</td>\n",
       "      <td>None</td>\n",
       "      <td>ACCESORIES</td>\n",
       "      <td>10.9858</td>\n",
       "    </tr>\n",
       "    <tr>\n",
       "      <th>7</th>\n",
       "      <td>ACCESORIES_1_001_BOS_1</td>\n",
       "      <td>ACCESORIES_1_001</td>\n",
       "      <td>ACCESORIES</td>\n",
       "      <td>ACCESORIES_1</td>\n",
       "      <td>South_End</td>\n",
       "      <td>BOS_1</td>\n",
       "      <td>Boston</td>\n",
       "      <td>d_1377</td>\n",
       "      <td>0</td>\n",
       "      <td>201445</td>\n",
       "      <td>2014-11-05 00:00:00+00:00</td>\n",
       "      <td>None</td>\n",
       "      <td>ACCESORIES</td>\n",
       "      <td>10.9858</td>\n",
       "    </tr>\n",
       "    <tr>\n",
       "      <th>8</th>\n",
       "      <td>ACCESORIES_1_001_BOS_1</td>\n",
       "      <td>ACCESORIES_1_001</td>\n",
       "      <td>ACCESORIES</td>\n",
       "      <td>ACCESORIES_1</td>\n",
       "      <td>South_End</td>\n",
       "      <td>BOS_1</td>\n",
       "      <td>Boston</td>\n",
       "      <td>d_1366</td>\n",
       "      <td>0</td>\n",
       "      <td>201443</td>\n",
       "      <td>2014-10-25 00:00:00+00:00</td>\n",
       "      <td>None</td>\n",
       "      <td>ACCESORIES</td>\n",
       "      <td>10.9858</td>\n",
       "    </tr>\n",
       "    <tr>\n",
       "      <th>9</th>\n",
       "      <td>ACCESORIES_1_002_BOS_1</td>\n",
       "      <td>ACCESORIES_1_002</td>\n",
       "      <td>ACCESORIES</td>\n",
       "      <td>ACCESORIES_1</td>\n",
       "      <td>South_End</td>\n",
       "      <td>BOS_1</td>\n",
       "      <td>Boston</td>\n",
       "      <td>d_1457</td>\n",
       "      <td>0</td>\n",
       "      <td>201504</td>\n",
       "      <td>2015-01-24 00:00:00+00:00</td>\n",
       "      <td>None</td>\n",
       "      <td>ACCESORIES</td>\n",
       "      <td>5.2801</td>\n",
       "    </tr>\n",
       "  </tbody>\n",
       "</table>\n",
       "</div>"
      ],
      "text/plain": [
       "                       id              item  category_x    department  \\\n",
       "0  ACCESORIES_1_001_BOS_1  ACCESORIES_1_001  ACCESORIES  ACCESORIES_1   \n",
       "1  ACCESORIES_1_001_BOS_1  ACCESORIES_1_001  ACCESORIES  ACCESORIES_1   \n",
       "2  ACCESORIES_1_001_BOS_1  ACCESORIES_1_001  ACCESORIES  ACCESORIES_1   \n",
       "3  ACCESORIES_1_001_BOS_1  ACCESORIES_1_001  ACCESORIES  ACCESORIES_1   \n",
       "4  ACCESORIES_1_001_BOS_1  ACCESORIES_1_001  ACCESORIES  ACCESORIES_1   \n",
       "5  ACCESORIES_1_001_BOS_1  ACCESORIES_1_001  ACCESORIES  ACCESORIES_1   \n",
       "6  ACCESORIES_1_001_BOS_1  ACCESORIES_1_001  ACCESORIES  ACCESORIES_1   \n",
       "7  ACCESORIES_1_001_BOS_1  ACCESORIES_1_001  ACCESORIES  ACCESORIES_1   \n",
       "8  ACCESORIES_1_001_BOS_1  ACCESORIES_1_001  ACCESORIES  ACCESORIES_1   \n",
       "9  ACCESORIES_1_002_BOS_1  ACCESORIES_1_002  ACCESORIES  ACCESORIES_1   \n",
       "\n",
       "       store store_code  region       d  sales yearweek  \\\n",
       "0  South_End      BOS_1  Boston  d_1217      0   201422   \n",
       "1  South_End      BOS_1  Boston  d_1899      0   201614   \n",
       "2  South_End      BOS_1  Boston   d_865      0   201324   \n",
       "3  South_End      BOS_1  Boston    d_96      0   201118   \n",
       "4  South_End      BOS_1  Boston   d_373      0   201205   \n",
       "5  South_End      BOS_1  Boston  d_1789      1   201552   \n",
       "6  South_End      BOS_1  Boston  d_1163      0   201414   \n",
       "7  South_End      BOS_1  Boston  d_1377      0   201445   \n",
       "8  South_End      BOS_1  Boston  d_1366      0   201443   \n",
       "9  South_End      BOS_1  Boston  d_1457      0   201504   \n",
       "\n",
       "                       date      event  category_y  sell_price  \n",
       "0 2014-05-29 00:00:00+00:00       None  ACCESORIES     10.9858  \n",
       "1 2016-04-10 00:00:00+00:00       None  ACCESORIES     10.9858  \n",
       "2 2013-06-11 00:00:00+00:00       None        None         NaN  \n",
       "3 2011-05-04 00:00:00+00:00       None        None         NaN  \n",
       "4 2012-02-05 00:00:00+00:00  SuperBowl        None         NaN  \n",
       "5 2015-12-22 00:00:00+00:00       None  ACCESORIES     10.9858  \n",
       "6 2014-04-05 00:00:00+00:00       None  ACCESORIES     10.9858  \n",
       "7 2014-11-05 00:00:00+00:00       None  ACCESORIES     10.9858  \n",
       "8 2014-10-25 00:00:00+00:00       None  ACCESORIES     10.9858  \n",
       "9 2015-01-24 00:00:00+00:00       None  ACCESORIES      5.2801  "
      ]
     },
     "execution_count": 4,
     "metadata": {},
     "output_type": "execute_result"
    }
   ],
   "source": [
    "# Definir uma consulta para obter as primeiras 10 linhas da tabela\n",
    "sample_query = f\"\"\"\n",
    "SELECT *\n",
    "FROM `{full_table_id}`\n",
    "LIMIT 10;\n",
    "\"\"\"\n",
    "\n",
    "# Definir a função para executar consultas\n",
    "def executar_consulta(sql, client):\n",
    "    \"\"\"\n",
    "    Executa uma consulta SQL no BigQuery e retorna um DataFrame do Pandas.\n",
    "    \n",
    "    Args:\n",
    "        sql (str): A consulta SQL a ser executada.\n",
    "        client (bigquery.Client): Cliente do BigQuery.\n",
    "\n",
    "    Returns:\n",
    "        pd.DataFrame: Resultado da consulta.\n",
    "    \"\"\"\n",
    "    query_job = client.query(sql)\n",
    "    return query_job.to_dataframe()\n",
    "\n",
    "# Executar a consulta\n",
    "df_sample = executar_consulta(sample_query, client)\n",
    "\n",
    "# Exibir o DataFrame de amostra\n",
    "df_sample"
   ]
  },
  {
   "cell_type": "markdown",
   "id": "8f88f14c",
   "metadata": {},
   "source": [
    "### 3.3. Inspecionando os Tipos de Dados das Colunas"
   ]
  },
  {
   "cell_type": "code",
   "execution_count": 5,
   "id": "f30d88be",
   "metadata": {},
   "outputs": [
    {
     "name": "stdout",
     "output_type": "stream",
     "text": [
      "Esquema da tabela `TFM.ds_market`:\n",
      "- id: STRING\n",
      "- item: STRING\n",
      "- category_x: STRING\n",
      "- department: STRING\n",
      "- store: STRING\n",
      "- store_code: STRING\n",
      "- region: STRING\n",
      "- d: STRING\n",
      "- sales: INTEGER\n",
      "- yearweek: STRING\n",
      "- date: TIMESTAMP\n",
      "- event: STRING\n",
      "- category_y: STRING\n",
      "- sell_price: FLOAT\n"
     ]
    }
   ],
   "source": [
    "print(\"Esquema da tabela `TFM.ds_market`:\")\n",
    "for schema_field in table.schema:\n",
    "    print(f\"- {schema_field.name}: {schema_field.field_type}\")"
   ]
  },
  {
   "cell_type": "markdown",
   "id": "50faafa9",
   "metadata": {},
   "source": [
    "## 4. Definição das Consultas SQL Refinadas"
   ]
  },
  {
   "cell_type": "code",
   "execution_count": 6,
   "id": "a961ce8e",
   "metadata": {},
   "outputs": [],
   "source": [
    "# Consulta 1: Total de vendas por loja, região e departamento com contribuição percentual\n",
    "query_total_vendas_loja = \"\"\"\n",
    "SELECT\n",
    "  region,\n",
    "  department,\n",
    "  store,\n",
    "  SUM(sales) AS total_sales,\n",
    "  (SUM(sales) / SUM(SUM(sales)) OVER (PARTITION BY region, department)) * 100 AS sales_contribution_percentage\n",
    "FROM\n",
    "  `TFM.ds_market`\n",
    "GROUP BY\n",
    "  region,\n",
    "  department,\n",
    "  store;\n",
    "\"\"\"\n",
    "\n",
    "# Consulta 2 Refinada: Total de vendas por category_x, região e semana com contribuição percentual\n",
    "query_vendas_category = \"\"\"\n",
    "SELECT\n",
    "  region,\n",
    "  yearweek,\n",
    "  category_x,\n",
    "  SUM(sales) AS total_sales,\n",
    "  (SUM(sales) / SUM(SUM(sales)) OVER (PARTITION BY region, yearweek)) * 100 AS sales_contribution_percentage\n",
    "FROM\n",
    "  `TFM.ds_market`\n",
    "GROUP BY\n",
    "  region,\n",
    "  yearweek,\n",
    "  category_x;\n",
    "\"\"\"\n",
    "\n",
    "# Consulta 3: Os 5 itens com as maiores vendas para uma determinada região e semana do ano, com contribuição percentual\n",
    "query_top_5_itens = \"\"\"\n",
    "SELECT\n",
    "  region,\n",
    "  yearweek,\n",
    "  item,\n",
    "  SUM(sales) AS total_sales,\n",
    "  (SUM(sales) / SUM(SUM(sales)) OVER (PARTITION BY region, yearweek)) * 100 AS sales_contribution_percentage\n",
    "FROM\n",
    "  `TFM.ds_market`\n",
    "WHERE\n",
    "  region = 'US'\n",
    "  AND yearweek = '201552'\n",
    "GROUP BY\n",
    "  region,\n",
    "  yearweek,\n",
    "  item\n",
    "ORDER BY\n",
    "  total_sales DESC\n",
    "LIMIT\n",
    "  5;\n",
    "\"\"\"\n",
    "\n",
    "# Consulta 4: Total de vendas por loja, região e semana do ano com variação percentual ano a ano\n",
    "query_total_vendas_loja_variacao = \"\"\"\n",
    "SELECT\n",
    "  region,\n",
    "  yearweek,\n",
    "  store,\n",
    "  SUM(sales) AS total_sales,\n",
    "  (SUM(sales) / SUM(SUM(sales)) OVER (PARTITION BY region)) * 100 AS sales_contribution_percentage\n",
    "FROM\n",
    "  `TFM.ds_market`\n",
    "GROUP BY\n",
    "  region,\n",
    "  yearweek,\n",
    "  store;\n",
    "\"\"\"\n",
    "\n",
    "# Consulta 5: As 5 lojas com as maiores vendas médias para uma determinada região e semana do ano\n",
    "query_top_5_lojas_media = \"\"\"\n",
    "SELECT\n",
    "  region,\n",
    "  yearweek,\n",
    "  store,\n",
    "  AVG(sales) AS avg_sales\n",
    "FROM\n",
    "  `TFM.ds_market`\n",
    "WHERE\n",
    "  region = 'US'\n",
    "  AND yearweek = '201552'\n",
    "GROUP BY\n",
    "  region,\n",
    "  yearweek,\n",
    "  store\n",
    "ORDER BY\n",
    "  avg_sales DESC\n",
    "LIMIT\n",
    "  5;\n",
    "\"\"\"\n",
    "\n",
    "# Consulta 6: Correlação entre vendas e preço de venda para cada região\n",
    "query_correlacao_vendas_preco = \"\"\"\n",
    "SELECT\n",
    "  region,\n",
    "  CORR(sales, sell_price) AS sales_sell_price_corr\n",
    "FROM\n",
    "  `TFM.ds_market`\n",
    "GROUP BY\n",
    "  region;\n",
    "\"\"\"\n",
    "\n",
    "# Consulta 7: Os 5 itens com as maiores vendas para uma determinada região e semana do ano\n",
    "query_top_5_itens_vendas = \"\"\"\n",
    "SELECT\n",
    "  item,\n",
    "  SUM(sales) AS total_sales\n",
    "FROM\n",
    "  `TFM.ds_market`\n",
    "WHERE\n",
    "  region = 'US'\n",
    "  AND yearweek = '201552'\n",
    "GROUP BY\n",
    "  item\n",
    "ORDER BY\n",
    "  total_sales DESC\n",
    "LIMIT\n",
    "  5;\n",
    "\"\"\"\n",
    "\n",
    "# Consulta 8: Total de vendas por loja, região e departamento\n",
    "query_total_vendas_loja_departamento = \"\"\"\n",
    "SELECT\n",
    "  region,\n",
    "  department,\n",
    "  SUM(sales) AS total_sales\n",
    "FROM\n",
    "  `TFM.ds_market`\n",
    "GROUP BY\n",
    "  region,\n",
    "  department;\n",
    "\"\"\"\n",
    "\n",
    "# Consulta 9 Refinada: Preço de venda máximo para cada região e loja\n",
    "query_preco_max_category = \"\"\"\n",
    "SELECT\n",
    "  region,\n",
    "  store,\n",
    "  MAX(sell_price) AS max_sell_price\n",
    "FROM\n",
    "  `TFM.ds_market`\n",
    "GROUP BY\n",
    "  region,\n",
    "  store;\n",
    "\"\"\"\n",
    "\n",
    "# Consulta 10: Desvio padrão das vendas para cada loja, agrupadas por região e ano-semana\n",
    "query_stddev_vendas = \"\"\"\n",
    "SELECT\n",
    "  region,\n",
    "  yearweek,\n",
    "  store,\n",
    "  STDDEV(sales) AS stddev_sales\n",
    "FROM\n",
    "  `TFM.ds_market`\n",
    "GROUP BY\n",
    "  region,\n",
    "  yearweek,\n",
    "  store;\n",
    "\"\"\"\n",
    "\n",
    "# Consulta 11: Média de vendas por região para cada ano-semana\n",
    "query_media_vendas_regiao = \"\"\"\n",
    "SELECT\n",
    "  region,\n",
    "  yearweek,\n",
    "  AVG(sales) AS average_sales\n",
    "FROM\n",
    "  `TFM.ds_market`\n",
    "WHERE\n",
    "  date BETWEEN '2011-01-01' AND '2016-12-31'\n",
    "GROUP BY\n",
    "  region,\n",
    "  yearweek;\n",
    "\"\"\"\n",
    "\n",
    "# Consulta 12: Desvio padrão das vendas por departamento para o ano de 2022\n",
    "query_stddev_departamento = \"\"\"\n",
    "SELECT\n",
    "  department,\n",
    "  STDDEV_SAMP(sales) AS sales_standard_deviation\n",
    "FROM\n",
    "  `TFM.ds_market`\n",
    "WHERE\n",
    "  date BETWEEN '2011-01-01' AND '2016-12-31'\n",
    "GROUP BY\n",
    "  department;\n",
    "\"\"\"\n",
    "\n",
    "# Consulta 13: 5 itens com o maior preço médio de venda\n",
    "query_top_5_preco_medio = \"\"\"\n",
    "SELECT\n",
    "  item,\n",
    "  AVG(sell_price) AS average_sell_price\n",
    "FROM\n",
    "  `TFM.ds_market`\n",
    "WHERE\n",
    "  date BETWEEN '2011-01-01' AND '2016-12-31'\n",
    "GROUP BY\n",
    "  item\n",
    "ORDER BY\n",
    "  average_sell_price DESC\n",
    "LIMIT\n",
    "  5;\n",
    "\"\"\"\n",
    "\n",
    "# Consulta 14: Correlação entre vendas e preço de venda para o ano de 2022\n",
    "query_correlacao_2022 = \"\"\"\n",
    "SELECT\n",
    "  CORR(sales, sell_price) AS sales_sell_price_correlation\n",
    "FROM\n",
    "  `TFM.ds_market`\n",
    "WHERE\n",
    "  date BETWEEN '2011-01-01' AND '2016-12-31';\n",
    "\"\"\"\n",
    "\n",
    "# Consulta 15: Média de vendas por loja para cada combinação de região e ano-semana\n",
    "query_media_vendas_loja = \"\"\"\n",
    "SELECT\n",
    "  region,\n",
    "  yearweek,\n",
    "  store,\n",
    "  AVG(sales) AS average_sales\n",
    "FROM\n",
    "  `TFM.ds_market`\n",
    "WHERE\n",
    "  date BETWEEN '2011-01-01' AND '2016-12-31'\n",
    "GROUP BY\n",
    "  region,\n",
    "  yearweek,\n",
    "  store;\n",
    "\"\"\"\n",
    "\n",
    "# Consulta 16: Preço médio de venda para cada combinação de category_x e código da loja\n",
    "query_preco_medio_categoria_loja = \"\"\"\n",
    "SELECT\n",
    "  category_x,\n",
    "  store_code,\n",
    "  AVG(sell_price) AS avg_sell_price\n",
    "FROM\n",
    "  `TFM.ds_market`\n",
    "GROUP BY\n",
    "  category_x,\n",
    "  store_code;\n",
    "\"\"\"\n",
    "\n",
    "# Executando a Consulta 17\n",
    "query_variacao_percentual_vendas = \"\"\"\n",
    "SELECT\n",
    "    region,\n",
    "    yearweek,\n",
    "    sales,\n",
    "    (sales - LAG(sales, 1, 0) OVER (PARTITION BY region ORDER BY yearweek)) * 100.0 / NULLIF(LAG(sales, 1, 0) OVER (PARTITION BY region ORDER BY yearweek), 0) AS sales_change_percent\n",
    "FROM\n",
    "    `TFM.ds_market`\n",
    "WHERE\n",
    "    yearweek > '201501';\n",
    "\"\"\"\n",
    "\n",
    "# Consulta 18 Refinada: Vendas acumuladas para cada loja ao longo do tempo\n",
    "query_vendas_acumuladas = \"\"\"\n",
    "SELECT\n",
    "  store_code,\n",
    "  date,\n",
    "  SUM(sales) OVER (PARTITION BY store_code ORDER BY date) AS cumulative_sales\n",
    "FROM\n",
    "  `TFM.ds_market`\n",
    "ORDER BY\n",
    "  store_code,\n",
    "  date;\n",
    "\"\"\"\n",
    "\n",
    "# Consulta 19: Média móvel de 7 dias das vendas para cada região\n",
    "query_media_movel_7dias = \"\"\"\n",
    "SELECT\n",
    "  region,\n",
    "  date,\n",
    "  AVG(sales) OVER (PARTITION BY region ORDER BY date ROWS BETWEEN 6 PRECEDING AND CURRENT ROW) AS moving_avg_sales\n",
    "FROM\n",
    "  `TFM.ds_market`\n",
    "ORDER BY\n",
    "  region,\n",
    "  date;\n",
    "\"\"\"\n",
    "\n",
    "# Consulta 20: Total de vendas por evento e departamento com classificação dentro de cada evento\n",
    "query_vendas_evento_departamento = \"\"\"\n",
    "SELECT\n",
    "  event,\n",
    "  department,\n",
    "  SUM(sales) AS total_sales,\n",
    "  RANK() OVER (PARTITION BY event ORDER BY SUM(sales) DESC) AS sales_rank\n",
    "FROM\n",
    "  `TFM.ds_market`\n",
    "GROUP BY\n",
    "  event,\n",
    "  department\n",
    "ORDER BY\n",
    "  event,\n",
    "  sales_rank;\n",
    "\"\"\"\n",
    "\n",
    "# Consulta 21: As 3 regiões com o maior total de vendas para uma categoria específica\n",
    "query_top_3_regioes_categoria = \"\"\"\n",
    "SELECT\n",
    "  region,\n",
    "  SUM(sales) AS total_sales\n",
    "FROM\n",
    "  `TFM.ds_market`\n",
    "WHERE\n",
    "  category_x = 'ACCESORIES'\n",
    "GROUP BY\n",
    "  region\n",
    "ORDER BY\n",
    "  total_sales DESC\n",
    "LIMIT\n",
    "  3;\n",
    "\"\"\"\n",
    "\n",
    "# Consulta 22: As 5 lojas com o maior preço médio de venda para um departamento específico\n",
    "query_top_5_lojas_preco_medio = \"\"\"\n",
    "SELECT\n",
    "  store_code,\n",
    "  AVG(sell_price) AS avg_sell_price\n",
    "FROM\n",
    "  `TFM.ds_market`\n",
    "WHERE\n",
    "  department = 'ACCESORIES_1'\n",
    "GROUP BY\n",
    "  store_code\n",
    "ORDER BY\n",
    "  avg_sell_price DESC\n",
    "LIMIT\n",
    "  5;\n",
    "\"\"\"\n",
    "\n",
    "# Consulta 23: Os 3 eventos com o maior total de vendas para um item específico\n",
    "query_top_3_eventos_item = \"\"\"\n",
    "SELECT\n",
    "  event,\n",
    "  SUM(sales) AS total_sales\n",
    "FROM\n",
    "  `TFM.ds_market`\n",
    "WHERE\n",
    "  item = 'ACCESORIES_1_001'\n",
    "GROUP BY\n",
    "  event\n",
    "ORDER BY\n",
    "  total_sales DESC\n",
    "LIMIT\n",
    "  3;\n",
    "\"\"\"\n",
    "\n",
    "# Consulta 24: As 5 categorias com a maior média de vendas para uma loja específica\n",
    "query_top_5_categorias_media_loja = \"\"\"\n",
    "SELECT\n",
    "  category_x,\n",
    "  AVG(sales) AS avg_sales\n",
    "FROM\n",
    "  `TFM.ds_market`\n",
    "WHERE\n",
    "  store_code = 'BOS_1'\n",
    "GROUP BY\n",
    "  category_x\n",
    "ORDER BY\n",
    "  avg_sales DESC\n",
    "LIMIT\n",
    "  5;\n",
    "\"\"\""
   ]
  },
  {
   "cell_type": "markdown",
   "id": "dc875926",
   "metadata": {},
   "source": [
    "## 5. Execução das Consultas Refinadas e Armazenamento dos Resultados"
   ]
  },
  {
   "cell_type": "code",
   "execution_count": 7,
   "id": "c503fc63",
   "metadata": {},
   "outputs": [
    {
     "name": "stderr",
     "output_type": "stream",
     "text": [
      "c:\\Users\\rpiaz\\Desenvolvimento\\DSMarket\\.venv\\Lib\\site-packages\\google\\cloud\\bigquery\\table.py:1727: UserWarning: BigQuery Storage module not found, fetch data with the REST endpoint instead.\n",
      "  warnings.warn(\n"
     ]
    },
    {
     "name": "stdout",
     "output_type": "stream",
     "text": [
      "Consulta 1: Total de Vendas por Loja, Região e Departamento\n"
     ]
    },
    {
     "data": {
      "text/html": [
       "<div>\n",
       "<style scoped>\n",
       "    .dataframe tbody tr th:only-of-type {\n",
       "        vertical-align: middle;\n",
       "    }\n",
       "\n",
       "    .dataframe tbody tr th {\n",
       "        vertical-align: top;\n",
       "    }\n",
       "\n",
       "    .dataframe thead th {\n",
       "        text-align: right;\n",
       "    }\n",
       "</style>\n",
       "<table border=\"1\" class=\"dataframe\">\n",
       "  <thead>\n",
       "    <tr style=\"text-align: right;\">\n",
       "      <th></th>\n",
       "      <th>region</th>\n",
       "      <th>department</th>\n",
       "      <th>store</th>\n",
       "      <th>total_sales</th>\n",
       "      <th>sales_contribution_percentage</th>\n",
       "    </tr>\n",
       "  </thead>\n",
       "  <tbody>\n",
       "    <tr>\n",
       "      <th>0</th>\n",
       "      <td>Boston</td>\n",
       "      <td>HOME_&amp;_GARDEN_1</td>\n",
       "      <td>Back_Bay</td>\n",
       "      <td>1160930</td>\n",
       "      <td>32.593199</td>\n",
       "    </tr>\n",
       "    <tr>\n",
       "      <th>1</th>\n",
       "      <td>Boston</td>\n",
       "      <td>HOME_&amp;_GARDEN_1</td>\n",
       "      <td>South_End</td>\n",
       "      <td>1146240</td>\n",
       "      <td>32.180777</td>\n",
       "    </tr>\n",
       "    <tr>\n",
       "      <th>2</th>\n",
       "      <td>Boston</td>\n",
       "      <td>HOME_&amp;_GARDEN_1</td>\n",
       "      <td>Roxbury</td>\n",
       "      <td>1254708</td>\n",
       "      <td>35.226024</td>\n",
       "    </tr>\n",
       "    <tr>\n",
       "      <th>3</th>\n",
       "      <td>Boston</td>\n",
       "      <td>ACCESORIES_2</td>\n",
       "      <td>South_End</td>\n",
       "      <td>43079</td>\n",
       "      <td>23.185184</td>\n",
       "    </tr>\n",
       "    <tr>\n",
       "      <th>4</th>\n",
       "      <td>Boston</td>\n",
       "      <td>ACCESORIES_2</td>\n",
       "      <td>Back_Bay</td>\n",
       "      <td>67345</td>\n",
       "      <td>36.245183</td>\n",
       "    </tr>\n",
       "  </tbody>\n",
       "</table>\n",
       "</div>"
      ],
      "text/plain": [
       "   region       department      store  total_sales  \\\n",
       "0  Boston  HOME_&_GARDEN_1   Back_Bay      1160930   \n",
       "1  Boston  HOME_&_GARDEN_1  South_End      1146240   \n",
       "2  Boston  HOME_&_GARDEN_1    Roxbury      1254708   \n",
       "3  Boston     ACCESORIES_2  South_End        43079   \n",
       "4  Boston     ACCESORIES_2   Back_Bay        67345   \n",
       "\n",
       "   sales_contribution_percentage  \n",
       "0                      32.593199  \n",
       "1                      32.180777  \n",
       "2                      35.226024  \n",
       "3                      23.185184  \n",
       "4                      36.245183  "
      ]
     },
     "execution_count": 7,
     "metadata": {},
     "output_type": "execute_result"
    }
   ],
   "source": [
    "# Executando a Consulta 1\n",
    "df_total_vendas_loja = executar_consulta(query_total_vendas_loja, client)\n",
    "print(\"Consulta 1: Total de Vendas por Loja, Região e Departamento\")\n",
    "df_total_vendas_loja.head()"
   ]
  },
  {
   "cell_type": "code",
   "execution_count": 8,
   "id": "33f18479",
   "metadata": {},
   "outputs": [
    {
     "name": "stderr",
     "output_type": "stream",
     "text": [
      "c:\\Users\\rpiaz\\Desenvolvimento\\DSMarket\\.venv\\Lib\\site-packages\\google\\cloud\\bigquery\\table.py:1727: UserWarning: BigQuery Storage module not found, fetch data with the REST endpoint instead.\n",
      "  warnings.warn(\n"
     ]
    },
    {
     "name": "stdout",
     "output_type": "stream",
     "text": [
      "Consulta 2: Total de Vendas por Category_X, Região e Semana\n"
     ]
    },
    {
     "data": {
      "text/html": [
       "<div>\n",
       "<style scoped>\n",
       "    .dataframe tbody tr th:only-of-type {\n",
       "        vertical-align: middle;\n",
       "    }\n",
       "\n",
       "    .dataframe tbody tr th {\n",
       "        vertical-align: top;\n",
       "    }\n",
       "\n",
       "    .dataframe thead th {\n",
       "        text-align: right;\n",
       "    }\n",
       "</style>\n",
       "<table border=\"1\" class=\"dataframe\">\n",
       "  <thead>\n",
       "    <tr style=\"text-align: right;\">\n",
       "      <th></th>\n",
       "      <th>region</th>\n",
       "      <th>yearweek</th>\n",
       "      <th>category_x</th>\n",
       "      <th>total_sales</th>\n",
       "      <th>sales_contribution_percentage</th>\n",
       "    </tr>\n",
       "  </thead>\n",
       "  <tbody>\n",
       "    <tr>\n",
       "      <th>0</th>\n",
       "      <td>Boston</td>\n",
       "      <td>201111</td>\n",
       "      <td>HOME_&amp;_GARDEN</td>\n",
       "      <td>10059</td>\n",
       "      <td>18.825797</td>\n",
       "    </tr>\n",
       "    <tr>\n",
       "      <th>1</th>\n",
       "      <td>Boston</td>\n",
       "      <td>201111</td>\n",
       "      <td>ACCESORIES</td>\n",
       "      <td>4327</td>\n",
       "      <td>8.098143</td>\n",
       "    </tr>\n",
       "    <tr>\n",
       "      <th>2</th>\n",
       "      <td>Boston</td>\n",
       "      <td>201111</td>\n",
       "      <td>SUPERMARKET</td>\n",
       "      <td>39046</td>\n",
       "      <td>73.076059</td>\n",
       "    </tr>\n",
       "    <tr>\n",
       "      <th>3</th>\n",
       "      <td>Boston</td>\n",
       "      <td>201215</td>\n",
       "      <td>SUPERMARKET</td>\n",
       "      <td>53736</td>\n",
       "      <td>74.678970</td>\n",
       "    </tr>\n",
       "    <tr>\n",
       "      <th>4</th>\n",
       "      <td>Boston</td>\n",
       "      <td>201215</td>\n",
       "      <td>HOME_&amp;_GARDEN</td>\n",
       "      <td>12815</td>\n",
       "      <td>17.809495</td>\n",
       "    </tr>\n",
       "  </tbody>\n",
       "</table>\n",
       "</div>"
      ],
      "text/plain": [
       "   region yearweek     category_x  total_sales  sales_contribution_percentage\n",
       "0  Boston   201111  HOME_&_GARDEN        10059                      18.825797\n",
       "1  Boston   201111     ACCESORIES         4327                       8.098143\n",
       "2  Boston   201111    SUPERMARKET        39046                      73.076059\n",
       "3  Boston   201215    SUPERMARKET        53736                      74.678970\n",
       "4  Boston   201215  HOME_&_GARDEN        12815                      17.809495"
      ]
     },
     "execution_count": 8,
     "metadata": {},
     "output_type": "execute_result"
    }
   ],
   "source": [
    "# Executando a Consulta 2 Refinada\n",
    "df_vendas_category = executar_consulta(query_vendas_category, client)\n",
    "print(\"Consulta 2: Total de Vendas por Category_X, Região e Semana\")\n",
    "df_vendas_category.head()"
   ]
  },
  {
   "cell_type": "code",
   "execution_count": 9,
   "id": "6414d653",
   "metadata": {},
   "outputs": [
    {
     "name": "stderr",
     "output_type": "stream",
     "text": [
      "c:\\Users\\rpiaz\\Desenvolvimento\\DSMarket\\.venv\\Lib\\site-packages\\google\\cloud\\bigquery\\table.py:1727: UserWarning: BigQuery Storage module not found, fetch data with the REST endpoint instead.\n",
      "  warnings.warn(\n"
     ]
    },
    {
     "name": "stdout",
     "output_type": "stream",
     "text": [
      "Consulta 3: Top 5 Itens com Maiores Vendas\n"
     ]
    },
    {
     "data": {
      "text/html": [
       "<div>\n",
       "<style scoped>\n",
       "    .dataframe tbody tr th:only-of-type {\n",
       "        vertical-align: middle;\n",
       "    }\n",
       "\n",
       "    .dataframe tbody tr th {\n",
       "        vertical-align: top;\n",
       "    }\n",
       "\n",
       "    .dataframe thead th {\n",
       "        text-align: right;\n",
       "    }\n",
       "</style>\n",
       "<table border=\"1\" class=\"dataframe\">\n",
       "  <thead>\n",
       "    <tr style=\"text-align: right;\">\n",
       "      <th></th>\n",
       "      <th>region</th>\n",
       "      <th>yearweek</th>\n",
       "      <th>item</th>\n",
       "      <th>total_sales</th>\n",
       "      <th>sales_contribution_percentage</th>\n",
       "    </tr>\n",
       "  </thead>\n",
       "  <tbody>\n",
       "  </tbody>\n",
       "</table>\n",
       "</div>"
      ],
      "text/plain": [
       "Empty DataFrame\n",
       "Columns: [region, yearweek, item, total_sales, sales_contribution_percentage]\n",
       "Index: []"
      ]
     },
     "execution_count": 9,
     "metadata": {},
     "output_type": "execute_result"
    }
   ],
   "source": [
    "# Executando a Consulta 3\n",
    "df_top_5_itens = executar_consulta(query_top_5_itens, client)\n",
    "print(\"Consulta 3: Top 5 Itens com Maiores Vendas\")\n",
    "df_top_5_itens.head()"
   ]
  },
  {
   "cell_type": "code",
   "execution_count": 10,
   "id": "ae87374c",
   "metadata": {},
   "outputs": [
    {
     "name": "stderr",
     "output_type": "stream",
     "text": [
      "c:\\Users\\rpiaz\\Desenvolvimento\\DSMarket\\.venv\\Lib\\site-packages\\google\\cloud\\bigquery\\table.py:1727: UserWarning: BigQuery Storage module not found, fetch data with the REST endpoint instead.\n",
      "  warnings.warn(\n"
     ]
    },
    {
     "name": "stdout",
     "output_type": "stream",
     "text": [
      "Consulta 4: Total de Vendas por Loja com Variação Percentual\n"
     ]
    },
    {
     "data": {
      "text/html": [
       "<div>\n",
       "<style scoped>\n",
       "    .dataframe tbody tr th:only-of-type {\n",
       "        vertical-align: middle;\n",
       "    }\n",
       "\n",
       "    .dataframe tbody tr th {\n",
       "        vertical-align: top;\n",
       "    }\n",
       "\n",
       "    .dataframe thead th {\n",
       "        text-align: right;\n",
       "    }\n",
       "</style>\n",
       "<table border=\"1\" class=\"dataframe\">\n",
       "  <thead>\n",
       "    <tr style=\"text-align: right;\">\n",
       "      <th></th>\n",
       "      <th>region</th>\n",
       "      <th>yearweek</th>\n",
       "      <th>store</th>\n",
       "      <th>total_sales</th>\n",
       "      <th>sales_contribution_percentage</th>\n",
       "    </tr>\n",
       "  </thead>\n",
       "  <tbody>\n",
       "    <tr>\n",
       "      <th>0</th>\n",
       "      <td>Boston</td>\n",
       "      <td>201427</td>\n",
       "      <td>South_End</td>\n",
       "      <td>23581</td>\n",
       "      <td>0.124717</td>\n",
       "    </tr>\n",
       "    <tr>\n",
       "      <th>1</th>\n",
       "      <td>Boston</td>\n",
       "      <td>201310</td>\n",
       "      <td>South_End</td>\n",
       "      <td>20673</td>\n",
       "      <td>0.109337</td>\n",
       "    </tr>\n",
       "    <tr>\n",
       "      <th>2</th>\n",
       "      <td>Boston</td>\n",
       "      <td>201415</td>\n",
       "      <td>South_End</td>\n",
       "      <td>24023</td>\n",
       "      <td>0.127054</td>\n",
       "    </tr>\n",
       "    <tr>\n",
       "      <th>3</th>\n",
       "      <td>Boston</td>\n",
       "      <td>201109</td>\n",
       "      <td>South_End</td>\n",
       "      <td>15290</td>\n",
       "      <td>0.080867</td>\n",
       "    </tr>\n",
       "    <tr>\n",
       "      <th>4</th>\n",
       "      <td>Boston</td>\n",
       "      <td>201441</td>\n",
       "      <td>South_End</td>\n",
       "      <td>21171</td>\n",
       "      <td>0.111971</td>\n",
       "    </tr>\n",
       "  </tbody>\n",
       "</table>\n",
       "</div>"
      ],
      "text/plain": [
       "   region yearweek      store  total_sales  sales_contribution_percentage\n",
       "0  Boston   201427  South_End        23581                       0.124717\n",
       "1  Boston   201310  South_End        20673                       0.109337\n",
       "2  Boston   201415  South_End        24023                       0.127054\n",
       "3  Boston   201109  South_End        15290                       0.080867\n",
       "4  Boston   201441  South_End        21171                       0.111971"
      ]
     },
     "execution_count": 10,
     "metadata": {},
     "output_type": "execute_result"
    }
   ],
   "source": [
    "# Executando a Consulta 4\n",
    "df_total_vendas_loja_variacao = executar_consulta(query_total_vendas_loja_variacao, client)\n",
    "print(\"Consulta 4: Total de Vendas por Loja com Variação Percentual\")\n",
    "df_total_vendas_loja_variacao.head()"
   ]
  },
  {
   "cell_type": "code",
   "execution_count": 11,
   "id": "a4400bd6",
   "metadata": {},
   "outputs": [
    {
     "name": "stderr",
     "output_type": "stream",
     "text": [
      "c:\\Users\\rpiaz\\Desenvolvimento\\DSMarket\\.venv\\Lib\\site-packages\\google\\cloud\\bigquery\\table.py:1727: UserWarning: BigQuery Storage module not found, fetch data with the REST endpoint instead.\n",
      "  warnings.warn(\n"
     ]
    },
    {
     "name": "stdout",
     "output_type": "stream",
     "text": [
      "Consulta 5: Top 5 Lojas com Maiores Vendas Médias\n"
     ]
    },
    {
     "data": {
      "text/html": [
       "<div>\n",
       "<style scoped>\n",
       "    .dataframe tbody tr th:only-of-type {\n",
       "        vertical-align: middle;\n",
       "    }\n",
       "\n",
       "    .dataframe tbody tr th {\n",
       "        vertical-align: top;\n",
       "    }\n",
       "\n",
       "    .dataframe thead th {\n",
       "        text-align: right;\n",
       "    }\n",
       "</style>\n",
       "<table border=\"1\" class=\"dataframe\">\n",
       "  <thead>\n",
       "    <tr style=\"text-align: right;\">\n",
       "      <th></th>\n",
       "      <th>region</th>\n",
       "      <th>yearweek</th>\n",
       "      <th>store</th>\n",
       "      <th>avg_sales</th>\n",
       "    </tr>\n",
       "  </thead>\n",
       "  <tbody>\n",
       "  </tbody>\n",
       "</table>\n",
       "</div>"
      ],
      "text/plain": [
       "Empty DataFrame\n",
       "Columns: [region, yearweek, store, avg_sales]\n",
       "Index: []"
      ]
     },
     "execution_count": 11,
     "metadata": {},
     "output_type": "execute_result"
    }
   ],
   "source": [
    "# Executando a Consulta 5\n",
    "df_top_5_lojas_media = executar_consulta(query_top_5_lojas_media, client)\n",
    "print(\"Consulta 5: Top 5 Lojas com Maiores Vendas Médias\")\n",
    "df_top_5_lojas_media.head()"
   ]
  },
  {
   "cell_type": "code",
   "execution_count": 12,
   "id": "f819ed2c",
   "metadata": {},
   "outputs": [
    {
     "name": "stderr",
     "output_type": "stream",
     "text": [
      "c:\\Users\\rpiaz\\Desenvolvimento\\DSMarket\\.venv\\Lib\\site-packages\\google\\cloud\\bigquery\\table.py:1727: UserWarning: BigQuery Storage module not found, fetch data with the REST endpoint instead.\n",
      "  warnings.warn(\n"
     ]
    },
    {
     "name": "stdout",
     "output_type": "stream",
     "text": [
      "Consulta 6: Correlação entre Vendas e Preço de Venda por Região\n"
     ]
    },
    {
     "data": {
      "text/html": [
       "<div>\n",
       "<style scoped>\n",
       "    .dataframe tbody tr th:only-of-type {\n",
       "        vertical-align: middle;\n",
       "    }\n",
       "\n",
       "    .dataframe tbody tr th {\n",
       "        vertical-align: top;\n",
       "    }\n",
       "\n",
       "    .dataframe thead th {\n",
       "        text-align: right;\n",
       "    }\n",
       "</style>\n",
       "<table border=\"1\" class=\"dataframe\">\n",
       "  <thead>\n",
       "    <tr style=\"text-align: right;\">\n",
       "      <th></th>\n",
       "      <th>region</th>\n",
       "      <th>sales_sell_price_corr</th>\n",
       "    </tr>\n",
       "  </thead>\n",
       "  <tbody>\n",
       "    <tr>\n",
       "      <th>0</th>\n",
       "      <td>New York</td>\n",
       "      <td>-0.148682</td>\n",
       "    </tr>\n",
       "    <tr>\n",
       "      <th>1</th>\n",
       "      <td>Philadelphia</td>\n",
       "      <td>-0.167442</td>\n",
       "    </tr>\n",
       "    <tr>\n",
       "      <th>2</th>\n",
       "      <td>Boston</td>\n",
       "      <td>-0.140856</td>\n",
       "    </tr>\n",
       "  </tbody>\n",
       "</table>\n",
       "</div>"
      ],
      "text/plain": [
       "         region  sales_sell_price_corr\n",
       "0      New York              -0.148682\n",
       "1  Philadelphia              -0.167442\n",
       "2        Boston              -0.140856"
      ]
     },
     "execution_count": 12,
     "metadata": {},
     "output_type": "execute_result"
    }
   ],
   "source": [
    "# Executando a Consulta 6\n",
    "df_correlacao_vendas_preco = executar_consulta(query_correlacao_vendas_preco, client)\n",
    "print(\"Consulta 6: Correlação entre Vendas e Preço de Venda por Região\")\n",
    "df_correlacao_vendas_preco.head()"
   ]
  },
  {
   "cell_type": "code",
   "execution_count": 13,
   "id": "cd4dea5d",
   "metadata": {},
   "outputs": [
    {
     "name": "stderr",
     "output_type": "stream",
     "text": [
      "c:\\Users\\rpiaz\\Desenvolvimento\\DSMarket\\.venv\\Lib\\site-packages\\google\\cloud\\bigquery\\table.py:1727: UserWarning: BigQuery Storage module not found, fetch data with the REST endpoint instead.\n",
      "  warnings.warn(\n"
     ]
    },
    {
     "name": "stdout",
     "output_type": "stream",
     "text": [
      "Consulta 7: Top 5 Itens com Maiores Vendas para US na Semana 201552\n"
     ]
    },
    {
     "data": {
      "text/html": [
       "<div>\n",
       "<style scoped>\n",
       "    .dataframe tbody tr th:only-of-type {\n",
       "        vertical-align: middle;\n",
       "    }\n",
       "\n",
       "    .dataframe tbody tr th {\n",
       "        vertical-align: top;\n",
       "    }\n",
       "\n",
       "    .dataframe thead th {\n",
       "        text-align: right;\n",
       "    }\n",
       "</style>\n",
       "<table border=\"1\" class=\"dataframe\">\n",
       "  <thead>\n",
       "    <tr style=\"text-align: right;\">\n",
       "      <th></th>\n",
       "      <th>item</th>\n",
       "      <th>total_sales</th>\n",
       "    </tr>\n",
       "  </thead>\n",
       "  <tbody>\n",
       "  </tbody>\n",
       "</table>\n",
       "</div>"
      ],
      "text/plain": [
       "Empty DataFrame\n",
       "Columns: [item, total_sales]\n",
       "Index: []"
      ]
     },
     "execution_count": 13,
     "metadata": {},
     "output_type": "execute_result"
    }
   ],
   "source": [
    "# Executando a Consulta 7\n",
    "df_top_5_itens_vendas = executar_consulta(query_top_5_itens_vendas, client)\n",
    "print(\"Consulta 7: Top 5 Itens com Maiores Vendas para US na Semana 201552\")\n",
    "df_top_5_itens_vendas.head()"
   ]
  },
  {
   "cell_type": "code",
   "execution_count": 14,
   "id": "7ece140e",
   "metadata": {},
   "outputs": [
    {
     "name": "stderr",
     "output_type": "stream",
     "text": [
      "c:\\Users\\rpiaz\\Desenvolvimento\\DSMarket\\.venv\\Lib\\site-packages\\google\\cloud\\bigquery\\table.py:1727: UserWarning: BigQuery Storage module not found, fetch data with the REST endpoint instead.\n",
      "  warnings.warn(\n"
     ]
    },
    {
     "name": "stdout",
     "output_type": "stream",
     "text": [
      "Consulta 8: Total de Vendas por Loja, Região e Departamento\n"
     ]
    },
    {
     "data": {
      "text/html": [
       "<div>\n",
       "<style scoped>\n",
       "    .dataframe tbody tr th:only-of-type {\n",
       "        vertical-align: middle;\n",
       "    }\n",
       "\n",
       "    .dataframe tbody tr th {\n",
       "        vertical-align: top;\n",
       "    }\n",
       "\n",
       "    .dataframe thead th {\n",
       "        text-align: right;\n",
       "    }\n",
       "</style>\n",
       "<table border=\"1\" class=\"dataframe\">\n",
       "  <thead>\n",
       "    <tr style=\"text-align: right;\">\n",
       "      <th></th>\n",
       "      <th>region</th>\n",
       "      <th>department</th>\n",
       "      <th>total_sales</th>\n",
       "    </tr>\n",
       "  </thead>\n",
       "  <tbody>\n",
       "    <tr>\n",
       "      <th>0</th>\n",
       "      <td>New York</td>\n",
       "      <td>SUPERMARKET_1</td>\n",
       "      <td>2366684</td>\n",
       "    </tr>\n",
       "    <tr>\n",
       "      <th>1</th>\n",
       "      <td>New York</td>\n",
       "      <td>HOME_&amp;_GARDEN_1</td>\n",
       "      <td>4887357</td>\n",
       "    </tr>\n",
       "    <tr>\n",
       "      <th>2</th>\n",
       "      <td>Boston</td>\n",
       "      <td>SUPERMARKET_3</td>\n",
       "      <td>9508346</td>\n",
       "    </tr>\n",
       "    <tr>\n",
       "      <th>3</th>\n",
       "      <td>New York</td>\n",
       "      <td>SUPERMARKET_2</td>\n",
       "      <td>2958209</td>\n",
       "    </tr>\n",
       "    <tr>\n",
       "      <th>4</th>\n",
       "      <td>New York</td>\n",
       "      <td>HOME_&amp;_GARDEN_2</td>\n",
       "      <td>1554811</td>\n",
       "    </tr>\n",
       "  </tbody>\n",
       "</table>\n",
       "</div>"
      ],
      "text/plain": [
       "     region       department  total_sales\n",
       "0  New York    SUPERMARKET_1      2366684\n",
       "1  New York  HOME_&_GARDEN_1      4887357\n",
       "2    Boston    SUPERMARKET_3      9508346\n",
       "3  New York    SUPERMARKET_2      2958209\n",
       "4  New York  HOME_&_GARDEN_2      1554811"
      ]
     },
     "execution_count": 14,
     "metadata": {},
     "output_type": "execute_result"
    }
   ],
   "source": [
    "# Executando a Consulta 8\n",
    "df_total_vendas_loja_departamento = executar_consulta(query_total_vendas_loja_departamento, client)\n",
    "print(\"Consulta 8: Total de Vendas por Loja, Região e Departamento\")\n",
    "df_total_vendas_loja_departamento.head()"
   ]
  },
  {
   "cell_type": "code",
   "execution_count": 15,
   "id": "3488d99f",
   "metadata": {},
   "outputs": [
    {
     "name": "stderr",
     "output_type": "stream",
     "text": [
      "c:\\Users\\rpiaz\\Desenvolvimento\\DSMarket\\.venv\\Lib\\site-packages\\google\\cloud\\bigquery\\table.py:1727: UserWarning: BigQuery Storage module not found, fetch data with the REST endpoint instead.\n",
      "  warnings.warn(\n"
     ]
    },
    {
     "name": "stdout",
     "output_type": "stream",
     "text": [
      "Consulta 9: Preço de Venda Máximo por Região e Loja\n"
     ]
    },
    {
     "data": {
      "text/html": [
       "<div>\n",
       "<style scoped>\n",
       "    .dataframe tbody tr th:only-of-type {\n",
       "        vertical-align: middle;\n",
       "    }\n",
       "\n",
       "    .dataframe tbody tr th {\n",
       "        vertical-align: top;\n",
       "    }\n",
       "\n",
       "    .dataframe thead th {\n",
       "        text-align: right;\n",
       "    }\n",
       "</style>\n",
       "<table border=\"1\" class=\"dataframe\">\n",
       "  <thead>\n",
       "    <tr style=\"text-align: right;\">\n",
       "      <th></th>\n",
       "      <th>region</th>\n",
       "      <th>store</th>\n",
       "      <th>max_sell_price</th>\n",
       "    </tr>\n",
       "  </thead>\n",
       "  <tbody>\n",
       "    <tr>\n",
       "      <th>0</th>\n",
       "      <td>Boston</td>\n",
       "      <td>Back_Bay</td>\n",
       "      <td>41.2034</td>\n",
       "    </tr>\n",
       "    <tr>\n",
       "      <th>1</th>\n",
       "      <td>New York</td>\n",
       "      <td>Brooklyn</td>\n",
       "      <td>41.2034</td>\n",
       "    </tr>\n",
       "    <tr>\n",
       "      <th>2</th>\n",
       "      <td>Philadelphia</td>\n",
       "      <td>Midtown_Village</td>\n",
       "      <td>44.8500</td>\n",
       "    </tr>\n",
       "    <tr>\n",
       "      <th>3</th>\n",
       "      <td>Boston</td>\n",
       "      <td>South_End</td>\n",
       "      <td>65.7750</td>\n",
       "    </tr>\n",
       "    <tr>\n",
       "      <th>4</th>\n",
       "      <td>New York</td>\n",
       "      <td>Tribeca</td>\n",
       "      <td>41.2034</td>\n",
       "    </tr>\n",
       "  </tbody>\n",
       "</table>\n",
       "</div>"
      ],
      "text/plain": [
       "         region            store  max_sell_price\n",
       "0        Boston         Back_Bay         41.2034\n",
       "1      New York         Brooklyn         41.2034\n",
       "2  Philadelphia  Midtown_Village         44.8500\n",
       "3        Boston        South_End         65.7750\n",
       "4      New York          Tribeca         41.2034"
      ]
     },
     "execution_count": 15,
     "metadata": {},
     "output_type": "execute_result"
    }
   ],
   "source": [
    "# Executando a Consulta 9 Refinada\n",
    "df_preco_max_category = executar_consulta(query_preco_max_category, client)\n",
    "print(\"Consulta 9: Preço de Venda Máximo por Região e Loja\")\n",
    "df_preco_max_category.head()"
   ]
  },
  {
   "cell_type": "code",
   "execution_count": 16,
   "id": "8b1cfaeb",
   "metadata": {},
   "outputs": [
    {
     "name": "stderr",
     "output_type": "stream",
     "text": [
      "c:\\Users\\rpiaz\\Desenvolvimento\\DSMarket\\.venv\\Lib\\site-packages\\google\\cloud\\bigquery\\table.py:1727: UserWarning: BigQuery Storage module not found, fetch data with the REST endpoint instead.\n",
      "  warnings.warn(\n"
     ]
    },
    {
     "name": "stdout",
     "output_type": "stream",
     "text": [
      "Consulta 10: Desvio Padrão das Vendas por Loja, Região e Ano-Semana\n"
     ]
    },
    {
     "data": {
      "text/html": [
       "<div>\n",
       "<style scoped>\n",
       "    .dataframe tbody tr th:only-of-type {\n",
       "        vertical-align: middle;\n",
       "    }\n",
       "\n",
       "    .dataframe tbody tr th {\n",
       "        vertical-align: top;\n",
       "    }\n",
       "\n",
       "    .dataframe thead th {\n",
       "        text-align: right;\n",
       "    }\n",
       "</style>\n",
       "<table border=\"1\" class=\"dataframe\">\n",
       "  <thead>\n",
       "    <tr style=\"text-align: right;\">\n",
       "      <th></th>\n",
       "      <th>region</th>\n",
       "      <th>yearweek</th>\n",
       "      <th>store</th>\n",
       "      <th>stddev_sales</th>\n",
       "    </tr>\n",
       "  </thead>\n",
       "  <tbody>\n",
       "    <tr>\n",
       "      <th>0</th>\n",
       "      <td>Boston</td>\n",
       "      <td>201152</td>\n",
       "      <td>South_End</td>\n",
       "      <td>3.594471</td>\n",
       "    </tr>\n",
       "    <tr>\n",
       "      <th>1</th>\n",
       "      <td>Boston</td>\n",
       "      <td>201535</td>\n",
       "      <td>South_End</td>\n",
       "      <td>2.886657</td>\n",
       "    </tr>\n",
       "    <tr>\n",
       "      <th>2</th>\n",
       "      <td>Boston</td>\n",
       "      <td>201451</td>\n",
       "      <td>South_End</td>\n",
       "      <td>3.068281</td>\n",
       "    </tr>\n",
       "    <tr>\n",
       "      <th>3</th>\n",
       "      <td>Boston</td>\n",
       "      <td>201304</td>\n",
       "      <td>South_End</td>\n",
       "      <td>3.123990</td>\n",
       "    </tr>\n",
       "    <tr>\n",
       "      <th>4</th>\n",
       "      <td>Boston</td>\n",
       "      <td>201403</td>\n",
       "      <td>South_End</td>\n",
       "      <td>3.231388</td>\n",
       "    </tr>\n",
       "  </tbody>\n",
       "</table>\n",
       "</div>"
      ],
      "text/plain": [
       "   region yearweek      store  stddev_sales\n",
       "0  Boston   201152  South_End      3.594471\n",
       "1  Boston   201535  South_End      2.886657\n",
       "2  Boston   201451  South_End      3.068281\n",
       "3  Boston   201304  South_End      3.123990\n",
       "4  Boston   201403  South_End      3.231388"
      ]
     },
     "execution_count": 16,
     "metadata": {},
     "output_type": "execute_result"
    }
   ],
   "source": [
    "# Executando a Consulta 10\n",
    "df_stddev_vendas = executar_consulta(query_stddev_vendas, client)\n",
    "print(\"Consulta 10: Desvio Padrão das Vendas por Loja, Região e Ano-Semana\")\n",
    "df_stddev_vendas.head()"
   ]
  },
  {
   "cell_type": "code",
   "execution_count": 17,
   "id": "ad5cc2ec",
   "metadata": {},
   "outputs": [
    {
     "name": "stderr",
     "output_type": "stream",
     "text": [
      "c:\\Users\\rpiaz\\Desenvolvimento\\DSMarket\\.venv\\Lib\\site-packages\\google\\cloud\\bigquery\\table.py:1727: UserWarning: BigQuery Storage module not found, fetch data with the REST endpoint instead.\n",
      "  warnings.warn(\n"
     ]
    },
    {
     "name": "stdout",
     "output_type": "stream",
     "text": [
      "Consulta 11: Média de Vendas por Região para Cada Ano-Semana\n"
     ]
    },
    {
     "data": {
      "text/html": [
       "<div>\n",
       "<style scoped>\n",
       "    .dataframe tbody tr th:only-of-type {\n",
       "        vertical-align: middle;\n",
       "    }\n",
       "\n",
       "    .dataframe tbody tr th {\n",
       "        vertical-align: top;\n",
       "    }\n",
       "\n",
       "    .dataframe thead th {\n",
       "        text-align: right;\n",
       "    }\n",
       "</style>\n",
       "<table border=\"1\" class=\"dataframe\">\n",
       "  <thead>\n",
       "    <tr style=\"text-align: right;\">\n",
       "      <th></th>\n",
       "      <th>region</th>\n",
       "      <th>yearweek</th>\n",
       "      <th>average_sales</th>\n",
       "    </tr>\n",
       "  </thead>\n",
       "  <tbody>\n",
       "    <tr>\n",
       "      <th>0</th>\n",
       "      <td>Boston</td>\n",
       "      <td>201609</td>\n",
       "      <td>1.231572</td>\n",
       "    </tr>\n",
       "    <tr>\n",
       "      <th>1</th>\n",
       "      <td>Boston</td>\n",
       "      <td>201123</td>\n",
       "      <td>0.934981</td>\n",
       "    </tr>\n",
       "    <tr>\n",
       "      <th>2</th>\n",
       "      <td>Boston</td>\n",
       "      <td>201528</td>\n",
       "      <td>1.254938</td>\n",
       "    </tr>\n",
       "    <tr>\n",
       "      <th>3</th>\n",
       "      <td>Boston</td>\n",
       "      <td>201203</td>\n",
       "      <td>0.933046</td>\n",
       "    </tr>\n",
       "    <tr>\n",
       "      <th>4</th>\n",
       "      <td>Boston</td>\n",
       "      <td>201436</td>\n",
       "      <td>1.168410</td>\n",
       "    </tr>\n",
       "  </tbody>\n",
       "</table>\n",
       "</div>"
      ],
      "text/plain": [
       "   region yearweek  average_sales\n",
       "0  Boston   201609       1.231572\n",
       "1  Boston   201123       0.934981\n",
       "2  Boston   201528       1.254938\n",
       "3  Boston   201203       0.933046\n",
       "4  Boston   201436       1.168410"
      ]
     },
     "execution_count": 17,
     "metadata": {},
     "output_type": "execute_result"
    }
   ],
   "source": [
    "# Executando a Consulta 11\n",
    "df_media_vendas_regiao = executar_consulta(query_media_vendas_regiao, client)\n",
    "print(\"Consulta 11: Média de Vendas por Região para Cada Ano-Semana\")\n",
    "df_media_vendas_regiao.head()"
   ]
  },
  {
   "cell_type": "code",
   "execution_count": 18,
   "id": "0dcaaefd",
   "metadata": {},
   "outputs": [
    {
     "name": "stderr",
     "output_type": "stream",
     "text": [
      "c:\\Users\\rpiaz\\Desenvolvimento\\DSMarket\\.venv\\Lib\\site-packages\\google\\cloud\\bigquery\\table.py:1727: UserWarning: BigQuery Storage module not found, fetch data with the REST endpoint instead.\n",
      "  warnings.warn(\n"
     ]
    },
    {
     "name": "stdout",
     "output_type": "stream",
     "text": [
      "Consulta 12: Desvio Padrão das Vendas por Departamento para 2022\n"
     ]
    },
    {
     "data": {
      "text/html": [
       "<div>\n",
       "<style scoped>\n",
       "    .dataframe tbody tr th:only-of-type {\n",
       "        vertical-align: middle;\n",
       "    }\n",
       "\n",
       "    .dataframe tbody tr th {\n",
       "        vertical-align: top;\n",
       "    }\n",
       "\n",
       "    .dataframe thead th {\n",
       "        text-align: right;\n",
       "    }\n",
       "</style>\n",
       "<table border=\"1\" class=\"dataframe\">\n",
       "  <thead>\n",
       "    <tr style=\"text-align: right;\">\n",
       "      <th></th>\n",
       "      <th>department</th>\n",
       "      <th>sales_standard_deviation</th>\n",
       "    </tr>\n",
       "  </thead>\n",
       "  <tbody>\n",
       "    <tr>\n",
       "      <th>0</th>\n",
       "      <td>SUPERMARKET_3</td>\n",
       "      <td>6.319670</td>\n",
       "    </tr>\n",
       "    <tr>\n",
       "      <th>1</th>\n",
       "      <td>ACCESORIES_2</td>\n",
       "      <td>0.752022</td>\n",
       "    </tr>\n",
       "    <tr>\n",
       "      <th>2</th>\n",
       "      <td>HOME_&amp;_GARDEN_2</td>\n",
       "      <td>0.830119</td>\n",
       "    </tr>\n",
       "    <tr>\n",
       "      <th>3</th>\n",
       "      <td>SUPERMARKET_2</td>\n",
       "      <td>2.691415</td>\n",
       "    </tr>\n",
       "    <tr>\n",
       "      <th>4</th>\n",
       "      <td>ACCESORIES_1</td>\n",
       "      <td>2.314792</td>\n",
       "    </tr>\n",
       "  </tbody>\n",
       "</table>\n",
       "</div>"
      ],
      "text/plain": [
       "        department  sales_standard_deviation\n",
       "0    SUPERMARKET_3                  6.319670\n",
       "1     ACCESORIES_2                  0.752022\n",
       "2  HOME_&_GARDEN_2                  0.830119\n",
       "3    SUPERMARKET_2                  2.691415\n",
       "4     ACCESORIES_1                  2.314792"
      ]
     },
     "execution_count": 18,
     "metadata": {},
     "output_type": "execute_result"
    }
   ],
   "source": [
    "# Executando a Consulta 12\n",
    "df_stddev_departamento = executar_consulta(query_stddev_departamento, client)\n",
    "print(\"Consulta 12: Desvio Padrão das Vendas por Departamento para 2022\")\n",
    "df_stddev_departamento.head()"
   ]
  },
  {
   "cell_type": "code",
   "execution_count": 19,
   "id": "1dcb8842",
   "metadata": {},
   "outputs": [
    {
     "name": "stderr",
     "output_type": "stream",
     "text": [
      "c:\\Users\\rpiaz\\Desenvolvimento\\DSMarket\\.venv\\Lib\\site-packages\\google\\cloud\\bigquery\\table.py:1727: UserWarning: BigQuery Storage module not found, fetch data with the REST endpoint instead.\n",
      "  warnings.warn(\n"
     ]
    },
    {
     "name": "stdout",
     "output_type": "stream",
     "text": [
      "Consulta 13: Top 5 Itens com Maior Preço Médio de Venda\n"
     ]
    },
    {
     "data": {
      "text/html": [
       "<div>\n",
       "<style scoped>\n",
       "    .dataframe tbody tr th:only-of-type {\n",
       "        vertical-align: middle;\n",
       "    }\n",
       "\n",
       "    .dataframe tbody tr th {\n",
       "        vertical-align: top;\n",
       "    }\n",
       "\n",
       "    .dataframe thead th {\n",
       "        text-align: right;\n",
       "    }\n",
       "</style>\n",
       "<table border=\"1\" class=\"dataframe\">\n",
       "  <thead>\n",
       "    <tr style=\"text-align: right;\">\n",
       "      <th></th>\n",
       "      <th>item</th>\n",
       "      <th>average_sell_price</th>\n",
       "    </tr>\n",
       "  </thead>\n",
       "  <tbody>\n",
       "    <tr>\n",
       "      <th>0</th>\n",
       "      <td>ACCESORIES_1_225</td>\n",
       "      <td>39.492646</td>\n",
       "    </tr>\n",
       "    <tr>\n",
       "      <th>1</th>\n",
       "      <td>ACCESORIES_1_060</td>\n",
       "      <td>39.486032</td>\n",
       "    </tr>\n",
       "    <tr>\n",
       "      <th>2</th>\n",
       "      <td>ACCESORIES_1_361</td>\n",
       "      <td>39.485912</td>\n",
       "    </tr>\n",
       "    <tr>\n",
       "      <th>3</th>\n",
       "      <td>ACCESORIES_1_410</td>\n",
       "      <td>37.969485</td>\n",
       "    </tr>\n",
       "    <tr>\n",
       "      <th>4</th>\n",
       "      <td>ACCESORIES_1_393</td>\n",
       "      <td>37.907451</td>\n",
       "    </tr>\n",
       "  </tbody>\n",
       "</table>\n",
       "</div>"
      ],
      "text/plain": [
       "               item  average_sell_price\n",
       "0  ACCESORIES_1_225           39.492646\n",
       "1  ACCESORIES_1_060           39.486032\n",
       "2  ACCESORIES_1_361           39.485912\n",
       "3  ACCESORIES_1_410           37.969485\n",
       "4  ACCESORIES_1_393           37.907451"
      ]
     },
     "execution_count": 19,
     "metadata": {},
     "output_type": "execute_result"
    }
   ],
   "source": [
    "# Executando a Consulta 13\n",
    "df_top_5_preco_medio = executar_consulta(query_top_5_preco_medio, client)\n",
    "print(\"Consulta 13: Top 5 Itens com Maior Preço Médio de Venda\")\n",
    "df_top_5_preco_medio.head()"
   ]
  },
  {
   "cell_type": "code",
   "execution_count": 20,
   "id": "7c0f542e",
   "metadata": {},
   "outputs": [
    {
     "name": "stderr",
     "output_type": "stream",
     "text": [
      "c:\\Users\\rpiaz\\Desenvolvimento\\DSMarket\\.venv\\Lib\\site-packages\\google\\cloud\\bigquery\\table.py:1727: UserWarning: BigQuery Storage module not found, fetch data with the REST endpoint instead.\n",
      "  warnings.warn(\n"
     ]
    },
    {
     "name": "stdout",
     "output_type": "stream",
     "text": [
      "Consulta 14: Correlação entre Vendas e Preço de Venda para 2022\n"
     ]
    },
    {
     "data": {
      "text/html": [
       "<div>\n",
       "<style scoped>\n",
       "    .dataframe tbody tr th:only-of-type {\n",
       "        vertical-align: middle;\n",
       "    }\n",
       "\n",
       "    .dataframe tbody tr th {\n",
       "        vertical-align: top;\n",
       "    }\n",
       "\n",
       "    .dataframe thead th {\n",
       "        text-align: right;\n",
       "    }\n",
       "</style>\n",
       "<table border=\"1\" class=\"dataframe\">\n",
       "  <thead>\n",
       "    <tr style=\"text-align: right;\">\n",
       "      <th></th>\n",
       "      <th>sales_sell_price_correlation</th>\n",
       "    </tr>\n",
       "  </thead>\n",
       "  <tbody>\n",
       "    <tr>\n",
       "      <th>0</th>\n",
       "      <td>-0.15108</td>\n",
       "    </tr>\n",
       "  </tbody>\n",
       "</table>\n",
       "</div>"
      ],
      "text/plain": [
       "   sales_sell_price_correlation\n",
       "0                      -0.15108"
      ]
     },
     "execution_count": 20,
     "metadata": {},
     "output_type": "execute_result"
    }
   ],
   "source": [
    "# Executando a Consulta 14\n",
    "df_correlacao_2022 = executar_consulta(query_correlacao_2022, client)\n",
    "print(\"Consulta 14: Correlação entre Vendas e Preço de Venda para 2022\")\n",
    "df_correlacao_2022.head()"
   ]
  },
  {
   "cell_type": "code",
   "execution_count": 21,
   "id": "b221d1ae",
   "metadata": {},
   "outputs": [
    {
     "name": "stderr",
     "output_type": "stream",
     "text": [
      "c:\\Users\\rpiaz\\Desenvolvimento\\DSMarket\\.venv\\Lib\\site-packages\\google\\cloud\\bigquery\\table.py:1727: UserWarning: BigQuery Storage module not found, fetch data with the REST endpoint instead.\n",
      "  warnings.warn(\n"
     ]
    },
    {
     "name": "stdout",
     "output_type": "stream",
     "text": [
      "Consulta 15: Média de Vendas por Loja para Cada Região e Ano-Semana\n"
     ]
    },
    {
     "data": {
      "text/html": [
       "<div>\n",
       "<style scoped>\n",
       "    .dataframe tbody tr th:only-of-type {\n",
       "        vertical-align: middle;\n",
       "    }\n",
       "\n",
       "    .dataframe tbody tr th {\n",
       "        vertical-align: top;\n",
       "    }\n",
       "\n",
       "    .dataframe thead th {\n",
       "        text-align: right;\n",
       "    }\n",
       "</style>\n",
       "<table border=\"1\" class=\"dataframe\">\n",
       "  <thead>\n",
       "    <tr style=\"text-align: right;\">\n",
       "      <th></th>\n",
       "      <th>region</th>\n",
       "      <th>yearweek</th>\n",
       "      <th>store</th>\n",
       "      <th>average_sales</th>\n",
       "    </tr>\n",
       "  </thead>\n",
       "  <tbody>\n",
       "    <tr>\n",
       "      <th>0</th>\n",
       "      <td>Boston</td>\n",
       "      <td>201304</td>\n",
       "      <td>South_End</td>\n",
       "      <td>0.854193</td>\n",
       "    </tr>\n",
       "    <tr>\n",
       "      <th>1</th>\n",
       "      <td>Boston</td>\n",
       "      <td>201228</td>\n",
       "      <td>South_End</td>\n",
       "      <td>1.023146</td>\n",
       "    </tr>\n",
       "    <tr>\n",
       "      <th>2</th>\n",
       "      <td>Boston</td>\n",
       "      <td>201451</td>\n",
       "      <td>South_End</td>\n",
       "      <td>0.998642</td>\n",
       "    </tr>\n",
       "    <tr>\n",
       "      <th>3</th>\n",
       "      <td>Boston</td>\n",
       "      <td>201152</td>\n",
       "      <td>South_End</td>\n",
       "      <td>0.800328</td>\n",
       "    </tr>\n",
       "    <tr>\n",
       "      <th>4</th>\n",
       "      <td>Boston</td>\n",
       "      <td>201142</td>\n",
       "      <td>South_End</td>\n",
       "      <td>0.776347</td>\n",
       "    </tr>\n",
       "  </tbody>\n",
       "</table>\n",
       "</div>"
      ],
      "text/plain": [
       "   region yearweek      store  average_sales\n",
       "0  Boston   201304  South_End       0.854193\n",
       "1  Boston   201228  South_End       1.023146\n",
       "2  Boston   201451  South_End       0.998642\n",
       "3  Boston   201152  South_End       0.800328\n",
       "4  Boston   201142  South_End       0.776347"
      ]
     },
     "execution_count": 21,
     "metadata": {},
     "output_type": "execute_result"
    }
   ],
   "source": [
    "# Executando a Consulta 15\n",
    "df_media_vendas_loja = executar_consulta(query_media_vendas_loja, client)\n",
    "print(\"Consulta 15: Média de Vendas por Loja para Cada Região e Ano-Semana\")\n",
    "df_media_vendas_loja.head()"
   ]
  },
  {
   "cell_type": "code",
   "execution_count": 22,
   "id": "6008a3f2",
   "metadata": {},
   "outputs": [
    {
     "name": "stderr",
     "output_type": "stream",
     "text": [
      "c:\\Users\\rpiaz\\Desenvolvimento\\DSMarket\\.venv\\Lib\\site-packages\\google\\cloud\\bigquery\\table.py:1727: UserWarning: BigQuery Storage module not found, fetch data with the REST endpoint instead.\n",
      "  warnings.warn(\n"
     ]
    },
    {
     "name": "stdout",
     "output_type": "stream",
     "text": [
      "Consulta 16: Preço Médio de Venda por Category_X e Código da Loja\n"
     ]
    },
    {
     "data": {
      "text/html": [
       "<div>\n",
       "<style scoped>\n",
       "    .dataframe tbody tr th:only-of-type {\n",
       "        vertical-align: middle;\n",
       "    }\n",
       "\n",
       "    .dataframe tbody tr th {\n",
       "        vertical-align: top;\n",
       "    }\n",
       "\n",
       "    .dataframe thead th {\n",
       "        text-align: right;\n",
       "    }\n",
       "</style>\n",
       "<table border=\"1\" class=\"dataframe\">\n",
       "  <thead>\n",
       "    <tr style=\"text-align: right;\">\n",
       "      <th></th>\n",
       "      <th>category_x</th>\n",
       "      <th>store_code</th>\n",
       "      <th>avg_sell_price</th>\n",
       "    </tr>\n",
       "  </thead>\n",
       "  <tbody>\n",
       "    <tr>\n",
       "      <th>0</th>\n",
       "      <td>SUPERMARKET</td>\n",
       "      <td>BOS_3</td>\n",
       "      <td>3.874553</td>\n",
       "    </tr>\n",
       "    <tr>\n",
       "      <th>1</th>\n",
       "      <td>HOME_&amp;_GARDEN</td>\n",
       "      <td>BOS_3</td>\n",
       "      <td>6.823749</td>\n",
       "    </tr>\n",
       "    <tr>\n",
       "      <th>2</th>\n",
       "      <td>SUPERMARKET</td>\n",
       "      <td>PHI_2</td>\n",
       "      <td>3.930609</td>\n",
       "    </tr>\n",
       "    <tr>\n",
       "      <th>3</th>\n",
       "      <td>ACCESORIES</td>\n",
       "      <td>PHI_3</td>\n",
       "      <td>7.083361</td>\n",
       "    </tr>\n",
       "    <tr>\n",
       "      <th>4</th>\n",
       "      <td>ACCESORIES</td>\n",
       "      <td>BOS_1</td>\n",
       "      <td>7.017132</td>\n",
       "    </tr>\n",
       "  </tbody>\n",
       "</table>\n",
       "</div>"
      ],
      "text/plain": [
       "      category_x store_code  avg_sell_price\n",
       "0    SUPERMARKET      BOS_3        3.874553\n",
       "1  HOME_&_GARDEN      BOS_3        6.823749\n",
       "2    SUPERMARKET      PHI_2        3.930609\n",
       "3     ACCESORIES      PHI_3        7.083361\n",
       "4     ACCESORIES      BOS_1        7.017132"
      ]
     },
     "execution_count": 22,
     "metadata": {},
     "output_type": "execute_result"
    }
   ],
   "source": [
    "# Executando a Consulta 16\n",
    "df_preco_medio_categoria_loja = executar_consulta(query_preco_medio_categoria_loja, client)\n",
    "print(\"Consulta 16: Preço Médio de Venda por Category_X e Código da Loja\")\n",
    "df_preco_medio_categoria_loja.head()"
   ]
  },
  {
   "cell_type": "code",
   "execution_count": 23,
   "id": "96801b73",
   "metadata": {},
   "outputs": [
    {
     "name": "stderr",
     "output_type": "stream",
     "text": [
      "c:\\Users\\rpiaz\\Desenvolvimento\\DSMarket\\.venv\\Lib\\site-packages\\google\\cloud\\bigquery\\table.py:1727: UserWarning: BigQuery Storage module not found, fetch data with the REST endpoint instead.\n",
      "  warnings.warn(\n"
     ]
    },
    {
     "name": "stdout",
     "output_type": "stream",
     "text": [
      "Consulta 17: Variação Percentual das Vendas por Ano-Semana e Category_X\n"
     ]
    },
    {
     "data": {
      "text/html": [
       "<div>\n",
       "<style scoped>\n",
       "    .dataframe tbody tr th:only-of-type {\n",
       "        vertical-align: middle;\n",
       "    }\n",
       "\n",
       "    .dataframe tbody tr th {\n",
       "        vertical-align: top;\n",
       "    }\n",
       "\n",
       "    .dataframe thead th {\n",
       "        text-align: right;\n",
       "    }\n",
       "</style>\n",
       "<table border=\"1\" class=\"dataframe\">\n",
       "  <thead>\n",
       "    <tr style=\"text-align: right;\">\n",
       "      <th></th>\n",
       "      <th>region</th>\n",
       "      <th>yearweek</th>\n",
       "      <th>sales</th>\n",
       "      <th>sales_change_percent</th>\n",
       "    </tr>\n",
       "  </thead>\n",
       "  <tbody>\n",
       "    <tr>\n",
       "      <th>0</th>\n",
       "      <td>New York</td>\n",
       "      <td>201533</td>\n",
       "      <td>13</td>\n",
       "      <td>1200.00000</td>\n",
       "    </tr>\n",
       "    <tr>\n",
       "      <th>1</th>\n",
       "      <td>New York</td>\n",
       "      <td>201533</td>\n",
       "      <td>2</td>\n",
       "      <td>-90.47619</td>\n",
       "    </tr>\n",
       "    <tr>\n",
       "      <th>2</th>\n",
       "      <td>New York</td>\n",
       "      <td>201533</td>\n",
       "      <td>3</td>\n",
       "      <td>-25.00000</td>\n",
       "    </tr>\n",
       "    <tr>\n",
       "      <th>3</th>\n",
       "      <td>New York</td>\n",
       "      <td>201533</td>\n",
       "      <td>1</td>\n",
       "      <td>-80.00000</td>\n",
       "    </tr>\n",
       "    <tr>\n",
       "      <th>4</th>\n",
       "      <td>New York</td>\n",
       "      <td>201533</td>\n",
       "      <td>1</td>\n",
       "      <td>-80.00000</td>\n",
       "    </tr>\n",
       "  </tbody>\n",
       "</table>\n",
       "</div>"
      ],
      "text/plain": [
       "     region yearweek  sales  sales_change_percent\n",
       "0  New York   201533     13            1200.00000\n",
       "1  New York   201533      2             -90.47619\n",
       "2  New York   201533      3             -25.00000\n",
       "3  New York   201533      1             -80.00000\n",
       "4  New York   201533      1             -80.00000"
      ]
     },
     "execution_count": 23,
     "metadata": {},
     "output_type": "execute_result"
    }
   ],
   "source": [
    "df_variacao_percentual_vendas = executar_consulta(query_variacao_percentual_vendas, client)\n",
    "print(\"Consulta 17: Variação Percentual das Vendas por Ano-Semana e Category_X\")\n",
    "df_variacao_percentual_vendas.head()"
   ]
  },
  {
   "cell_type": "code",
   "execution_count": 24,
   "id": "be7e9a86",
   "metadata": {},
   "outputs": [
    {
     "name": "stderr",
     "output_type": "stream",
     "text": [
      "c:\\Users\\rpiaz\\Desenvolvimento\\DSMarket\\.venv\\Lib\\site-packages\\google\\cloud\\bigquery\\table.py:1727: UserWarning: BigQuery Storage module not found, fetch data with the REST endpoint instead.\n",
      "  warnings.warn(\n"
     ]
    },
    {
     "name": "stdout",
     "output_type": "stream",
     "text": [
      "Consulta 18: Vendas Acumuladas por Código da Loja ao Longo do Tempo\n"
     ]
    },
    {
     "data": {
      "text/html": [
       "<div>\n",
       "<style scoped>\n",
       "    .dataframe tbody tr th:only-of-type {\n",
       "        vertical-align: middle;\n",
       "    }\n",
       "\n",
       "    .dataframe tbody tr th {\n",
       "        vertical-align: top;\n",
       "    }\n",
       "\n",
       "    .dataframe thead th {\n",
       "        text-align: right;\n",
       "    }\n",
       "</style>\n",
       "<table border=\"1\" class=\"dataframe\">\n",
       "  <thead>\n",
       "    <tr style=\"text-align: right;\">\n",
       "      <th></th>\n",
       "      <th>store_code</th>\n",
       "      <th>date</th>\n",
       "      <th>cumulative_sales</th>\n",
       "    </tr>\n",
       "  </thead>\n",
       "  <tbody>\n",
       "    <tr>\n",
       "      <th>0</th>\n",
       "      <td>BOS_1</td>\n",
       "      <td>2011-01-29 00:00:00+00:00</td>\n",
       "      <td>2556</td>\n",
       "    </tr>\n",
       "    <tr>\n",
       "      <th>1</th>\n",
       "      <td>BOS_1</td>\n",
       "      <td>2011-01-29 00:00:00+00:00</td>\n",
       "      <td>2556</td>\n",
       "    </tr>\n",
       "    <tr>\n",
       "      <th>2</th>\n",
       "      <td>BOS_1</td>\n",
       "      <td>2011-01-29 00:00:00+00:00</td>\n",
       "      <td>2556</td>\n",
       "    </tr>\n",
       "    <tr>\n",
       "      <th>3</th>\n",
       "      <td>BOS_1</td>\n",
       "      <td>2011-01-29 00:00:00+00:00</td>\n",
       "      <td>2556</td>\n",
       "    </tr>\n",
       "    <tr>\n",
       "      <th>4</th>\n",
       "      <td>BOS_1</td>\n",
       "      <td>2011-01-29 00:00:00+00:00</td>\n",
       "      <td>2556</td>\n",
       "    </tr>\n",
       "  </tbody>\n",
       "</table>\n",
       "</div>"
      ],
      "text/plain": [
       "  store_code                      date  cumulative_sales\n",
       "0      BOS_1 2011-01-29 00:00:00+00:00              2556\n",
       "1      BOS_1 2011-01-29 00:00:00+00:00              2556\n",
       "2      BOS_1 2011-01-29 00:00:00+00:00              2556\n",
       "3      BOS_1 2011-01-29 00:00:00+00:00              2556\n",
       "4      BOS_1 2011-01-29 00:00:00+00:00              2556"
      ]
     },
     "execution_count": 24,
     "metadata": {},
     "output_type": "execute_result"
    }
   ],
   "source": [
    "# Executando a Consulta 18 Refinada\n",
    "df_vendas_acumuladas = executar_consulta(query_vendas_acumuladas, client)\n",
    "print(\"Consulta 18: Vendas Acumuladas por Código da Loja ao Longo do Tempo\")\n",
    "df_vendas_acumuladas.head()"
   ]
  },
  {
   "cell_type": "code",
   "execution_count": 25,
   "id": "3ad23805",
   "metadata": {},
   "outputs": [
    {
     "name": "stderr",
     "output_type": "stream",
     "text": [
      "c:\\Users\\rpiaz\\Desenvolvimento\\DSMarket\\.venv\\Lib\\site-packages\\google\\cloud\\bigquery\\table.py:1727: UserWarning: BigQuery Storage module not found, fetch data with the REST endpoint instead.\n",
      "  warnings.warn(\n"
     ]
    },
    {
     "name": "stdout",
     "output_type": "stream",
     "text": [
      "Consulta 19: Média Móvel de 7 Dias das Vendas por Região\n"
     ]
    },
    {
     "data": {
      "text/html": [
       "<div>\n",
       "<style scoped>\n",
       "    .dataframe tbody tr th:only-of-type {\n",
       "        vertical-align: middle;\n",
       "    }\n",
       "\n",
       "    .dataframe tbody tr th {\n",
       "        vertical-align: top;\n",
       "    }\n",
       "\n",
       "    .dataframe thead th {\n",
       "        text-align: right;\n",
       "    }\n",
       "</style>\n",
       "<table border=\"1\" class=\"dataframe\">\n",
       "  <thead>\n",
       "    <tr style=\"text-align: right;\">\n",
       "      <th></th>\n",
       "      <th>region</th>\n",
       "      <th>date</th>\n",
       "      <th>moving_avg_sales</th>\n",
       "    </tr>\n",
       "  </thead>\n",
       "  <tbody>\n",
       "    <tr>\n",
       "      <th>0</th>\n",
       "      <td>Boston</td>\n",
       "      <td>2011-01-29 00:00:00+00:00</td>\n",
       "      <td>0.428571</td>\n",
       "    </tr>\n",
       "    <tr>\n",
       "      <th>1</th>\n",
       "      <td>Boston</td>\n",
       "      <td>2011-01-29 00:00:00+00:00</td>\n",
       "      <td>0.428571</td>\n",
       "    </tr>\n",
       "    <tr>\n",
       "      <th>2</th>\n",
       "      <td>Boston</td>\n",
       "      <td>2011-01-29 00:00:00+00:00</td>\n",
       "      <td>0.428571</td>\n",
       "    </tr>\n",
       "    <tr>\n",
       "      <th>3</th>\n",
       "      <td>Boston</td>\n",
       "      <td>2011-01-29 00:00:00+00:00</td>\n",
       "      <td>0.000000</td>\n",
       "    </tr>\n",
       "    <tr>\n",
       "      <th>4</th>\n",
       "      <td>Boston</td>\n",
       "      <td>2011-01-29 00:00:00+00:00</td>\n",
       "      <td>0.428571</td>\n",
       "    </tr>\n",
       "  </tbody>\n",
       "</table>\n",
       "</div>"
      ],
      "text/plain": [
       "   region                      date  moving_avg_sales\n",
       "0  Boston 2011-01-29 00:00:00+00:00          0.428571\n",
       "1  Boston 2011-01-29 00:00:00+00:00          0.428571\n",
       "2  Boston 2011-01-29 00:00:00+00:00          0.428571\n",
       "3  Boston 2011-01-29 00:00:00+00:00          0.000000\n",
       "4  Boston 2011-01-29 00:00:00+00:00          0.428571"
      ]
     },
     "execution_count": 25,
     "metadata": {},
     "output_type": "execute_result"
    }
   ],
   "source": [
    "# Executando a Consulta 19\n",
    "df_media_movel_7dias = executar_consulta(query_media_movel_7dias, client)\n",
    "print(\"Consulta 19: Média Móvel de 7 Dias das Vendas por Região\")\n",
    "df_media_movel_7dias.head()"
   ]
  },
  {
   "cell_type": "code",
   "execution_count": 26,
   "id": "2a54b06c",
   "metadata": {},
   "outputs": [
    {
     "name": "stderr",
     "output_type": "stream",
     "text": [
      "c:\\Users\\rpiaz\\Desenvolvimento\\DSMarket\\.venv\\Lib\\site-packages\\google\\cloud\\bigquery\\table.py:1727: UserWarning: BigQuery Storage module not found, fetch data with the REST endpoint instead.\n",
      "  warnings.warn(\n"
     ]
    },
    {
     "name": "stdout",
     "output_type": "stream",
     "text": [
      "Consulta 20: Total de Vendas por Evento e Departamento com Classificação\n"
     ]
    },
    {
     "data": {
      "text/html": [
       "<div>\n",
       "<style scoped>\n",
       "    .dataframe tbody tr th:only-of-type {\n",
       "        vertical-align: middle;\n",
       "    }\n",
       "\n",
       "    .dataframe tbody tr th {\n",
       "        vertical-align: top;\n",
       "    }\n",
       "\n",
       "    .dataframe thead th {\n",
       "        text-align: right;\n",
       "    }\n",
       "</style>\n",
       "<table border=\"1\" class=\"dataframe\">\n",
       "  <thead>\n",
       "    <tr style=\"text-align: right;\">\n",
       "      <th></th>\n",
       "      <th>event</th>\n",
       "      <th>department</th>\n",
       "      <th>total_sales</th>\n",
       "      <th>sales_rank</th>\n",
       "    </tr>\n",
       "  </thead>\n",
       "  <tbody>\n",
       "    <tr>\n",
       "      <th>0</th>\n",
       "      <td>None</td>\n",
       "      <td>SUPERMARKET_3</td>\n",
       "      <td>31939824</td>\n",
       "      <td>1</td>\n",
       "    </tr>\n",
       "    <tr>\n",
       "      <th>1</th>\n",
       "      <td>None</td>\n",
       "      <td>HOME_&amp;_GARDEN_1</td>\n",
       "      <td>11364593</td>\n",
       "      <td>2</td>\n",
       "    </tr>\n",
       "    <tr>\n",
       "      <th>2</th>\n",
       "      <td>None</td>\n",
       "      <td>SUPERMARKET_2</td>\n",
       "      <td>7542692</td>\n",
       "      <td>3</td>\n",
       "    </tr>\n",
       "    <tr>\n",
       "      <th>3</th>\n",
       "      <td>None</td>\n",
       "      <td>ACCESORIES_1</td>\n",
       "      <td>5534560</td>\n",
       "      <td>4</td>\n",
       "    </tr>\n",
       "    <tr>\n",
       "      <th>4</th>\n",
       "      <td>None</td>\n",
       "      <td>SUPERMARKET_1</td>\n",
       "      <td>5027025</td>\n",
       "      <td>5</td>\n",
       "    </tr>\n",
       "  </tbody>\n",
       "</table>\n",
       "</div>"
      ],
      "text/plain": [
       "  event       department  total_sales  sales_rank\n",
       "0  None    SUPERMARKET_3     31939824           1\n",
       "1  None  HOME_&_GARDEN_1     11364593           2\n",
       "2  None    SUPERMARKET_2      7542692           3\n",
       "3  None     ACCESORIES_1      5534560           4\n",
       "4  None    SUPERMARKET_1      5027025           5"
      ]
     },
     "execution_count": 26,
     "metadata": {},
     "output_type": "execute_result"
    }
   ],
   "source": [
    "# Executando a Consulta 20\n",
    "df_vendas_evento_departamento = executar_consulta(query_vendas_evento_departamento, client)\n",
    "print(\"Consulta 20: Total de Vendas por Evento e Departamento com Classificação\")\n",
    "df_vendas_evento_departamento.head()"
   ]
  },
  {
   "cell_type": "code",
   "execution_count": 27,
   "id": "ba70c087",
   "metadata": {},
   "outputs": [
    {
     "name": "stderr",
     "output_type": "stream",
     "text": [
      "c:\\Users\\rpiaz\\Desenvolvimento\\DSMarket\\.venv\\Lib\\site-packages\\google\\cloud\\bigquery\\table.py:1727: UserWarning: BigQuery Storage module not found, fetch data with the REST endpoint instead.\n",
      "  warnings.warn(\n"
     ]
    },
    {
     "name": "stdout",
     "output_type": "stream",
     "text": [
      "Consulta 21: Top 3 Regiões com Maior Total de Vendas para 'ACCESORIES'\n"
     ]
    },
    {
     "data": {
      "text/html": [
       "<div>\n",
       "<style scoped>\n",
       "    .dataframe tbody tr th:only-of-type {\n",
       "        vertical-align: middle;\n",
       "    }\n",
       "\n",
       "    .dataframe tbody tr th {\n",
       "        vertical-align: top;\n",
       "    }\n",
       "\n",
       "    .dataframe thead th {\n",
       "        text-align: right;\n",
       "    }\n",
       "</style>\n",
       "<table border=\"1\" class=\"dataframe\">\n",
       "  <thead>\n",
       "    <tr style=\"text-align: right;\">\n",
       "      <th></th>\n",
       "      <th>region</th>\n",
       "      <th>total_sales</th>\n",
       "    </tr>\n",
       "  </thead>\n",
       "  <tbody>\n",
       "    <tr>\n",
       "      <th>0</th>\n",
       "      <td>New York</td>\n",
       "      <td>3040885</td>\n",
       "    </tr>\n",
       "    <tr>\n",
       "      <th>1</th>\n",
       "      <td>Boston</td>\n",
       "      <td>1592654</td>\n",
       "    </tr>\n",
       "    <tr>\n",
       "      <th>2</th>\n",
       "      <td>Philadelphia</td>\n",
       "      <td>1493440</td>\n",
       "    </tr>\n",
       "  </tbody>\n",
       "</table>\n",
       "</div>"
      ],
      "text/plain": [
       "         region  total_sales\n",
       "0      New York      3040885\n",
       "1        Boston      1592654\n",
       "2  Philadelphia      1493440"
      ]
     },
     "execution_count": 27,
     "metadata": {},
     "output_type": "execute_result"
    }
   ],
   "source": [
    "# Executando a Consulta 21\n",
    "df_top_3_regioes_categoria = executar_consulta(query_top_3_regioes_categoria, client)\n",
    "print(\"Consulta 21: Top 3 Regiões com Maior Total de Vendas para 'ACCESORIES'\")\n",
    "df_top_3_regioes_categoria.head()"
   ]
  },
  {
   "cell_type": "code",
   "execution_count": 28,
   "id": "274d5fc7",
   "metadata": {},
   "outputs": [
    {
     "name": "stderr",
     "output_type": "stream",
     "text": [
      "c:\\Users\\rpiaz\\Desenvolvimento\\DSMarket\\.venv\\Lib\\site-packages\\google\\cloud\\bigquery\\table.py:1727: UserWarning: BigQuery Storage module not found, fetch data with the REST endpoint instead.\n",
      "  warnings.warn(\n"
     ]
    },
    {
     "name": "stdout",
     "output_type": "stream",
     "text": [
      "Consulta 22: Top 5 Lojas com Maior Preço Médio de Venda para 'ACCESORIES_1'\n"
     ]
    },
    {
     "data": {
      "text/html": [
       "<div>\n",
       "<style scoped>\n",
       "    .dataframe tbody tr th:only-of-type {\n",
       "        vertical-align: middle;\n",
       "    }\n",
       "\n",
       "    .dataframe tbody tr th {\n",
       "        vertical-align: top;\n",
       "    }\n",
       "\n",
       "    .dataframe thead th {\n",
       "        text-align: right;\n",
       "    }\n",
       "</style>\n",
       "<table border=\"1\" class=\"dataframe\">\n",
       "  <thead>\n",
       "    <tr style=\"text-align: right;\">\n",
       "      <th></th>\n",
       "      <th>store_code</th>\n",
       "      <th>avg_sell_price</th>\n",
       "    </tr>\n",
       "  </thead>\n",
       "  <tbody>\n",
       "    <tr>\n",
       "      <th>0</th>\n",
       "      <td>PHI_2</td>\n",
       "      <td>8.332554</td>\n",
       "    </tr>\n",
       "    <tr>\n",
       "      <th>1</th>\n",
       "      <td>NYC_2</td>\n",
       "      <td>8.328753</td>\n",
       "    </tr>\n",
       "    <tr>\n",
       "      <th>2</th>\n",
       "      <td>PHI_1</td>\n",
       "      <td>8.311760</td>\n",
       "    </tr>\n",
       "    <tr>\n",
       "      <th>3</th>\n",
       "      <td>NYC_4</td>\n",
       "      <td>8.304636</td>\n",
       "    </tr>\n",
       "    <tr>\n",
       "      <th>4</th>\n",
       "      <td>NYC_3</td>\n",
       "      <td>8.293459</td>\n",
       "    </tr>\n",
       "  </tbody>\n",
       "</table>\n",
       "</div>"
      ],
      "text/plain": [
       "  store_code  avg_sell_price\n",
       "0      PHI_2        8.332554\n",
       "1      NYC_2        8.328753\n",
       "2      PHI_1        8.311760\n",
       "3      NYC_4        8.304636\n",
       "4      NYC_3        8.293459"
      ]
     },
     "execution_count": 28,
     "metadata": {},
     "output_type": "execute_result"
    }
   ],
   "source": [
    "# Executando a Consulta 22\n",
    "df_top_5_lojas_preco_medio = executar_consulta(query_top_5_lojas_preco_medio, client)\n",
    "print(\"Consulta 22: Top 5 Lojas com Maior Preço Médio de Venda para 'ACCESORIES_1'\")\n",
    "df_top_5_lojas_preco_medio.head()"
   ]
  },
  {
   "cell_type": "code",
   "execution_count": 29,
   "id": "1be9d81e",
   "metadata": {},
   "outputs": [
    {
     "name": "stderr",
     "output_type": "stream",
     "text": [
      "c:\\Users\\rpiaz\\Desenvolvimento\\DSMarket\\.venv\\Lib\\site-packages\\google\\cloud\\bigquery\\table.py:1727: UserWarning: BigQuery Storage module not found, fetch data with the REST endpoint instead.\n",
      "  warnings.warn(\n"
     ]
    },
    {
     "name": "stdout",
     "output_type": "stream",
     "text": [
      "Consulta 23: Top 3 Eventos com Maior Total de Vendas para 'ACCESORIES_1_001'\n"
     ]
    },
    {
     "data": {
      "text/html": [
       "<div>\n",
       "<style scoped>\n",
       "    .dataframe tbody tr th:only-of-type {\n",
       "        vertical-align: middle;\n",
       "    }\n",
       "\n",
       "    .dataframe tbody tr th {\n",
       "        vertical-align: top;\n",
       "    }\n",
       "\n",
       "    .dataframe thead th {\n",
       "        text-align: right;\n",
       "    }\n",
       "</style>\n",
       "<table border=\"1\" class=\"dataframe\">\n",
       "  <thead>\n",
       "    <tr style=\"text-align: right;\">\n",
       "      <th></th>\n",
       "      <th>event</th>\n",
       "      <th>total_sales</th>\n",
       "    </tr>\n",
       "  </thead>\n",
       "  <tbody>\n",
       "    <tr>\n",
       "      <th>0</th>\n",
       "      <td>None</td>\n",
       "      <td>4038</td>\n",
       "    </tr>\n",
       "    <tr>\n",
       "      <th>1</th>\n",
       "      <td>Easter</td>\n",
       "      <td>13</td>\n",
       "    </tr>\n",
       "    <tr>\n",
       "      <th>2</th>\n",
       "      <td>SuperBowl</td>\n",
       "      <td>12</td>\n",
       "    </tr>\n",
       "  </tbody>\n",
       "</table>\n",
       "</div>"
      ],
      "text/plain": [
       "       event  total_sales\n",
       "0       None         4038\n",
       "1     Easter           13\n",
       "2  SuperBowl           12"
      ]
     },
     "execution_count": 29,
     "metadata": {},
     "output_type": "execute_result"
    }
   ],
   "source": [
    "# Executando a Consulta 23\n",
    "df_top_3_eventos_item = executar_consulta(query_top_3_eventos_item, client)\n",
    "print(\"Consulta 23: Top 3 Eventos com Maior Total de Vendas para 'ACCESORIES_1_001'\")\n",
    "df_top_3_eventos_item.head()"
   ]
  },
  {
   "cell_type": "code",
   "execution_count": 30,
   "id": "f9c30cdb",
   "metadata": {},
   "outputs": [
    {
     "name": "stderr",
     "output_type": "stream",
     "text": [
      "c:\\Users\\rpiaz\\Desenvolvimento\\DSMarket\\.venv\\Lib\\site-packages\\google\\cloud\\bigquery\\table.py:1727: UserWarning: BigQuery Storage module not found, fetch data with the REST endpoint instead.\n",
      "  warnings.warn(\n"
     ]
    },
    {
     "name": "stdout",
     "output_type": "stream",
     "text": [
      "Consulta 24: Top 5 Categorias com Maior Média de Vendas para 'BOS_1'\n"
     ]
    },
    {
     "data": {
      "text/html": [
       "<div>\n",
       "<style scoped>\n",
       "    .dataframe tbody tr th:only-of-type {\n",
       "        vertical-align: middle;\n",
       "    }\n",
       "\n",
       "    .dataframe tbody tr th {\n",
       "        vertical-align: top;\n",
       "    }\n",
       "\n",
       "    .dataframe thead th {\n",
       "        text-align: right;\n",
       "    }\n",
       "</style>\n",
       "<table border=\"1\" class=\"dataframe\">\n",
       "  <thead>\n",
       "    <tr style=\"text-align: right;\">\n",
       "      <th></th>\n",
       "      <th>category_x</th>\n",
       "      <th>avg_sales</th>\n",
       "    </tr>\n",
       "  </thead>\n",
       "  <tbody>\n",
       "    <tr>\n",
       "      <th>0</th>\n",
       "      <td>SUPERMARKET</td>\n",
       "      <td>1.374247</td>\n",
       "    </tr>\n",
       "    <tr>\n",
       "      <th>1</th>\n",
       "      <td>HOME_&amp;_GARDEN</td>\n",
       "      <td>0.693021</td>\n",
       "    </tr>\n",
       "    <tr>\n",
       "      <th>2</th>\n",
       "      <td>ACCESORIES</td>\n",
       "      <td>0.396965</td>\n",
       "    </tr>\n",
       "  </tbody>\n",
       "</table>\n",
       "</div>"
      ],
      "text/plain": [
       "      category_x  avg_sales\n",
       "0    SUPERMARKET   1.374247\n",
       "1  HOME_&_GARDEN   0.693021\n",
       "2     ACCESORIES   0.396965"
      ]
     },
     "execution_count": 30,
     "metadata": {},
     "output_type": "execute_result"
    }
   ],
   "source": [
    "# Executando a Consulta 24\n",
    "df_top_5_categorias_media_loja = executar_consulta(query_top_5_categorias_media_loja, client)\n",
    "print(\"Consulta 24: Top 5 Categorias com Maior Média de Vendas para 'BOS_1'\")\n",
    "df_top_5_categorias_media_loja.head()"
   ]
  },
  {
   "cell_type": "markdown",
   "id": "03f8ef81",
   "metadata": {},
   "source": [
    "## 6. Análise e Visualização dos Dados"
   ]
  },
  {
   "cell_type": "code",
   "execution_count": 31,
   "id": "b59c20ce",
   "metadata": {},
   "outputs": [
    {
     "data": {
      "image/png": "[encoded data removed]",
      "text/plain": [
       "<Figure size 1200x800 with 1 Axes>"
      ]
     },
     "metadata": {},
     "output_type": "display_data"
    }
   ],
   "source": [
    "# Exemplo de visualização: Total de Vendas por Região e Departamento\n",
    "plt.figure(figsize=(12, 8))\n",
    "sns.barplot(data=df_total_vendas_loja, x='region', y='total_sales', hue='department')\n",
    "plt.title('Total de Vendas por Região e Departamento')\n",
    "plt.xlabel('Região')\n",
    "plt.ylabel('Total de Vendas')\n",
    "plt.legend(title='Departamento')\n",
    "plt.show()"
   ]
  },
  {
   "cell_type": "code",
   "execution_count": 32,
   "id": "7cea0c1f",
   "metadata": {},
   "outputs": [
    {
     "data": {
      "image/png": "[encoded data removed]",
      "text/plain": [
       "<Figure size 1000x600 with 1 Axes>"
      ]
     },
     "metadata": {},
     "output_type": "display_data"
    }
   ],
   "source": [
    "# Exemplo de visualização: Correlação entre Vendas e Preço de Venda por Região\n",
    "plt.figure(figsize=(10, 6))\n",
    "sns.barplot(data=df_correlacao_vendas_preco, x='region', y='sales_sell_price_corr')\n",
    "plt.title('Correlação entre Vendas e Preço de Venda por Região')\n",
    "plt.xlabel('Região')\n",
    "plt.ylabel('Correlação')\n",
    "plt.show()"
   ]
  },
  {
   "cell_type": "code",
   "execution_count": 33,
   "id": "6bfaadd4",
   "metadata": {},
   "outputs": [
    {
     "data": {
      "image/png": "[encoded data removed]",
      "text/plain": [
       "<Figure size 1000x600 with 1 Axes>"
      ]
     },
     "metadata": {},
     "output_type": "display_data"
    }
   ],
   "source": [
    "# Exemplo de visualização: Top 5 Itens com Maiores Vendas para US na Semana 201552\n",
    "plt.figure(figsize=(10, 6))\n",
    "sns.barplot(data=df_top_5_itens, x='item', y='total_sales')\n",
    "plt.title('Top 5 Itens com Maiores Vendas para US na Semana 201552')\n",
    "plt.xlabel('Item')\n",
    "plt.ylabel('Total de Vendas')\n",
    "plt.show()"
   ]
  },
  {
   "cell_type": "code",
   "execution_count": 34,
   "id": "a640b019",
   "metadata": {},
   "outputs": [
    {
     "data": {
      "image/png": "[encoded data removed]",
      "text/plain": [
       "<Figure size 800x600 with 1 Axes>"
      ]
     },
     "metadata": {},
     "output_type": "display_data"
    }
   ],
   "source": [
    "# Distribuição das Vendas\n",
    "plt.figure(figsize=(8,6))\n",
    "sns.histplot(df_sample['sales'], bins=10, kde=True)\n",
    "plt.title('Distribuição das Vendas (Amostra)')\n",
    "plt.xlabel('Vendas')\n",
    "plt.ylabel('Frequência')\n",
    "plt.show()"
   ]
  },
  {
   "cell_type": "code",
   "execution_count": 35,
   "id": "d3e73780",
   "metadata": {},
   "outputs": [
    {
     "data": {
      "image/png": "[encoded data removed]",
      "text/plain": [
       "<Figure size 800x600 with 1 Axes>"
      ]
     },
     "metadata": {},
     "output_type": "display_data"
    }
   ],
   "source": [
    "# Relação entre Preço de Venda e Vendas\n",
    "plt.figure(figsize=(8,6))\n",
    "sns.scatterplot(data=df_sample, x='sell_price', y='sales', hue='region')\n",
    "plt.title('Relação entre Preço de Venda e Vendas (Amostra)')\n",
    "plt.xlabel('Preço de Venda')\n",
    "plt.ylabel('Vendas')\n",
    "plt.show()"
   ]
  },
  {
   "cell_type": "markdown",
   "id": "3651035b",
   "metadata": {},
   "source": [
    "## 7. Modelos de Machine Learning"
   ]
  },
  {
   "cell_type": "markdown",
   "id": "3bc9af94",
   "metadata": {},
   "source": [
    "### 7.1. BigQuery ML - Previsão de Vendas Futuras"
   ]
  },
  {
   "cell_type": "markdown",
   "id": "9d0eddc1",
   "metadata": {},
   "source": [
    "#### 7.1.1. Criando e Treinando um Modelo de Classificação Logística com BigQuery ML"
   ]
  },
  {
   "cell_type": "code",
   "execution_count": null,
   "id": "0fe25d40",
   "metadata": {},
   "outputs": [],
   "source": [
    "# Definir a consulta para criar o modelo de classificação logística\n",
    "create_model_query = \"\"\"\n",
    "CREATE OR REPLACE MODEL `TFM.sales_predict_model`\n",
    "OPTIONS(\n",
    "  model_type='logistic_reg',\n",
    "  input_label_cols=['sales']\n",
    ") AS\n",
    "WITH top_labels AS (\n",
    "  SELECT\n",
    "    sales,\n",
    "    COUNT(*) AS count\n",
    "  FROM\n",
    "    `TFM.ds_market`\n",
    "  GROUP BY\n",
    "    sales\n",
    "  ORDER BY\n",
    "    count DESC\n",
    "  LIMIT 50\n",
    ")\n",
    "SELECT\n",
    "  sell_price,\n",
    "  category_x,\n",
    "  department,\n",
    "  region,\n",
    "  event,\n",
    "  yearweek,\n",
    "  d,\n",
    "  store_code,\n",
    "  sales\n",
    "FROM\n",
    "  `TFM.ds_market`\n",
    "WHERE\n",
    "  date BETWEEN '2011-01-01' AND '2016-12-31'\n",
    "  AND sales IN (SELECT sales FROM top_labels);\n",
    "\"\"\"\n",
    "\n",
    "# Executar a consulta para criar o modelo\n",
    "client.query(create_model_query).result()\n",
    "print(\"Modelo de Classificação Logística criado com sucesso.\")"
   ]
  },
  {
   "cell_type": "code",
   "execution_count": null,
   "id": "43d97105",
   "metadata": {},
   "outputs": [],
   "source": [
    "# Definir a consulta para fazer previsões\n",
    "predict_query = \"\"\"\n",
    "SELECT\n",
    "  sell_price,\n",
    "  category_x,\n",
    "  department,\n",
    "  region,\n",
    "  event,\n",
    "  yearweek,\n",
    "  d,\n",
    "  store_code,\n",
    "  predicted_sales\n",
    "FROM\n",
    "  ML.PREDICT(MODEL `TFM.sales_predict_model`,\n",
    "    (\n",
    "      SELECT\n",
    "        sell_price,\n",
    "        category_x,\n",
    "        department,\n",
    "        region,\n",
    "        event,\n",
    "        yearweek,\n",
    "        d,\n",
    "        store_code\n",
    "      FROM\n",
    "        `TFM.ds_market`\n",
    "      WHERE\n",
    "        date BETWEEN '2024-01-01' AND '2024-12-31'\n",
    "    )\n",
    "  );\n",
    "\"\"\"\n",
    "\n",
    "# Executar a consulta de previsão\n",
    "df_predictions = executar_consulta(predict_query, client)\n",
    "print(\"Previsões realizadas com sucesso.\")\n",
    "df_predictions.head()"
   ]
  },
  {
   "cell_type": "markdown",
   "id": "9958f393",
   "metadata": {},
   "source": [
    "### 7.2. scikit-learn - Classificação de Vendas"
   ]
  },
  {
   "cell_type": "code",
   "execution_count": null,
   "id": "9053597c",
   "metadata": {},
   "outputs": [],
   "source": [
    "# Criando e Treinando um Modelo de Classificação com scikit-learn\n",
    "# Carregar os dados necessários para o modelo\n",
    "query_ml_data = \"\"\"\n",
    "SELECT\n",
    "  sell_price,\n",
    "  category_x,\n",
    "  department,\n",
    "  region,\n",
    "  event,\n",
    "  yearweek,\n",
    "  d,\n",
    "  store_code,\n",
    "  sales\n",
    "FROM\n",
    "  `TFM.ds_market`\n",
    "WHERE\n",
    "  date BETWEEN '2022-01-01' AND '2023-12-31';\n",
    "\"\"\"\n",
    "\n",
    "df_ml = executar_consulta(query_ml_data, client)\n",
    "\n",
    "# Remover registros com sell_price faltante\n",
    "df_ml = df_ml.dropna(subset=['sell_price'])\n",
    "\n",
    "# Definir Features e Target\n",
    "X = df_ml[['sell_price', 'category_x', 'department', 'region', 'event', 'yearweek', 'd', 'store_code']]\n",
    "y = df_ml['sales']\n",
    "\n",
    "# Dividir em conjuntos de treinamento e teste\n",
    "X_train, X_test, y_train, y_test = train_test_split(\n",
    "    X, y, test_size=0.2, random_state=42, stratify=y\n",
    ")\n",
    "\n",
    "# Definir colunas categóricas e numéricas\n",
    "categorical_features = ['category_x', 'department', 'region', 'event', 'yearweek', 'd', 'store_code']\n",
    "numeric_features = ['sell_price']\n",
    "\n",
    "# Criar o pré-processamento para colunas categóricas e numéricas\n",
    "preprocessor = ColumnTransformer(\n",
    "    transformers=[\n",
    "        ('num', SimpleImputer(strategy='mean'), numeric_features),\n",
    "        ('cat', OneHotEncoder(handle_unknown='ignore'), categorical_features)\n",
    "    ]\n",
    ")\n",
    "\n",
    "# Criar o pipeline com pré-processamento e modelo\n",
    "pipeline = Pipeline(steps=[\n",
    "    ('preprocessor', preprocessor),\n",
    "    ('classifier', LogisticRegression(max_iter=1000))\n",
    "])\n",
    "\n",
    "# Treinar o modelo\n",
    "pipeline.fit(X_train, y_train)\n",
    "\n",
    "# Fazer previsões\n",
    "y_pred = pipeline.predict(X_test)\n",
    "\n",
    "# Avaliar o modelo\n",
    "accuracy = accuracy_score(y_test, y_pred)\n",
    "print(f\"Accuracy: {accuracy:.4f}\")\n",
    "\n",
    "print(\"Confusion Matrix:\")\n",
    "print(confusion_matrix(y_test, y_pred))\n",
    "\n",
    "print(\"Classification Report:\")\n",
    "print(classification_report(y_test, y_pred))"
   ]
  },
  {
   "cell_type": "code",
   "execution_count": null,
   "id": "4f32d4ef",
   "metadata": {},
   "outputs": [],
   "source": [
    "from jupyter_dash import JupyterDash\n",
    "from dash import dcc, html\n",
    "from dash.dependencies import Input, Output\n",
    "import plotly.express as px\n",
    "\n",
    "# Inicializar o aplicativo JupyterDash\n",
    "app = JupyterDash(__name__)\n",
    "\n",
    "# Definir o layout do dashboard\n",
    "app.layout = html.Div([\n",
    "    html.H1(\"Dashboard de Vendas\"),\n",
    "    html.Div([\n",
    "        html.Label(\"Selecione a Região:\"),\n",
    "        dcc.Dropdown(\n",
    "            id='region-dropdown',\n",
    "            options=[{'label': region, 'value': region} for region in df_total_vendas_loja['region'].unique()],\n",
    "            value='US',\n",
    "            clearable=False\n",
    "        )\n",
    "    ], style={'width': '25%', 'display': 'inline-block', 'padding': '20px'}),\n",
    "    dcc.Graph(id='vendas-por-departamento')\n",
    "])\n",
    "\n",
    "# Definir as callbacks para atualizar o gráfico\n",
    "@app.callback(\n",
    "    Output('vendas-por-departamento', 'figure'),\n",
    "    [Input('region-dropdown', 'value')]\n",
    ")\n",
    "def update_graph(selected_region):\n",
    "    # Filtrar os dados com base na região selecionada\n",
    "    filtered_df = df_total_vendas_loja[df_total_vendas_loja['region'] == selected_region]\n",
    "    \n",
    "    # Criar o gráfico de barras\n",
    "    fig = px.bar(\n",
    "        filtered_df,\n",
    "        x='department',\n",
    "        y='total_sales',\n",
    "        title=f'Total de Vendas por Departamento na Região {selected_region}',\n",
    "        labels={'department': 'Departamento', 'total_sales': 'Total de Vendas'}\n",
    "    )\n",
    "    return fig\n",
    "\n",
    "# Executar o aplicativo no modo inline\n",
    "app.run_server(mode='inline')"
   ]
  }
 ],
 "metadata": {
  "jupytext": {
   "cell_metadata_filter": "-all",
   "main_language": "python",
   "notebook_metadata_filter": "-all"
  },
  "kernelspec": {
   "display_name": ".venv",
   "language": "python",
   "name": "python3"
  },
  "language_info": {
   "codemirror_mode": {
    "name": "ipython",
    "version": 3
   },
   "file_extension": ".py",
   "mimetype": "text/x-python",
   "name": "python",
   "nbconvert_exporter": "python",
   "pygments_lexer": "ipython3",
   "version": "3.12.3"
  }
 },
 "nbformat": 4,
 "nbformat_minor": 5
}
