{
 "cells": [
  {
   "cell_type": "code",
   "execution_count": 1,
   "metadata": {},
   "outputs": [],
   "source": [
    "import os\n",
    "from google.cloud import bigquery\n",
    "from google.oauth2 import service_account\n",
    "import pandas as pd\n",
    "from sqlalchemy import create_engine\n",
    "from sqlalchemy.types import Integer, String, Float, DateTime\n",
    "import psycopg2"
   ]
  },
  {
   "cell_type": "code",
   "execution_count": 2,
   "metadata": {},
   "outputs": [],
   "source": [
    "# Caminho para o arquivo de chave da conta de serviço - Lucas disponibilizou no Whatsapp do grupo\n",
    "service_account_path = 'tfm-sa.json'\n",
    "\n",
    "# Criar objeto de credenciais\n",
    "credentials = service_account.Credentials.from_service_account_file(service_account_path)"
   ]
  },
  {
   "cell_type": "code",
   "execution_count": 3,
   "metadata": {},
   "outputs": [],
   "source": [
    "project_id = 'perseverance-332400'\n",
    "dataset_id = 'TFM'\n",
    "table_id = 'ds_market'\n",
    "full_table_id = f'{project_id}.{dataset_id}.{table_id}'\n",
    "client = bigquery.Client(project='perseverance-332400', credentials=credentials)"
   ]
  },
  {
   "cell_type": "markdown",
   "metadata": {},
   "source": [
    "Total de vendas para cada loja, agrupadas por região e departamento, e calcule a contribuição percentual de cada loja para o total de vendas dentro do grupo."
   ]
  },
  {
   "cell_type": "code",
   "execution_count": null,
   "metadata": {},
   "outputs": [],
   "source": [
    "SELECT\n",
    "  region,\n",
    "  department,\n",
    "  store,\n",
    "  SUM(sales) AS total_sales,\n",
    "  (SUM(sales) / SUM(SUM(sales)) OVER (PARTITION BY region, department)) * 100 AS sales_contribution_percentage\n",
    "FROM\n",
    "  `TFM.ds_market`\n",
    "GROUP BY\n",
    "  region,\n",
    "  department,\n",
    "  store;"
   ]
  },
  {
   "cell_type": "markdown",
   "metadata": {},
   "source": [
    " Total de vendas para cada combinação de category_x e category_y, agrupadas por região e semana do ano, e calcule a contribuição percentual de cada combinação para o total de vendas dentro do grupo."
   ]
  },
  {
   "cell_type": "code",
   "execution_count": null,
   "metadata": {},
   "outputs": [],
   "source": [
    "SELECT\n",
    "  region,\n",
    "  yearweek,\n",
    "  category_x,\n",
    "  category_y,\n",
    "  SUM(sales) AS total_sales,\n",
    "  (SUM(sales) / SUM(SUM(sales)) OVER (PARTITION BY region, yearweek)) * 100 AS sales_contribution_percentage\n",
    "FROM\n",
    "  `TFM.ds_market`\n",
    "GROUP BY\n",
    "  region,\n",
    "  yearweek,\n",
    "  category_x,\n",
    "  category_y;"
   ]
  },
  {
   "cell_type": "markdown",
   "metadata": {},
   "source": [
    "Os 5 itens com as maiores vendas para uma determinada região e semana do ano, e calcule a contribuição percentual de cada item para o total de vendas dentro do grupo."
   ]
  },
  {
   "cell_type": "code",
   "execution_count": null,
   "metadata": {},
   "outputs": [],
   "source": [
    "SELECT\n",
    "  region,\n",
    "  yearweek,\n",
    "  item,\n",
    "  SUM(sales) AS total_sales,\n",
    "  (SUM(sales) / SUM(SUM(sales)) OVER (PARTITION BY region, yearweek)) * 100 AS sales_contribution_percentage\n",
    "FROM\n",
    "  `TFM.ds_market`\n",
    "WHERE\n",
    "  region = 'US'\n",
    "  AND yearweek = '2023-W01'\n",
    "GROUP BY\n",
    "  region,\n",
    "  yearweek,\n",
    "  item\n",
    "ORDER BY\n",
    "  total_sales DESC\n",
    "LIMIT\n",
    "  5;"
   ]
  },
  {
   "cell_type": "markdown",
   "metadata": {},
   "source": [
    "O total de vendas para cada loja, agrupadas por região e semana do ano, e calcule a variação percentual ano a ano nas vendas para cada loja."
   ]
  },
  {
   "cell_type": "code",
   "execution_count": null,
   "metadata": {},
   "outputs": [],
   "source": [
    "SELECT\n",
    "  region,\n",
    "  yearweek,\n",
    "  store,\n",
    "  SUM(sales) AS total_sales,\n",
    "  (SUM(sales) / SUM(SUM(sales)) OVER (PARTITION BY region)) * 100 AS sales_contribution_percentage\n",
    "FROM\n",
    "  `TFM.ds_market`\n",
    "GROUP BY\n",
    "  region,\n",
    "  yearweek,\n",
    "  store;"
   ]
  },
  {
   "cell_type": "markdown",
   "metadata": {},
   "source": [
    "As 5 lojas com as maiores vendas médias para uma determinada região e semana do ano."
   ]
  },
  {
   "cell_type": "code",
   "execution_count": null,
   "metadata": {},
   "outputs": [],
   "source": [
    "SELECT\n",
    "  region,\n",
    "  yearweek,\n",
    "  store,\n",
    "  AVG(sales) AS avg_sales\n",
    "FROM\n",
    "  `TFM.ds_market`\n",
    "WHERE\n",
    "  region = 'US'\n",
    "  AND yearweek = '2023-W01'\n",
    "GROUP BY\n",
    "  region,\n",
    "  yearweek,\n",
    "  store\n",
    "ORDER BY\n",
    "  avg_sales DESC\n",
    "LIMIT\n",
    "  5;"
   ]
  },
  {
   "cell_type": "markdown",
   "metadata": {},
   "source": [
    "Encontre a correlação entre vendas e preço de venda para cada região."
   ]
  },
  {
   "cell_type": "code",
   "execution_count": null,
   "metadata": {},
   "outputs": [],
   "source": [
    "SELECT\n",
    "  region,\n",
    "  CORR(sales, sell_price) AS sales_sell_price_corr\n",
    "FROM\n",
    "  `TFM.ds_market`\n",
    "GROUP BY\n",
    "  region;"
   ]
  },
  {
   "cell_type": "markdown",
   "metadata": {},
   "source": [
    "Encontre os 5 itens com as maiores vendas para uma determinada região e semana do ano."
   ]
  },
  {
   "cell_type": "code",
   "execution_count": null,
   "metadata": {},
   "outputs": [],
   "source": [
    "SELECT\n",
    "  item,\n",
    "  SUM(sales) AS total_sales\n",
    "FROM\n",
    "  `TFM.ds_market`\n",
    "WHERE\n",
    "  region = 'US'\n",
    "  AND yearweek = '2023-W01'\n",
    "GROUP BY\n",
    "  item\n",
    "ORDER BY\n",
    "  total_sales DESC\n",
    "LIMIT\n",
    "  5;"
   ]
  },
  {
   "cell_type": "markdown",
   "metadata": {},
   "source": [
    "Encontre o total de vendas para cada loja, agrupadas por região e departamento."
   ]
  },
  {
   "cell_type": "code",
   "execution_count": null,
   "metadata": {},
   "outputs": [],
   "source": [
    "SELECT\n",
    "  region,\n",
    "  department,\n",
    "  SUM(sales) AS total_sales\n",
    "FROM\n",
    "  `TFM.ds_market`\n",
    "GROUP BY\n",
    "  region,\n",
    "  department;"
   ]
  },
  {
   "cell_type": "markdown",
   "metadata": {},
   "source": [
    "Encontre o preço de venda médio para cada category_x, agrupado por região e semana do ano."
   ]
  },
  {
   "cell_type": "code",
   "execution_count": null,
   "metadata": {},
   "outputs": [],
   "source": [
    "SELECT\n",
    "  region,\n",
    "  category_y,\n",
    "  store,\n",
    "  MAX(sales) AS max_sales\n",
    "FROM\n",
    "  `TFM.ds_market`\n",
    "GROUP BY\n",
    "  region,\n",
    "  category_y,\n",
    "  store;"
   ]
  },
  {
   "cell_type": "markdown",
   "metadata": {},
   "source": [
    "Encontre o desvio padrão das vendas para cada loja, agrupadas por região e ano-semana."
   ]
  },
  {
   "cell_type": "code",
   "execution_count": null,
   "metadata": {},
   "outputs": [],
   "source": [
    "SELECT\n",
    "  region,\n",
    "  yearweek,\n",
    "  store,\n",
    "  STDDEV(sales) AS stddev_sales\n",
    "FROM\n",
    "  `TFM.ds_market`\n",
    "GROUP BY\n",
    "  region,\n",
    "  yearweek,\n",
    "  store;"
   ]
  },
  {
   "cell_type": "markdown",
   "metadata": {},
   "source": [
    "Calcule a média de vendas por região para cada ano-semana"
   ]
  },
  {
   "cell_type": "code",
   "execution_count": null,
   "metadata": {},
   "outputs": [],
   "source": [
    "SELECT\n",
    "  region,\n",
    "  yearweek,\n",
    "  AVG(sales) AS average_sales\n",
    "FROM\n",
    "  `TFM.ds_market`\n",
    "WHERE\n",
    "  date BETWEEN '2022-01-01'\n",
    "  AND '2022-12-31'\n",
    "GROUP BY\n",
    "  region,\n",
    "  yearweek;"
   ]
  },
  {
   "cell_type": "markdown",
   "metadata": {},
   "source": [
    "Encontre as vendas máximas para cada combinação de loja e categoria."
   ]
  },
  {
   "cell_type": "code",
   "execution_count": null,
   "metadata": {},
   "outputs": [],
   "source": [
    "SELECT\n",
    "  department,\n",
    "  STDDEV_SAMP(sales) AS sales_standard_deviation\n",
    "FROM\n",
    "  `TFM.ds_market`\n",
    "WHERE\n",
    "  date BETWEEN '2022-01-01'\n",
    "  AND '2022-12-31'\n",
    "GROUP BY\n",
    "  department;"
   ]
  },
  {
   "cell_type": "markdown",
   "metadata": {},
   "source": [
    "Encontre os 5 itens com o maior preço médio de venda"
   ]
  },
  {
   "cell_type": "code",
   "execution_count": null,
   "metadata": {},
   "outputs": [],
   "source": [
    "SELECT\n",
    "  item,\n",
    "  AVG(sell_price) AS average_sell_price\n",
    "FROM\n",
    "  `TFM.ds_market`\n",
    "WHERE\n",
    "  date BETWEEN '2022-01-01'\n",
    "  AND '2022-12-31'\n",
    "GROUP BY\n",
    "  item\n",
    "ORDER BY\n",
    "  average_sell_price DESC\n",
    "LIMIT\n",
    "  5;"
   ]
  },
  {
   "cell_type": "markdown",
   "metadata": {},
   "source": [
    " A correlação entre vendas e preço de venda"
   ]
  },
  {
   "cell_type": "code",
   "execution_count": null,
   "metadata": {},
   "outputs": [],
   "source": [
    "SELECT\n",
    "  CORR(sales, sell_price) AS sales_sell_price_correlation\n",
    "FROM\n",
    "  `TFM.ds_market`\n",
    "WHERE\n",
    "  date BETWEEN '2022-01-01'\n",
    "  AND '2022-12-31';"
   ]
  },
  {
   "cell_type": "markdown",
   "metadata": {},
   "source": [
    "Calcule a média de vendas por loja para cada combinação de região e ano-semana"
   ]
  },
  {
   "cell_type": "code",
   "execution_count": null,
   "metadata": {},
   "outputs": [],
   "source": [
    "SELECT\n",
    "  region,\n",
    "  yearweek,\n",
    "  store,\n",
    "  AVG(sales) AS average_sales\n",
    "FROM\n",
    "  `TFM.ds_market`\n",
    "WHERE\n",
    "  date BETWEEN '2022-01-01'\n",
    "  AND '2022-12-31'\n",
    "GROUP BY\n",
    "  region,\n",
    "  yearweek,\n",
    "  store;"
   ]
  },
  {
   "cell_type": "markdown",
   "metadata": {},
   "source": [
    " o preço médio de venda para cada combinação de categoria_x e código da loja."
   ]
  },
  {
   "cell_type": "code",
   "execution_count": null,
   "metadata": {},
   "outputs": [],
   "source": [
    "SELECT\n",
    "  category_x,\n",
    "  store_code,\n",
    "  AVG(sell_price) AS avg_sell_price\n",
    "FROM\n",
    "  `TFM.ds_market`\n",
    "GROUP BY\n",
    "  category_x,\n",
    "  store_code;"
   ]
  },
  {
   "cell_type": "markdown",
   "metadata": {},
   "source": [
    "Calcule o total de vendas para cada combinação de ano-semana e categoria_x, e classifique-os dentro de cada ano-semana"
   ]
  },
  {
   "cell_type": "code",
   "execution_count": null,
   "metadata": {},
   "outputs": [],
   "source": [
    "SELECT\n",
    "  region,\n",
    "  yearweek,\n",
    "  sales,\n",
    "  (sales - LAG(sales, 1, 0) OVER (PARTITION BY region ORDER BY yearweek)) * 100.0 / LAG(sales, 1, 0) OVER (PARTITION BY region ORDER BY yearweek) AS sales_change_percent\n",
    "FROM\n",
    "  `TFM.ds_market`\n",
    "WHERE\n",
    "  yearweek > '20230101';"
   ]
  },
  {
   "cell_type": "markdown",
   "metadata": {},
   "source": [
    "As vendas acumuladas para cada combinação de código da loja e categoria_y ao longo do tempo."
   ]
  },
  {
   "cell_type": "code",
   "execution_count": null,
   "metadata": {},
   "outputs": [],
   "source": [
    "SELECT\n",
    "  store_code,\n",
    "  category_y,\n",
    "  date,\n",
    "  SUM(sales) OVER (PARTITION BY store_code, category_y ORDER BY date) AS cumulative_sales\n",
    "FROM\n",
    "  `TFM.ds_market`\n",
    "ORDER BY\n",
    "  store_code,\n",
    "  category_y,\n",
    "  date;"
   ]
  },
  {
   "cell_type": "markdown",
   "metadata": {},
   "source": [
    "Calcule a média móvel de 7 dias das vendas para cada região."
   ]
  },
  {
   "cell_type": "code",
   "execution_count": null,
   "metadata": {},
   "outputs": [],
   "source": [
    "SELECT\n",
    "  region,\n",
    "  date,\n",
    "  AVG(sales) OVER (PARTITION BY region ORDER BY date ROWS BETWEEN 6 PRECEDING AND CURRENT ROW) AS moving_avg_sales\n",
    "FROM\n",
    "  `TFM.ds_market`\n",
    "ORDER BY\n",
    "  region,\n",
    "  date;"
   ]
  },
  {
   "cell_type": "markdown",
   "metadata": {},
   "source": [
    "O total de vendas para cada combinação de evento e departamento, e classifique-os dentro de cada evento"
   ]
  },
  {
   "cell_type": "code",
   "execution_count": null,
   "metadata": {},
   "outputs": [],
   "source": [
    "SELECT\n",
    "  event,\n",
    "  department,\n",
    "  SUM(sales) AS total_sales,\n",
    "  RANK() OVER (PARTITION BY event ORDER BY SUM(sales) DESC) AS sales_rank\n",
    "FROM\n",
    "  `TFM.ds_market`\n",
    "GROUP BY\n",
    "  event,\n",
    "  department\n",
    "ORDER BY\n",
    "  event,\n",
    "  sales_rank;"
   ]
  },
  {
   "cell_type": "markdown",
   "metadata": {},
   "source": [
    "Encontre as 3 regiões com o maior total de vendas para uma categoria específica."
   ]
  },
  {
   "cell_type": "code",
   "execution_count": null,
   "metadata": {},
   "outputs": [],
   "source": [
    "SELECT\n",
    "  region,\n",
    "  SUM(sales) AS total_sales\n",
    "FROM\n",
    "  `TFM.ds_market`\n",
    "WHERE\n",
    "  category_x = 'Category X'\n",
    "GROUP BY\n",
    "  region\n",
    "ORDER BY\n",
    "  total_sales DESC\n",
    "LIMIT\n",
    "  3;"
   ]
  },
  {
   "cell_type": "markdown",
   "metadata": {},
   "source": [
    "Encontre as 5 lojas com o maior preço médio de venda para um departamento específico"
   ]
  },
  {
   "cell_type": "code",
   "execution_count": null,
   "metadata": {},
   "outputs": [],
   "source": [
    "SELECT\n",
    "  store_code,\n",
    "  AVG(sell_price) AS avg_sell_price\n",
    "FROM\n",
    "  `TFM.ds_market`\n",
    "WHERE\n",
    "  department = 'Department X'\n",
    "GROUP BY\n",
    "  store_code\n",
    "ORDER BY\n",
    "  avg_sell_price DESC\n",
    "LIMIT\n",
    "  5;"
   ]
  },
  {
   "cell_type": "markdown",
   "metadata": {},
   "source": [
    "Encontre os 3 eventos com o maior total de vendas para um item específico"
   ]
  },
  {
   "cell_type": "code",
   "execution_count": null,
   "metadata": {},
   "outputs": [],
   "source": [
    "SELECT\n",
    "  event,\n",
    "  SUM(sales) AS total_sales\n",
    "FROM\n",
    "  `TFM.ds_market`\n",
    "WHERE\n",
    "  item = 'Item X'\n",
    "GROUP BY\n",
    "  event\n",
    "ORDER BY\n",
    "  total_sales DESC\n",
    "LIMIT\n",
    "  3;"
   ]
  },
  {
   "cell_type": "markdown",
   "metadata": {},
   "source": [
    "Encontre as 5 categorias com a maior média de vendas para uma loja específica"
   ]
  },
  {
   "cell_type": "code",
   "execution_count": null,
   "metadata": {},
   "outputs": [],
   "source": [
    "SELECT\n",
    "  category_x,\n",
    "  AVG(sales) AS avg_sales\n",
    "FROM\n",
    "  `TFM.ds_market`\n",
    "WHERE\n",
    "  store_code = 'Store X'\n",
    "GROUP BY\n",
    "  category_x\n",
    "ORDER BY\n",
    "  avg_sales DESC\n",
    "LIMIT\n",
    "  5;"
   ]
  }
 ],
 "metadata": {
  "kernelspec": {
   "display_name": "venv",
   "language": "python",
   "name": "python3"
  },
  "language_info": {
   "codemirror_mode": {
    "name": "ipython",
    "version": 3
   },
   "file_extension": ".py",
   "mimetype": "text/x-python",
   "name": "python",
   "nbconvert_exporter": "python",
   "pygments_lexer": "ipython3",
   "version": "3.11.7"
  }
 },
 "nbformat": 4,
 "nbformat_minor": 2
}
