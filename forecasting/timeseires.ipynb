{
 "cells": [
  {
   "cell_type": "markdown",
   "id": "be30f98b",
   "metadata": {},
   "source": [
    "# Forecasting com Eventos (Incluindo Natal)"
   ]
  },
  {
   "cell_type": "markdown",
   "id": "403ee442",
   "metadata": {},
   "source": [
    "## Importações e Configurações"
   ]
  },
  {
   "cell_type": "code",
   "execution_count": 1,
   "id": "4314da2c",
   "metadata": {},
   "outputs": [],
   "source": [
    "import os\n",
    "\n",
    "# Google Cloud Platform\n",
    "from google.cloud import bigquery\n",
    "from google.oauth2 import service_account\n",
    "\n",
    "# Bibliotecas para manipulação de dados\n",
    "import pandas as pd\n",
    "import numpy as np\n",
    "import matplotlib.pyplot as plt\n",
    "from dotenv import load_dotenv\n",
    "import seaborn as sns\n",
    "\n",
    "# Bibliotecas para modelagem\n",
    "from sklearn.preprocessing import LabelEncoder\n",
    "from sklearn.model_selection import TimeSeriesSplit\n",
    "from statsmodels.tsa.statespace.sarimax import SARIMAX\n",
    "from statsmodels.tsa.stattools import adfuller\n",
    "from pmdarima import auto_arima\n",
    "\n",
    "# Configurar parâmetros de exibição\n",
    "%matplotlib inline\n",
    "sns.set(style='whitegrid')"
   ]
  },
  {
   "cell_type": "markdown",
   "id": "70e4e4f6",
   "metadata": {},
   "source": [
    "## Conexão com o Banco de Dados"
   ]
  },
  {
   "cell_type": "code",
   "execution_count": 2,
   "id": "cddd500e",
   "metadata": {},
   "outputs": [],
   "source": [
    "# Caminho para o arquivo de chave da conta de serviço\n",
    "service_account_path = 'tfm-sa.json'\n",
    "\n",
    "# Criar objeto de credenciais\n",
    "credentials = service_account.Credentials.from_service_account_file(service_account_path)\n",
    "\n",
    "# Configurações do projeto e dataset\n",
    "project_id = 'perseverance-332400'\n",
    "dataset_id = 'TFM'\n",
    "table_id = 'ds_market'\n",
    "full_table_id = f'{project_id}.{dataset_id}.{table_id}'\n",
    "\n",
    "# Criar cliente BigQuery\n",
    "client = bigquery.Client(project=project_id, credentials=credentials)"
   ]
  },
  {
   "cell_type": "markdown",
   "id": "f371bbd1",
   "metadata": {},
   "source": [
    "## Carregamento e Preparação dos Dados"
   ]
  },
  {
   "cell_type": "code",
   "execution_count": null,
   "id": "ffecc38a",
   "metadata": {
    "lines_to_next_cell": 1
   },
   "outputs": [
    {
     "name": "stderr",
     "output_type": "stream",
     "text": [
      "c:\\Users\\rpiaz\\Desenvolvimento\\DSMarket\\.venv\\Lib\\site-packages\\google\\cloud\\bigquery\\table.py:1727: UserWarning: BigQuery Storage module not found, fetch data with the REST endpoint instead.\n",
      "  warnings.warn(\n"
     ]
    }
   ],
   "source": [
    "# Definir a consulta SQL para carregar os dados\n",
    "query = f\"\"\"\n",
    "SELECT *\n",
    "FROM `{full_table_id}`\n",
    "\"\"\"\n",
    "\n",
    "# Executar a consulta e carregar os dados em um DataFrame pandas\n",
    "df = client.query(query).to_dataframe()"
   ]
  },
  {
   "cell_type": "code",
   "execution_count": null,
   "id": "fb0d6086",
   "metadata": {},
   "outputs": [],
   "source": [
    "# Garantir que a coluna 'date' esteja em formato de data\n",
    "df['date'] = pd.to_datetime(df['date'])\n",
    "\n",
    "# Definir a coluna 'date' como índice\n",
    "df.set_index('date', inplace=True)\n",
    "\n",
    "# Verificar valores faltantes\n",
    "print(\"Valores faltantes por coluna:\")\n",
    "print(df.isnull().sum())"
   ]
  },
  {
   "cell_type": "markdown",
   "id": "98102697",
   "metadata": {},
   "source": [
    "## Inclusão do Evento \"Natal\""
   ]
  },
  {
   "cell_type": "code",
   "execution_count": null,
   "id": "24a2797b",
   "metadata": {},
   "outputs": [],
   "source": [
    "def adicionar_eventos(df):\n",
    "    if 'event' not in df.columns:\n",
    "        df['event'] = None\n",
    "    natal_dates = pd.to_datetime([\n",
    "        '2011-12-25', '2012-12-25', '2013-12-25',\n",
    "        '2014-12-25', '2015-12-25', '2016-12-25'\n",
    "    ])\n",
    "    df.loc[df.index.isin(natal_dates), 'event'] = 'Natal'\n",
    "    return df\n",
    "\n",
    "# Adicionar o evento \"Natal\"\n",
    "df = adicionar_eventos(df)\n",
    "\n",
    "# Codificar a coluna 'event' usando One-Hot Encoding\n",
    "df = pd.get_dummies(df, columns=['event'], dummy_na=True)"
   ]
  },
  {
   "cell_type": "markdown",
   "id": "bdd11502",
   "metadata": {},
   "source": [
    "## Selecionar os Top 10 Itens Mais Vendidos"
   ]
  },
  {
   "cell_type": "code",
   "execution_count": null,
   "id": "0faec730",
   "metadata": {},
   "outputs": [],
   "source": [
    "# Calcular as vendas totais por item\n",
    "top_items = df.groupby('item')['sales'].sum().sort_values(ascending=False).head(10).index\n",
    "\n",
    "# Filtrar o DataFrame para incluir apenas os top 10 itens\n",
    "df_top_items = df[df['item'].isin(top_items)]"
   ]
  },
  {
   "cell_type": "markdown",
   "id": "4cf6810c",
   "metadata": {},
   "source": [
    "## Análise por Loja"
   ]
  },
  {
   "cell_type": "code",
   "execution_count": null,
   "id": "03014661",
   "metadata": {},
   "outputs": [],
   "source": [
    "# Selecionar uma loja específica (por exemplo, 'Queen_Village')\n",
    "store_name = 'Queen_Village'\n",
    "df_store = df_top_items[df_top_items['store'] == store_name]"
   ]
  },
  {
   "cell_type": "markdown",
   "id": "9efc32e1",
   "metadata": {},
   "source": [
    "## Agregar Dados Mensalmente e Preparar Variáveis Exógenas"
   ]
  },
  {
   "cell_type": "code",
   "execution_count": null,
   "id": "268d57c6",
   "metadata": {
    "lines_to_next_cell": 1
   },
   "outputs": [],
   "source": [
    "# Agregar as vendas mensalmente por item\n",
    "monthly_sales = df_store.groupby([pd.Grouper(freq='M'), 'item']).sum().reset_index()\n",
    "\n",
    "# Identificar variáveis exógenas (eventos)\n",
    "exog_vars = [col for col in df.columns if 'event_' in col]\n",
    "\n",
    "# Agregar variáveis exógenas mensalmente\n",
    "monthly_exog = df_store[exog_vars].resample('M').sum().reset_index()\n",
    "\n",
    "# Combinar vendas agregadas com variáveis exógenas\n",
    "monthly_sales = monthly_sales.merge(monthly_exog, on='date', how='left')\n",
    "\n",
    "# Separar ano e mês para facilitar\n",
    "monthly_sales['year'] = monthly_sales['date'].dt.year\n",
    "monthly_sales['month'] = monthly_sales['date'].dt.month"
   ]
  },
  {
   "cell_type": "markdown",
   "id": "c7d94ff9",
   "metadata": {},
   "source": [
    "## Funções Auxiliares"
   ]
  },
  {
   "cell_type": "code",
   "execution_count": null,
   "id": "b02e2832",
   "metadata": {
    "lines_to_next_cell": 1
   },
   "outputs": [],
   "source": [
    "def verificar_estacionariedade(series):\n",
    "    result = adfuller(series)\n",
    "    print('Estatística ADF:', result[0])\n",
    "    print('p-value:', result[1])\n",
    "    for key, value in result[4].items():\n",
    "        print('Critério {}: {}'.format(key, value))\n",
    "\n",
    "def preparar_variaveis_exogenas_futuras(exog_vars, start_date, periods, freq='M'):\n",
    "    future_dates = pd.date_range(start=start_date, periods=periods, freq=freq)\n",
    "    future_exog = pd.DataFrame(index=future_dates)\n",
    "    for var in exog_vars:\n",
    "        future_exog[var] = 0  # Inicialmente zero\n",
    "    # Ajustar eventos futuros (por exemplo, Natal em dezembro)\n",
    "    future_exog['event_Natal'] = 0\n",
    "    future_exog.loc[future_exog.index.month == 12, 'event_Natal'] = 1\n",
    "    return future_exog"
   ]
  },
  {
   "cell_type": "markdown",
   "id": "c0e16678",
   "metadata": {},
   "source": [
    "## Função para Treinar o Modelo SARIMAX e Fazer Previsões"
   ]
  },
  {
   "cell_type": "code",
   "execution_count": 1,
   "id": "8d70ed6d",
   "metadata": {
    "lines_to_next_cell": 1
   },
   "outputs": [],
   "source": [
    "def train_and_forecast(item_df, item_name):\n",
    "    # Configurar o índice de data\n",
    "    item_df = item_df.set_index('date')\n",
    "    \n",
    "    # Separar as variáveis exógenas (eventos)\n",
    "    exog_vars = [col for col in item_df.columns if 'event_' in col]\n",
    "    \n",
    "    # Dividir em treino e teste\n",
    "    train = item_df[item_df['year'] < 2016]\n",
    "    test = item_df[item_df['year'] == 2016]\n",
    "    \n",
    "    # Preparar as variáveis dependentes e independentes\n",
    "    y_train = train['sales']\n",
    "    X_train = train[exog_vars]\n",
    "    y_test = test['sales']\n",
    "    X_test = test[exog_vars]\n",
    "    \n",
    "    # Verificar estacionariedade\n",
    "    print(f'\\nVerificando estacionariedade para o item: {item_name}')\n",
    "    verificar_estacionariedade(y_train)\n",
    "    \n",
    "    # Selecionar o melhor modelo usando auto_arima\n",
    "    print(f'\\nSelecionando o melhor modelo para o item: {item_name}')\n",
    "    stepwise_fit = auto_arima(\n",
    "        y_train,\n",
    "        exogenous=X_train,\n",
    "        start_p=0, start_q=0,\n",
    "        max_p=3, max_q=3,\n",
    "        m=12,  # Sazonalidade anual\n",
    "        seasonal=True,\n",
    "        d=1, D=1,\n",
    "        trace=False,\n",
    "        error_action='ignore',\n",
    "        suppress_warnings=True,\n",
    "        stepwise=True\n",
    "    )\n",
    "    \n",
    "    print(stepwise_fit.summary())\n",
    "    \n",
    "    # Fazer previsões no conjunto de teste\n",
    "    y_pred = stepwise_fit.predict(n_periods=len(y_test), exogenous=X_test)\n",
    "    \n",
    "    # Avaliar o modelo\n",
    "    mse = ((y_pred - y_test.values) ** 2).mean()\n",
    "    mae = np.mean(np.abs(y_pred - y_test.values))\n",
    "    print(f'\\nItem: {item_name} - MSE: {mse:.2f}, MAE: {mae:.2f}')\n",
    "    \n",
    "    # Plotar resultados\n",
    "    plt.figure(figsize=(12,6))\n",
    "    plt.plot(y_train.index, y_train, label='Treino')\n",
    "    plt.plot(y_test.index, y_test, label='Teste')\n",
    "    plt.plot(y_test.index, y_pred, label='Previsão')\n",
    "    plt.title(f'Previsão de Vendas para {item_name}')\n",
    "    plt.legend()\n",
    "    plt.show()\n",
    "    \n",
    "    # Fazer previsão para os próximos 12 meses\n",
    "    future_exog = preparar_variaveis_exogenas_futuras(\n",
    "        exog_vars, start_date=y_test.index[-1] + pd.DateOffset(months=1), periods=12\n",
    "    )\n",
    "    future_forecast = stepwise_fit.predict(n_periods=12, exogenous=future_exog)\n",
    "    \n",
    "    # Criar DataFrame com as previsões futuras\n",
    "    future_dates = future_exog.index\n",
    "    forecast_df = pd.DataFrame({'date': future_dates, 'forecast': future_forecast})\n",
    "    forecast_df.set_index('date', inplace=True)\n",
    "    \n",
    "    # Plotar previsões futuras\n",
    "    plt.figure(figsize=(12,6))\n",
    "    plt.plot(y_train.index, y_train, label='Treino')\n",
    "    plt.plot(y_test.index, y_test, label='Teste')\n",
    "    plt.plot(y_test.index, y_pred, label='Previsão')\n",
    "    plt.plot(forecast_df.index, forecast_df['forecast'], label='Previsão Futura')\n",
    "    plt.title(f'Previsão de Vendas Futura para {item_name}')\n",
    "    plt.legend()\n",
    "    plt.show()\n",
    "    \n",
    "    return forecast_df"
   ]
  },
  {
   "cell_type": "markdown",
   "id": "6c8ee1be",
   "metadata": {},
   "source": [
    "## Aplicar a Função para Cada Item"
   ]
  },
  {
   "cell_type": "code",
   "execution_count": null,
   "id": "ba10a9e1",
   "metadata": {},
   "outputs": [],
   "source": [
    "# Criar um dicionário para armazenar as previsões futuras\n",
    "future_forecasts = {}\n",
    "\n",
    "for item in top_items:\n",
    "    print(f'\\nTreinando modelo para o item: {item}')\n",
    "    item_data = monthly_sales[monthly_sales['item'] == item]\n",
    "    forecast = train_and_forecast(item_data, item)\n",
    "    future_forecasts[item] = forecast"
   ]
  },
  {
   "cell_type": "markdown",
   "id": "0eb5cfb5",
   "metadata": {},
   "source": [
    "## Análise dos Resultados"
   ]
  },
  {
   "cell_type": "code",
   "execution_count": null,
   "id": "08f0b882",
   "metadata": {},
   "outputs": [],
   "source": [
    "# Exibir a previsão futura para um item específico\n",
    "item_to_view = top_items[0]  # Primeiro item da lista\n",
    "print(f'\\nPrevisão para os próximos 12 meses para o item {item_to_view}:')\n",
    "print(future_forecasts[item_to_view])"
   ]
  },
  {
   "cell_type": "markdown",
   "id": "cfa9968e",
   "metadata": {},
   "source": [
    "## Previsão com Prophet"
   ]
  },
  {
   "cell_type": "code",
   "execution_count": null,
   "id": "517bdc26",
   "metadata": {},
   "outputs": [],
   "source": [
    "# Instalar o Prophet, se necessário\n",
    "%pip install prophet\n",
    "\n",
    "from prophet import Prophet\n",
    "\n",
    "def train_and_forecast_prophet(item_df, item_name):\n",
    "    # Preparar o DataFrame no formato esperado pelo Prophet\n",
    "    df_prophet = item_df.reset_index()[['date', 'sales']].rename(columns={'date': 'ds', 'sales': 'y'})\n",
    "    \n",
    "    # Adicionar eventos como regressores\n",
    "    exog_vars = [col for col in item_df.columns if 'event_' in col]\n",
    "    for var in exog_vars:\n",
    "        df_prophet[var] = item_df[var].values\n",
    "    \n",
    "    # Dividir em treino e teste\n",
    "    train = df_prophet[df_prophet['ds'].dt.year < 2016]\n",
    "    test = df_prophet[df_prophet['ds'].dt.year == 2016]\n",
    "    \n",
    "    # Configurar o modelo Prophet\n",
    "    model = Prophet()\n",
    "    for var in exog_vars:\n",
    "        model.add_regressor(var)\n",
    "    \n",
    "    # Treinar o modelo\n",
    "    model.fit(train)\n",
    "    \n",
    "    # Fazer previsões\n",
    "    future = model.make_future_dataframe(periods=12, freq='M')\n",
    "    for var in exog_vars:\n",
    "        future[var] = 0  # Inicialmente zero\n",
    "    # Ajustar eventos futuros (por exemplo, Natal em dezembro)\n",
    "    future['event_Natal'] = 0\n",
    "    future.loc[future['ds'].dt.month == 12, 'event_Natal'] = 1\n",
    "    \n",
    "    forecast = model.predict(future)\n",
    "    \n",
    "    # Plotar os resultados\n",
    "    model.plot(forecast)\n",
    "    plt.title(f'Previsão de Vendas para {item_name} usando Prophet')\n",
    "    plt.show()\n",
    "    \n",
    "    # Plotar componentes\n",
    "    model.plot_components(forecast)\n",
    "    plt.show()\n",
    "    \n",
    "    return forecast[['ds', 'yhat']]\n",
    "\n",
    "# Aplicar a função para um item\n",
    "print(f'\\nPrevisão com Prophet para o item: {item_to_view}')\n",
    "item_data = monthly_sales[monthly_sales['item'] == item_to_view]\n",
    "forecast_prophet = train_and_forecast_prophet(item_data, item_to_view)"
   ]
  }
 ],
 "metadata": {
  "jupytext": {
   "cell_metadata_filter": "-all",
   "main_language": "python",
   "notebook_metadata_filter": "-all"
  },
  "kernelspec": {
   "display_name": ".venv",
   "language": "python",
   "name": "python3"
  },
  "language_info": {
   "codemirror_mode": {
    "name": "ipython",
    "version": 3
   },
   "file_extension": ".py",
   "mimetype": "text/x-python",
   "name": "python",
   "nbconvert_exporter": "python",
   "pygments_lexer": "ipython3",
   "version": "3.12.3"
  }
 },
 "nbformat": 4,
 "nbformat_minor": 5
}
